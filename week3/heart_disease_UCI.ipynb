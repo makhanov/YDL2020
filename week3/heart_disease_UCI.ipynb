{
 "cells": [
  {
   "cell_type": "code",
   "execution_count": 1,
   "metadata": {},
   "outputs": [
    {
     "name": "stdout",
     "output_type": "stream",
     "text": [
      "Collecting catboost\n",
      "  Downloading catboost-0.23.2-cp37-none-macosx_10_6_intel.macosx_10_9_intel.macosx_10_9_x86_64.macosx_10_10_intel.macosx_10_10_x86_64.whl (10.9 MB)\n",
      "\u001b[K     |████████████████████████████████| 10.9 MB 853 kB/s eta 0:00:01\n",
      "\u001b[?25hCollecting plotly\n",
      "  Downloading plotly-4.9.0-py2.py3-none-any.whl (12.9 MB)\n",
      "\u001b[K     |████████████████████████████████| 12.9 MB 27 kB/s eta 0:00:011\n",
      "\u001b[?25hRequirement already satisfied: matplotlib in /Users/makhanov/opt/anaconda3/lib/python3.7/site-packages (from catboost) (3.2.2)\n",
      "Requirement already satisfied: numpy>=1.16.0 in /Users/makhanov/opt/anaconda3/lib/python3.7/site-packages (from catboost) (1.18.5)\n",
      "Requirement already satisfied: scipy in /Users/makhanov/opt/anaconda3/lib/python3.7/site-packages (from catboost) (1.5.0)\n",
      "Requirement already satisfied: six in /Users/makhanov/opt/anaconda3/lib/python3.7/site-packages (from catboost) (1.15.0)\n",
      "Requirement already satisfied: pandas>=0.24.0 in /Users/makhanov/opt/anaconda3/lib/python3.7/site-packages (from catboost) (1.0.5)\n",
      "Collecting graphviz\n",
      "  Downloading graphviz-0.14.1-py2.py3-none-any.whl (18 kB)\n",
      "Processing /Users/makhanov/Library/Caches/pip/wheels/d7/a9/33/acc7b709e2a35caa7d4cae442f6fe6fbf2c43f80823d46460c/retrying-1.3.3-cp37-none-any.whl\n",
      "Requirement already satisfied: python-dateutil>=2.1 in /Users/makhanov/opt/anaconda3/lib/python3.7/site-packages (from matplotlib->catboost) (2.8.1)\n",
      "Requirement already satisfied: cycler>=0.10 in /Users/makhanov/opt/anaconda3/lib/python3.7/site-packages (from matplotlib->catboost) (0.10.0)\n",
      "Requirement already satisfied: pyparsing!=2.0.4,!=2.1.2,!=2.1.6,>=2.0.1 in /Users/makhanov/opt/anaconda3/lib/python3.7/site-packages (from matplotlib->catboost) (2.4.7)\n",
      "Requirement already satisfied: kiwisolver>=1.0.1 in /Users/makhanov/opt/anaconda3/lib/python3.7/site-packages (from matplotlib->catboost) (1.2.0)\n",
      "Requirement already satisfied: pytz>=2017.2 in /Users/makhanov/opt/anaconda3/lib/python3.7/site-packages (from pandas>=0.24.0->catboost) (2020.1)\n",
      "Installing collected packages: retrying, plotly, graphviz, catboost\n",
      "Successfully installed catboost-0.23.2 graphviz-0.14.1 plotly-4.9.0 retrying-1.3.3\n"
     ]
    }
   ],
   "source": [
    "!pip install catboost"
   ]
  },
  {
   "cell_type": "code",
   "execution_count": 2,
   "metadata": {},
   "outputs": [],
   "source": [
    "import catboost\n",
    "from catboost import datasets"
   ]
  },
  {
   "cell_type": "code",
   "execution_count": 3,
   "metadata": {},
   "outputs": [],
   "source": [
    "train_df, test_df = datasets.amazon()"
   ]
  },
  {
   "cell_type": "code",
   "execution_count": 4,
   "metadata": {},
   "outputs": [
    {
     "data": {
      "text/html": [
       "<div>\n",
       "<style scoped>\n",
       "    .dataframe tbody tr th:only-of-type {\n",
       "        vertical-align: middle;\n",
       "    }\n",
       "\n",
       "    .dataframe tbody tr th {\n",
       "        vertical-align: top;\n",
       "    }\n",
       "\n",
       "    .dataframe thead th {\n",
       "        text-align: right;\n",
       "    }\n",
       "</style>\n",
       "<table border=\"1\" class=\"dataframe\">\n",
       "  <thead>\n",
       "    <tr style=\"text-align: right;\">\n",
       "      <th></th>\n",
       "      <th>ACTION</th>\n",
       "      <th>RESOURCE</th>\n",
       "      <th>MGR_ID</th>\n",
       "      <th>ROLE_ROLLUP_1</th>\n",
       "      <th>ROLE_ROLLUP_2</th>\n",
       "      <th>ROLE_DEPTNAME</th>\n",
       "      <th>ROLE_TITLE</th>\n",
       "      <th>ROLE_FAMILY_DESC</th>\n",
       "      <th>ROLE_FAMILY</th>\n",
       "      <th>ROLE_CODE</th>\n",
       "    </tr>\n",
       "  </thead>\n",
       "  <tbody>\n",
       "    <tr>\n",
       "      <th>0</th>\n",
       "      <td>1</td>\n",
       "      <td>39353</td>\n",
       "      <td>85475</td>\n",
       "      <td>117961</td>\n",
       "      <td>118300</td>\n",
       "      <td>123472</td>\n",
       "      <td>117905</td>\n",
       "      <td>117906</td>\n",
       "      <td>290919</td>\n",
       "      <td>117908</td>\n",
       "    </tr>\n",
       "    <tr>\n",
       "      <th>1</th>\n",
       "      <td>1</td>\n",
       "      <td>17183</td>\n",
       "      <td>1540</td>\n",
       "      <td>117961</td>\n",
       "      <td>118343</td>\n",
       "      <td>123125</td>\n",
       "      <td>118536</td>\n",
       "      <td>118536</td>\n",
       "      <td>308574</td>\n",
       "      <td>118539</td>\n",
       "    </tr>\n",
       "    <tr>\n",
       "      <th>2</th>\n",
       "      <td>1</td>\n",
       "      <td>36724</td>\n",
       "      <td>14457</td>\n",
       "      <td>118219</td>\n",
       "      <td>118220</td>\n",
       "      <td>117884</td>\n",
       "      <td>117879</td>\n",
       "      <td>267952</td>\n",
       "      <td>19721</td>\n",
       "      <td>117880</td>\n",
       "    </tr>\n",
       "    <tr>\n",
       "      <th>3</th>\n",
       "      <td>1</td>\n",
       "      <td>36135</td>\n",
       "      <td>5396</td>\n",
       "      <td>117961</td>\n",
       "      <td>118343</td>\n",
       "      <td>119993</td>\n",
       "      <td>118321</td>\n",
       "      <td>240983</td>\n",
       "      <td>290919</td>\n",
       "      <td>118322</td>\n",
       "    </tr>\n",
       "    <tr>\n",
       "      <th>4</th>\n",
       "      <td>1</td>\n",
       "      <td>42680</td>\n",
       "      <td>5905</td>\n",
       "      <td>117929</td>\n",
       "      <td>117930</td>\n",
       "      <td>119569</td>\n",
       "      <td>119323</td>\n",
       "      <td>123932</td>\n",
       "      <td>19793</td>\n",
       "      <td>119325</td>\n",
       "    </tr>\n",
       "  </tbody>\n",
       "</table>\n",
       "</div>"
      ],
      "text/plain": [
       "   ACTION  RESOURCE  MGR_ID  ROLE_ROLLUP_1  ROLE_ROLLUP_2  ROLE_DEPTNAME  \\\n",
       "0       1     39353   85475         117961         118300         123472   \n",
       "1       1     17183    1540         117961         118343         123125   \n",
       "2       1     36724   14457         118219         118220         117884   \n",
       "3       1     36135    5396         117961         118343         119993   \n",
       "4       1     42680    5905         117929         117930         119569   \n",
       "\n",
       "   ROLE_TITLE  ROLE_FAMILY_DESC  ROLE_FAMILY  ROLE_CODE  \n",
       "0      117905            117906       290919     117908  \n",
       "1      118536            118536       308574     118539  \n",
       "2      117879            267952        19721     117880  \n",
       "3      118321            240983       290919     118322  \n",
       "4      119323            123932        19793     119325  "
      ]
     },
     "execution_count": 4,
     "metadata": {},
     "output_type": "execute_result"
    }
   ],
   "source": [
    "train_df.head()"
   ]
  },
  {
   "cell_type": "code",
   "execution_count": 5,
   "metadata": {},
   "outputs": [
    {
     "data": {
      "text/plain": [
       "1    30872\n",
       "0     1897\n",
       "Name: ACTION, dtype: int64"
      ]
     },
     "execution_count": 5,
     "metadata": {},
     "output_type": "execute_result"
    }
   ],
   "source": [
    "train_df['ACTION'].value_counts()"
   ]
  },
  {
   "cell_type": "code",
   "execution_count": 6,
   "metadata": {},
   "outputs": [],
   "source": [
    "from catboost import CatBoostClassifier"
   ]
  },
  {
   "cell_type": "code",
   "execution_count": 7,
   "metadata": {},
   "outputs": [],
   "source": [
    "y = train_df['ACTION']\n",
    "X = train_df.drop('ACTION', axis=1)"
   ]
  },
  {
   "cell_type": "code",
   "execution_count": 8,
   "metadata": {},
   "outputs": [
    {
     "data": {
      "text/html": [
       "<div>\n",
       "<style scoped>\n",
       "    .dataframe tbody tr th:only-of-type {\n",
       "        vertical-align: middle;\n",
       "    }\n",
       "\n",
       "    .dataframe tbody tr th {\n",
       "        vertical-align: top;\n",
       "    }\n",
       "\n",
       "    .dataframe thead th {\n",
       "        text-align: right;\n",
       "    }\n",
       "</style>\n",
       "<table border=\"1\" class=\"dataframe\">\n",
       "  <thead>\n",
       "    <tr style=\"text-align: right;\">\n",
       "      <th></th>\n",
       "      <th>id</th>\n",
       "      <th>RESOURCE</th>\n",
       "      <th>MGR_ID</th>\n",
       "      <th>ROLE_ROLLUP_1</th>\n",
       "      <th>ROLE_ROLLUP_2</th>\n",
       "      <th>ROLE_DEPTNAME</th>\n",
       "      <th>ROLE_TITLE</th>\n",
       "      <th>ROLE_FAMILY_DESC</th>\n",
       "      <th>ROLE_FAMILY</th>\n",
       "      <th>ROLE_CODE</th>\n",
       "    </tr>\n",
       "  </thead>\n",
       "  <tbody>\n",
       "    <tr>\n",
       "      <th>0</th>\n",
       "      <td>1</td>\n",
       "      <td>78766</td>\n",
       "      <td>72734</td>\n",
       "      <td>118079</td>\n",
       "      <td>118080</td>\n",
       "      <td>117878</td>\n",
       "      <td>117879</td>\n",
       "      <td>118177</td>\n",
       "      <td>19721</td>\n",
       "      <td>117880</td>\n",
       "    </tr>\n",
       "    <tr>\n",
       "      <th>1</th>\n",
       "      <td>2</td>\n",
       "      <td>40644</td>\n",
       "      <td>4378</td>\n",
       "      <td>117961</td>\n",
       "      <td>118327</td>\n",
       "      <td>118507</td>\n",
       "      <td>118863</td>\n",
       "      <td>122008</td>\n",
       "      <td>118398</td>\n",
       "      <td>118865</td>\n",
       "    </tr>\n",
       "    <tr>\n",
       "      <th>2</th>\n",
       "      <td>3</td>\n",
       "      <td>75443</td>\n",
       "      <td>2395</td>\n",
       "      <td>117961</td>\n",
       "      <td>118300</td>\n",
       "      <td>119488</td>\n",
       "      <td>118172</td>\n",
       "      <td>301534</td>\n",
       "      <td>249618</td>\n",
       "      <td>118175</td>\n",
       "    </tr>\n",
       "    <tr>\n",
       "      <th>3</th>\n",
       "      <td>4</td>\n",
       "      <td>43219</td>\n",
       "      <td>19986</td>\n",
       "      <td>117961</td>\n",
       "      <td>118225</td>\n",
       "      <td>118403</td>\n",
       "      <td>120773</td>\n",
       "      <td>136187</td>\n",
       "      <td>118960</td>\n",
       "      <td>120774</td>\n",
       "    </tr>\n",
       "    <tr>\n",
       "      <th>4</th>\n",
       "      <td>5</td>\n",
       "      <td>42093</td>\n",
       "      <td>50015</td>\n",
       "      <td>117961</td>\n",
       "      <td>118343</td>\n",
       "      <td>119598</td>\n",
       "      <td>118422</td>\n",
       "      <td>300136</td>\n",
       "      <td>118424</td>\n",
       "      <td>118425</td>\n",
       "    </tr>\n",
       "  </tbody>\n",
       "</table>\n",
       "</div>"
      ],
      "text/plain": [
       "   id  RESOURCE  MGR_ID  ROLE_ROLLUP_1  ROLE_ROLLUP_2  ROLE_DEPTNAME  \\\n",
       "0   1     78766   72734         118079         118080         117878   \n",
       "1   2     40644    4378         117961         118327         118507   \n",
       "2   3     75443    2395         117961         118300         119488   \n",
       "3   4     43219   19986         117961         118225         118403   \n",
       "4   5     42093   50015         117961         118343         119598   \n",
       "\n",
       "   ROLE_TITLE  ROLE_FAMILY_DESC  ROLE_FAMILY  ROLE_CODE  \n",
       "0      117879            118177        19721     117880  \n",
       "1      118863            122008       118398     118865  \n",
       "2      118172            301534       249618     118175  \n",
       "3      120773            136187       118960     120774  \n",
       "4      118422            300136       118424     118425  "
      ]
     },
     "execution_count": 8,
     "metadata": {},
     "output_type": "execute_result"
    }
   ],
   "source": [
    "test_df.head()"
   ]
  },
  {
   "cell_type": "code",
   "execution_count": 9,
   "metadata": {},
   "outputs": [],
   "source": [
    "X_test = test_df.drop('id', axis=1)"
   ]
  },
  {
   "cell_type": "code",
   "execution_count": 10,
   "metadata": {},
   "outputs": [],
   "source": [
    "from sklearn.model_selection import train_test_split\n",
    "\n",
    "X_train, X_valid, y_train, y_valid = train_test_split(X, y, test_size=0.2, random_state=42)"
   ]
  },
  {
   "cell_type": "code",
   "execution_count": 13,
   "metadata": {},
   "outputs": [
    {
     "name": "stdout",
     "output_type": "stream",
     "text": [
      "Learning rate set to 0.071005\n",
      "0:\tlearn: 0.6099198\ttest: 0.6097628\tbest: 0.6097628 (0)\ttotal: 13.9ms\tremaining: 13.8s\n",
      "1:\tlearn: 0.5412272\ttest: 0.5408118\tbest: 0.5408118 (1)\ttotal: 25.6ms\tremaining: 12.8s\n",
      "2:\tlearn: 0.4834911\ttest: 0.4830140\tbest: 0.4830140 (2)\ttotal: 37ms\tremaining: 12.3s\n",
      "3:\tlearn: 0.4371897\ttest: 0.4364180\tbest: 0.4364180 (3)\ttotal: 46.7ms\tremaining: 11.6s\n",
      "4:\tlearn: 0.3979988\ttest: 0.3969558\tbest: 0.3969558 (4)\ttotal: 56.2ms\tremaining: 11.2s\n",
      "5:\tlearn: 0.3665939\ttest: 0.3655586\tbest: 0.3655586 (5)\ttotal: 72.9ms\tremaining: 12.1s\n",
      "6:\tlearn: 0.3410630\ttest: 0.3398782\tbest: 0.3398782 (6)\ttotal: 84.4ms\tremaining: 12s\n",
      "7:\tlearn: 0.3198427\ttest: 0.3185015\tbest: 0.3185015 (7)\ttotal: 94.1ms\tremaining: 11.7s\n",
      "8:\tlearn: 0.3022968\ttest: 0.3008810\tbest: 0.3008810 (8)\ttotal: 104ms\tremaining: 11.4s\n",
      "9:\tlearn: 0.2878703\ttest: 0.2864167\tbest: 0.2864167 (9)\ttotal: 113ms\tremaining: 11.2s\n",
      "10:\tlearn: 0.2762890\ttest: 0.2747027\tbest: 0.2747027 (10)\ttotal: 123ms\tremaining: 11s\n",
      "11:\tlearn: 0.2656527\ttest: 0.2639872\tbest: 0.2639872 (11)\ttotal: 132ms\tremaining: 10.9s\n",
      "12:\tlearn: 0.2574297\ttest: 0.2558531\tbest: 0.2558531 (12)\ttotal: 142ms\tremaining: 10.8s\n",
      "13:\tlearn: 0.2501898\ttest: 0.2486553\tbest: 0.2486553 (13)\ttotal: 152ms\tremaining: 10.7s\n",
      "14:\tlearn: 0.2447485\ttest: 0.2431117\tbest: 0.2431117 (14)\ttotal: 162ms\tremaining: 10.7s\n",
      "15:\tlearn: 0.2396947\ttest: 0.2379932\tbest: 0.2379932 (15)\ttotal: 173ms\tremaining: 10.6s\n",
      "16:\tlearn: 0.2352873\ttest: 0.2336430\tbest: 0.2336430 (16)\ttotal: 184ms\tremaining: 10.7s\n",
      "17:\tlearn: 0.2314885\ttest: 0.2299245\tbest: 0.2299245 (17)\ttotal: 194ms\tremaining: 10.6s\n",
      "18:\tlearn: 0.2281494\ttest: 0.2265406\tbest: 0.2265406 (18)\ttotal: 206ms\tremaining: 10.6s\n",
      "19:\tlearn: 0.2254410\ttest: 0.2238728\tbest: 0.2238728 (19)\ttotal: 223ms\tremaining: 10.9s\n",
      "20:\tlearn: 0.2229088\ttest: 0.2214551\tbest: 0.2214551 (20)\ttotal: 234ms\tremaining: 10.9s\n",
      "21:\tlearn: 0.2208611\ttest: 0.2194077\tbest: 0.2194077 (21)\ttotal: 244ms\tremaining: 10.9s\n",
      "22:\tlearn: 0.2190423\ttest: 0.2176126\tbest: 0.2176126 (22)\ttotal: 254ms\tremaining: 10.8s\n",
      "23:\tlearn: 0.2175502\ttest: 0.2161148\tbest: 0.2161148 (23)\ttotal: 263ms\tremaining: 10.7s\n",
      "24:\tlearn: 0.2156691\ttest: 0.2145684\tbest: 0.2145684 (24)\ttotal: 273ms\tremaining: 10.7s\n",
      "25:\tlearn: 0.2143336\ttest: 0.2133015\tbest: 0.2133015 (25)\ttotal: 283ms\tremaining: 10.6s\n",
      "26:\tlearn: 0.2133026\ttest: 0.2122140\tbest: 0.2122140 (26)\ttotal: 292ms\tremaining: 10.5s\n",
      "27:\tlearn: 0.2120455\ttest: 0.2111373\tbest: 0.2111373 (27)\ttotal: 303ms\tremaining: 10.5s\n",
      "28:\tlearn: 0.2112245\ttest: 0.2103923\tbest: 0.2103923 (28)\ttotal: 314ms\tremaining: 10.5s\n",
      "29:\tlearn: 0.2103728\ttest: 0.2096572\tbest: 0.2096572 (29)\ttotal: 325ms\tremaining: 10.5s\n",
      "30:\tlearn: 0.2096248\ttest: 0.2090406\tbest: 0.2090406 (30)\ttotal: 336ms\tremaining: 10.5s\n",
      "31:\tlearn: 0.2090428\ttest: 0.2084947\tbest: 0.2084947 (31)\ttotal: 345ms\tremaining: 10.4s\n",
      "32:\tlearn: 0.2081519\ttest: 0.2078189\tbest: 0.2078189 (32)\ttotal: 355ms\tremaining: 10.4s\n",
      "33:\tlearn: 0.2075111\ttest: 0.2073264\tbest: 0.2073264 (33)\ttotal: 365ms\tremaining: 10.4s\n",
      "34:\tlearn: 0.2069625\ttest: 0.2068111\tbest: 0.2068111 (34)\ttotal: 375ms\tremaining: 10.3s\n",
      "35:\tlearn: 0.2063854\ttest: 0.2063233\tbest: 0.2063233 (35)\ttotal: 385ms\tremaining: 10.3s\n",
      "36:\tlearn: 0.2057905\ttest: 0.2058326\tbest: 0.2058326 (36)\ttotal: 397ms\tremaining: 10.3s\n",
      "37:\tlearn: 0.2051799\ttest: 0.2054218\tbest: 0.2054218 (37)\ttotal: 408ms\tremaining: 10.3s\n",
      "38:\tlearn: 0.2045243\ttest: 0.2050238\tbest: 0.2050238 (38)\ttotal: 420ms\tremaining: 10.3s\n",
      "39:\tlearn: 0.2040243\ttest: 0.2045246\tbest: 0.2045246 (39)\ttotal: 430ms\tremaining: 10.3s\n",
      "40:\tlearn: 0.2035461\ttest: 0.2043225\tbest: 0.2043225 (40)\ttotal: 439ms\tremaining: 10.3s\n",
      "41:\tlearn: 0.2029926\ttest: 0.2038480\tbest: 0.2038480 (41)\ttotal: 449ms\tremaining: 10.2s\n",
      "42:\tlearn: 0.2024479\ttest: 0.2033817\tbest: 0.2033817 (42)\ttotal: 459ms\tremaining: 10.2s\n",
      "43:\tlearn: 0.2019611\ttest: 0.2029659\tbest: 0.2029659 (43)\ttotal: 469ms\tremaining: 10.2s\n",
      "44:\tlearn: 0.2014262\ttest: 0.2026226\tbest: 0.2026226 (44)\ttotal: 479ms\tremaining: 10.2s\n",
      "45:\tlearn: 0.2010886\ttest: 0.2023896\tbest: 0.2023896 (45)\ttotal: 491ms\tremaining: 10.2s\n",
      "46:\tlearn: 0.2006737\ttest: 0.2021521\tbest: 0.2021521 (46)\ttotal: 501ms\tremaining: 10.2s\n",
      "47:\tlearn: 0.2003595\ttest: 0.2018478\tbest: 0.2018478 (47)\ttotal: 512ms\tremaining: 10.2s\n",
      "48:\tlearn: 0.1998841\ttest: 0.2013889\tbest: 0.2013889 (48)\ttotal: 524ms\tremaining: 10.2s\n",
      "49:\tlearn: 0.1993471\ttest: 0.2011124\tbest: 0.2011124 (49)\ttotal: 536ms\tremaining: 10.2s\n",
      "50:\tlearn: 0.1988342\ttest: 0.2008907\tbest: 0.2008907 (50)\ttotal: 546ms\tremaining: 10.2s\n",
      "51:\tlearn: 0.1983041\ttest: 0.2003099\tbest: 0.2003099 (51)\ttotal: 557ms\tremaining: 10.2s\n",
      "52:\tlearn: 0.1978347\ttest: 0.1999944\tbest: 0.1999944 (52)\ttotal: 568ms\tremaining: 10.2s\n",
      "53:\tlearn: 0.1975141\ttest: 0.1998294\tbest: 0.1998294 (53)\ttotal: 579ms\tremaining: 10.1s\n",
      "54:\tlearn: 0.1971362\ttest: 0.1996550\tbest: 0.1996550 (54)\ttotal: 590ms\tremaining: 10.1s\n",
      "55:\tlearn: 0.1967930\ttest: 0.1995492\tbest: 0.1995492 (55)\ttotal: 605ms\tremaining: 10.2s\n",
      "56:\tlearn: 0.1960705\ttest: 0.1990576\tbest: 0.1990576 (56)\ttotal: 616ms\tremaining: 10.2s\n",
      "57:\tlearn: 0.1957904\ttest: 0.1989332\tbest: 0.1989332 (57)\ttotal: 628ms\tremaining: 10.2s\n",
      "58:\tlearn: 0.1954282\ttest: 0.1987439\tbest: 0.1987439 (58)\ttotal: 639ms\tremaining: 10.2s\n",
      "59:\tlearn: 0.1951812\ttest: 0.1987168\tbest: 0.1987168 (59)\ttotal: 650ms\tremaining: 10.2s\n",
      "60:\tlearn: 0.1947833\ttest: 0.1983414\tbest: 0.1983414 (60)\ttotal: 662ms\tremaining: 10.2s\n",
      "61:\tlearn: 0.1944742\ttest: 0.1982099\tbest: 0.1982099 (61)\ttotal: 673ms\tremaining: 10.2s\n",
      "62:\tlearn: 0.1940672\ttest: 0.1978589\tbest: 0.1978589 (62)\ttotal: 684ms\tremaining: 10.2s\n",
      "63:\tlearn: 0.1938570\ttest: 0.1976939\tbest: 0.1976939 (63)\ttotal: 696ms\tremaining: 10.2s\n",
      "64:\tlearn: 0.1934351\ttest: 0.1974320\tbest: 0.1974320 (64)\ttotal: 707ms\tremaining: 10.2s\n",
      "65:\tlearn: 0.1930932\ttest: 0.1972597\tbest: 0.1972597 (65)\ttotal: 719ms\tremaining: 10.2s\n",
      "66:\tlearn: 0.1927663\ttest: 0.1970475\tbest: 0.1970475 (66)\ttotal: 730ms\tremaining: 10.2s\n",
      "67:\tlearn: 0.1925290\ttest: 0.1969646\tbest: 0.1969646 (67)\ttotal: 740ms\tremaining: 10.1s\n",
      "68:\tlearn: 0.1923682\ttest: 0.1969046\tbest: 0.1969046 (68)\ttotal: 750ms\tremaining: 10.1s\n",
      "69:\tlearn: 0.1919131\ttest: 0.1965535\tbest: 0.1965535 (69)\ttotal: 760ms\tremaining: 10.1s\n",
      "70:\tlearn: 0.1916904\ttest: 0.1963878\tbest: 0.1963878 (70)\ttotal: 770ms\tremaining: 10.1s\n",
      "71:\tlearn: 0.1913647\ttest: 0.1960256\tbest: 0.1960256 (71)\ttotal: 779ms\tremaining: 10s\n",
      "72:\tlearn: 0.1911519\ttest: 0.1959139\tbest: 0.1959139 (72)\ttotal: 792ms\tremaining: 10.1s\n",
      "73:\tlearn: 0.1908873\ttest: 0.1956182\tbest: 0.1956182 (73)\ttotal: 804ms\tremaining: 10.1s\n",
      "74:\tlearn: 0.1906482\ttest: 0.1954684\tbest: 0.1954684 (74)\ttotal: 818ms\tremaining: 10.1s\n",
      "75:\tlearn: 0.1903637\ttest: 0.1952435\tbest: 0.1952435 (75)\ttotal: 828ms\tremaining: 10.1s\n",
      "76:\tlearn: 0.1900940\ttest: 0.1950666\tbest: 0.1950666 (76)\ttotal: 838ms\tremaining: 10s\n",
      "77:\tlearn: 0.1898211\ttest: 0.1949013\tbest: 0.1949013 (77)\ttotal: 848ms\tremaining: 10s\n",
      "78:\tlearn: 0.1896524\ttest: 0.1948010\tbest: 0.1948010 (78)\ttotal: 858ms\tremaining: 10s\n",
      "79:\tlearn: 0.1893432\ttest: 0.1946639\tbest: 0.1946639 (79)\ttotal: 868ms\tremaining: 9.98s\n",
      "80:\tlearn: 0.1890899\ttest: 0.1944787\tbest: 0.1944787 (80)\ttotal: 877ms\tremaining: 9.95s\n",
      "81:\tlearn: 0.1887669\ttest: 0.1943847\tbest: 0.1943847 (81)\ttotal: 887ms\tremaining: 9.93s\n",
      "82:\tlearn: 0.1884865\ttest: 0.1942404\tbest: 0.1942404 (82)\ttotal: 896ms\tremaining: 9.9s\n",
      "83:\tlearn: 0.1882682\ttest: 0.1942152\tbest: 0.1942152 (83)\ttotal: 907ms\tremaining: 9.89s\n",
      "84:\tlearn: 0.1878427\ttest: 0.1938851\tbest: 0.1938851 (84)\ttotal: 918ms\tremaining: 9.88s\n",
      "85:\tlearn: 0.1874302\ttest: 0.1935580\tbest: 0.1935580 (85)\ttotal: 928ms\tremaining: 9.87s\n",
      "86:\tlearn: 0.1871502\ttest: 0.1933578\tbest: 0.1933578 (86)\ttotal: 938ms\tremaining: 9.85s\n",
      "87:\tlearn: 0.1868984\ttest: 0.1930201\tbest: 0.1930201 (87)\ttotal: 948ms\tremaining: 9.82s\n",
      "88:\tlearn: 0.1865791\ttest: 0.1928073\tbest: 0.1928073 (88)\ttotal: 958ms\tremaining: 9.81s\n",
      "89:\tlearn: 0.1863234\ttest: 0.1927238\tbest: 0.1927238 (89)\ttotal: 968ms\tremaining: 9.79s\n",
      "90:\tlearn: 0.1860799\ttest: 0.1926159\tbest: 0.1926159 (90)\ttotal: 981ms\tremaining: 9.79s\n",
      "91:\tlearn: 0.1858161\ttest: 0.1924425\tbest: 0.1924425 (91)\ttotal: 991ms\tremaining: 9.78s\n",
      "92:\tlearn: 0.1855551\ttest: 0.1922325\tbest: 0.1922325 (92)\ttotal: 1s\tremaining: 9.8s\n",
      "93:\tlearn: 0.1853036\ttest: 0.1920056\tbest: 0.1920056 (93)\ttotal: 1.02s\tremaining: 9.8s\n",
      "94:\tlearn: 0.1851054\ttest: 0.1918922\tbest: 0.1918922 (94)\ttotal: 1.03s\tremaining: 9.82s\n",
      "95:\tlearn: 0.1847378\ttest: 0.1916305\tbest: 0.1916305 (95)\ttotal: 1.04s\tremaining: 9.84s\n",
      "96:\tlearn: 0.1845526\ttest: 0.1915278\tbest: 0.1915278 (96)\ttotal: 1.06s\tremaining: 9.87s\n",
      "97:\tlearn: 0.1842945\ttest: 0.1912923\tbest: 0.1912923 (97)\ttotal: 1.08s\tremaining: 9.91s\n",
      "98:\tlearn: 0.1840892\ttest: 0.1910962\tbest: 0.1910962 (98)\ttotal: 1.09s\tremaining: 9.9s\n",
      "99:\tlearn: 0.1838655\ttest: 0.1910183\tbest: 0.1910183 (99)\ttotal: 1.1s\tremaining: 9.95s\n",
      "100:\tlearn: 0.1837353\ttest: 0.1910171\tbest: 0.1910171 (100)\ttotal: 1.12s\tremaining: 10s\n",
      "101:\tlearn: 0.1836053\ttest: 0.1909424\tbest: 0.1909424 (101)\ttotal: 1.14s\tremaining: 10s\n",
      "102:\tlearn: 0.1834219\ttest: 0.1909084\tbest: 0.1909084 (102)\ttotal: 1.16s\tremaining: 10.1s\n",
      "103:\tlearn: 0.1832489\ttest: 0.1907958\tbest: 0.1907958 (103)\ttotal: 1.17s\tremaining: 10s\n",
      "104:\tlearn: 0.1831004\ttest: 0.1907745\tbest: 0.1907745 (104)\ttotal: 1.18s\tremaining: 10s\n",
      "105:\tlearn: 0.1828141\ttest: 0.1906110\tbest: 0.1906110 (105)\ttotal: 1.19s\tremaining: 10s\n"
     ]
    },
    {
     "name": "stdout",
     "output_type": "stream",
     "text": [
      "106:\tlearn: 0.1825245\ttest: 0.1904472\tbest: 0.1904472 (106)\ttotal: 1.21s\tremaining: 10.1s\n",
      "107:\tlearn: 0.1823724\ttest: 0.1903841\tbest: 0.1903841 (107)\ttotal: 1.23s\tremaining: 10.1s\n",
      "108:\tlearn: 0.1821242\ttest: 0.1902078\tbest: 0.1902078 (108)\ttotal: 1.24s\tremaining: 10.1s\n",
      "109:\tlearn: 0.1818867\ttest: 0.1901110\tbest: 0.1901110 (109)\ttotal: 1.26s\tremaining: 10.2s\n",
      "110:\tlearn: 0.1815651\ttest: 0.1898218\tbest: 0.1898218 (110)\ttotal: 1.28s\tremaining: 10.3s\n",
      "111:\tlearn: 0.1814107\ttest: 0.1896901\tbest: 0.1896901 (111)\ttotal: 1.3s\tremaining: 10.3s\n",
      "112:\tlearn: 0.1812118\ttest: 0.1895531\tbest: 0.1895531 (112)\ttotal: 1.32s\tremaining: 10.3s\n",
      "113:\tlearn: 0.1809735\ttest: 0.1894099\tbest: 0.1894099 (113)\ttotal: 1.33s\tremaining: 10.3s\n",
      "114:\tlearn: 0.1807299\ttest: 0.1892633\tbest: 0.1892633 (114)\ttotal: 1.34s\tremaining: 10.3s\n",
      "115:\tlearn: 0.1806464\ttest: 0.1892483\tbest: 0.1892483 (115)\ttotal: 1.35s\tremaining: 10.3s\n",
      "116:\tlearn: 0.1804473\ttest: 0.1890869\tbest: 0.1890869 (116)\ttotal: 1.36s\tremaining: 10.3s\n",
      "117:\tlearn: 0.1802863\ttest: 0.1889225\tbest: 0.1889225 (117)\ttotal: 1.38s\tremaining: 10.3s\n",
      "118:\tlearn: 0.1801188\ttest: 0.1887644\tbest: 0.1887644 (118)\ttotal: 1.39s\tremaining: 10.3s\n",
      "119:\tlearn: 0.1797230\ttest: 0.1884148\tbest: 0.1884148 (119)\ttotal: 1.4s\tremaining: 10.3s\n",
      "120:\tlearn: 0.1795146\ttest: 0.1882925\tbest: 0.1882925 (120)\ttotal: 1.42s\tremaining: 10.3s\n",
      "121:\tlearn: 0.1793143\ttest: 0.1881922\tbest: 0.1881922 (121)\ttotal: 1.43s\tremaining: 10.3s\n",
      "122:\tlearn: 0.1789429\ttest: 0.1878168\tbest: 0.1878168 (122)\ttotal: 1.44s\tremaining: 10.3s\n",
      "123:\tlearn: 0.1787565\ttest: 0.1876836\tbest: 0.1876836 (123)\ttotal: 1.45s\tremaining: 10.3s\n",
      "124:\tlearn: 0.1785518\ttest: 0.1876395\tbest: 0.1876395 (124)\ttotal: 1.46s\tremaining: 10.2s\n",
      "125:\tlearn: 0.1782237\ttest: 0.1874678\tbest: 0.1874678 (125)\ttotal: 1.47s\tremaining: 10.2s\n",
      "126:\tlearn: 0.1779985\ttest: 0.1874012\tbest: 0.1874012 (126)\ttotal: 1.48s\tremaining: 10.2s\n",
      "127:\tlearn: 0.1777734\ttest: 0.1873578\tbest: 0.1873578 (127)\ttotal: 1.49s\tremaining: 10.2s\n",
      "128:\tlearn: 0.1776061\ttest: 0.1872703\tbest: 0.1872703 (128)\ttotal: 1.5s\tremaining: 10.2s\n",
      "129:\tlearn: 0.1774069\ttest: 0.1870709\tbest: 0.1870709 (129)\ttotal: 1.51s\tremaining: 10.1s\n",
      "130:\tlearn: 0.1772252\ttest: 0.1869089\tbest: 0.1869089 (130)\ttotal: 1.52s\tremaining: 10.1s\n",
      "131:\tlearn: 0.1770111\ttest: 0.1867407\tbest: 0.1867407 (131)\ttotal: 1.53s\tremaining: 10.1s\n",
      "132:\tlearn: 0.1769104\ttest: 0.1867693\tbest: 0.1867407 (131)\ttotal: 1.54s\tremaining: 10.1s\n",
      "133:\tlearn: 0.1765739\ttest: 0.1865077\tbest: 0.1865077 (133)\ttotal: 1.55s\tremaining: 10s\n",
      "134:\tlearn: 0.1764391\ttest: 0.1864766\tbest: 0.1864766 (134)\ttotal: 1.56s\tremaining: 10s\n",
      "135:\tlearn: 0.1762554\ttest: 0.1864094\tbest: 0.1864094 (135)\ttotal: 1.57s\tremaining: 10s\n",
      "136:\tlearn: 0.1761634\ttest: 0.1863850\tbest: 0.1863850 (136)\ttotal: 1.59s\tremaining: 10s\n",
      "137:\tlearn: 0.1759250\ttest: 0.1863175\tbest: 0.1863175 (137)\ttotal: 1.6s\tremaining: 9.98s\n",
      "138:\tlearn: 0.1757214\ttest: 0.1862645\tbest: 0.1862645 (138)\ttotal: 1.62s\tremaining: 10s\n",
      "139:\tlearn: 0.1755971\ttest: 0.1862893\tbest: 0.1862645 (138)\ttotal: 1.64s\tremaining: 10.1s\n",
      "140:\tlearn: 0.1753831\ttest: 0.1861316\tbest: 0.1861316 (140)\ttotal: 1.65s\tremaining: 10s\n",
      "141:\tlearn: 0.1751813\ttest: 0.1860773\tbest: 0.1860773 (141)\ttotal: 1.66s\tremaining: 10s\n",
      "142:\tlearn: 0.1750327\ttest: 0.1860083\tbest: 0.1860083 (142)\ttotal: 1.67s\tremaining: 10s\n",
      "143:\tlearn: 0.1748310\ttest: 0.1857842\tbest: 0.1857842 (143)\ttotal: 1.68s\tremaining: 10s\n",
      "144:\tlearn: 0.1746606\ttest: 0.1857359\tbest: 0.1857359 (144)\ttotal: 1.69s\tremaining: 9.99s\n",
      "145:\tlearn: 0.1744344\ttest: 0.1856524\tbest: 0.1856524 (145)\ttotal: 1.71s\tremaining: 9.98s\n",
      "146:\tlearn: 0.1742653\ttest: 0.1855052\tbest: 0.1855052 (146)\ttotal: 1.72s\tremaining: 9.97s\n",
      "147:\tlearn: 0.1740759\ttest: 0.1853865\tbest: 0.1853865 (147)\ttotal: 1.73s\tremaining: 9.97s\n",
      "148:\tlearn: 0.1738836\ttest: 0.1853711\tbest: 0.1853711 (148)\ttotal: 1.75s\tremaining: 9.97s\n",
      "149:\tlearn: 0.1736906\ttest: 0.1851224\tbest: 0.1851224 (149)\ttotal: 1.76s\tremaining: 9.95s\n",
      "150:\tlearn: 0.1735509\ttest: 0.1850975\tbest: 0.1850975 (150)\ttotal: 1.77s\tremaining: 9.95s\n",
      "151:\tlearn: 0.1734556\ttest: 0.1850385\tbest: 0.1850385 (151)\ttotal: 1.78s\tremaining: 9.94s\n",
      "152:\tlearn: 0.1733280\ttest: 0.1850262\tbest: 0.1850262 (152)\ttotal: 1.79s\tremaining: 9.93s\n",
      "153:\tlearn: 0.1731619\ttest: 0.1848468\tbest: 0.1848468 (153)\ttotal: 1.8s\tremaining: 9.91s\n",
      "154:\tlearn: 0.1729548\ttest: 0.1847236\tbest: 0.1847236 (154)\ttotal: 1.82s\tremaining: 9.91s\n",
      "155:\tlearn: 0.1727421\ttest: 0.1844461\tbest: 0.1844461 (155)\ttotal: 1.83s\tremaining: 9.91s\n",
      "156:\tlearn: 0.1724813\ttest: 0.1842555\tbest: 0.1842555 (156)\ttotal: 1.84s\tremaining: 9.9s\n",
      "157:\tlearn: 0.1722822\ttest: 0.1841054\tbest: 0.1841054 (157)\ttotal: 1.86s\tremaining: 9.89s\n",
      "158:\tlearn: 0.1721077\ttest: 0.1840686\tbest: 0.1840686 (158)\ttotal: 1.87s\tremaining: 9.88s\n",
      "159:\tlearn: 0.1720220\ttest: 0.1840586\tbest: 0.1840586 (159)\ttotal: 1.88s\tremaining: 9.87s\n",
      "160:\tlearn: 0.1719429\ttest: 0.1840240\tbest: 0.1840240 (160)\ttotal: 1.89s\tremaining: 9.85s\n",
      "161:\tlearn: 0.1716687\ttest: 0.1839647\tbest: 0.1839647 (161)\ttotal: 1.9s\tremaining: 9.85s\n",
      "162:\tlearn: 0.1715300\ttest: 0.1839458\tbest: 0.1839458 (162)\ttotal: 1.92s\tremaining: 9.84s\n",
      "163:\tlearn: 0.1713825\ttest: 0.1838857\tbest: 0.1838857 (163)\ttotal: 1.93s\tremaining: 9.82s\n",
      "164:\tlearn: 0.1712866\ttest: 0.1838811\tbest: 0.1838811 (164)\ttotal: 1.94s\tremaining: 9.81s\n",
      "165:\tlearn: 0.1711047\ttest: 0.1837226\tbest: 0.1837226 (165)\ttotal: 1.95s\tremaining: 9.8s\n",
      "166:\tlearn: 0.1709641\ttest: 0.1835605\tbest: 0.1835605 (166)\ttotal: 1.96s\tremaining: 9.79s\n",
      "167:\tlearn: 0.1707428\ttest: 0.1833419\tbest: 0.1833419 (167)\ttotal: 1.97s\tremaining: 9.77s\n",
      "168:\tlearn: 0.1704507\ttest: 0.1831235\tbest: 0.1831235 (168)\ttotal: 1.98s\tremaining: 9.75s\n",
      "169:\tlearn: 0.1702184\ttest: 0.1829087\tbest: 0.1829087 (169)\ttotal: 1.99s\tremaining: 9.73s\n",
      "170:\tlearn: 0.1700617\ttest: 0.1827822\tbest: 0.1827822 (170)\ttotal: 2s\tremaining: 9.71s\n",
      "171:\tlearn: 0.1697852\ttest: 0.1825447\tbest: 0.1825447 (171)\ttotal: 2.01s\tremaining: 9.69s\n",
      "172:\tlearn: 0.1695838\ttest: 0.1824478\tbest: 0.1824478 (172)\ttotal: 2.03s\tremaining: 9.69s\n",
      "173:\tlearn: 0.1695422\ttest: 0.1824345\tbest: 0.1824345 (173)\ttotal: 2.04s\tremaining: 9.67s\n",
      "174:\tlearn: 0.1694676\ttest: 0.1824002\tbest: 0.1824002 (174)\ttotal: 2.05s\tremaining: 9.65s\n",
      "175:\tlearn: 0.1693829\ttest: 0.1824305\tbest: 0.1824002 (174)\ttotal: 2.06s\tremaining: 9.63s\n",
      "176:\tlearn: 0.1691978\ttest: 0.1823179\tbest: 0.1823179 (176)\ttotal: 2.07s\tremaining: 9.61s\n",
      "177:\tlearn: 0.1690453\ttest: 0.1822855\tbest: 0.1822855 (177)\ttotal: 2.08s\tremaining: 9.59s\n",
      "178:\tlearn: 0.1688354\ttest: 0.1822462\tbest: 0.1822462 (178)\ttotal: 2.09s\tremaining: 9.57s\n",
      "179:\tlearn: 0.1687396\ttest: 0.1822608\tbest: 0.1822462 (178)\ttotal: 2.1s\tremaining: 9.55s\n",
      "180:\tlearn: 0.1685693\ttest: 0.1822374\tbest: 0.1822374 (180)\ttotal: 2.11s\tremaining: 9.53s\n",
      "181:\tlearn: 0.1683821\ttest: 0.1822385\tbest: 0.1822374 (180)\ttotal: 2.12s\tremaining: 9.52s\n",
      "182:\tlearn: 0.1682776\ttest: 0.1822311\tbest: 0.1822311 (182)\ttotal: 2.13s\tremaining: 9.5s\n",
      "183:\tlearn: 0.1681289\ttest: 0.1821239\tbest: 0.1821239 (183)\ttotal: 2.14s\tremaining: 9.49s\n",
      "184:\tlearn: 0.1678569\ttest: 0.1818803\tbest: 0.1818803 (184)\ttotal: 2.15s\tremaining: 9.47s\n",
      "185:\tlearn: 0.1676296\ttest: 0.1816297\tbest: 0.1816297 (185)\ttotal: 2.16s\tremaining: 9.45s\n",
      "186:\tlearn: 0.1674854\ttest: 0.1816723\tbest: 0.1816297 (185)\ttotal: 2.17s\tremaining: 9.45s\n",
      "187:\tlearn: 0.1673427\ttest: 0.1815695\tbest: 0.1815695 (187)\ttotal: 2.18s\tremaining: 9.43s\n",
      "188:\tlearn: 0.1671858\ttest: 0.1813981\tbest: 0.1813981 (188)\ttotal: 2.19s\tremaining: 9.42s\n",
      "189:\tlearn: 0.1669570\ttest: 0.1813317\tbest: 0.1813317 (189)\ttotal: 2.2s\tremaining: 9.4s\n",
      "190:\tlearn: 0.1667550\ttest: 0.1811546\tbest: 0.1811546 (190)\ttotal: 2.22s\tremaining: 9.39s\n",
      "191:\tlearn: 0.1666386\ttest: 0.1811879\tbest: 0.1811546 (190)\ttotal: 2.23s\tremaining: 9.39s\n",
      "192:\tlearn: 0.1665020\ttest: 0.1810788\tbest: 0.1810788 (192)\ttotal: 2.24s\tremaining: 9.37s\n",
      "193:\tlearn: 0.1663739\ttest: 0.1810357\tbest: 0.1810357 (193)\ttotal: 2.25s\tremaining: 9.36s\n",
      "194:\tlearn: 0.1661930\ttest: 0.1809876\tbest: 0.1809876 (194)\ttotal: 2.27s\tremaining: 9.36s\n",
      "195:\tlearn: 0.1661641\ttest: 0.1809702\tbest: 0.1809702 (195)\ttotal: 2.28s\tremaining: 9.35s\n",
      "196:\tlearn: 0.1661148\ttest: 0.1809837\tbest: 0.1809702 (195)\ttotal: 2.29s\tremaining: 9.33s\n",
      "197:\tlearn: 0.1658977\ttest: 0.1808932\tbest: 0.1808932 (197)\ttotal: 2.3s\tremaining: 9.31s\n",
      "198:\tlearn: 0.1656735\ttest: 0.1807307\tbest: 0.1807307 (198)\ttotal: 2.31s\tremaining: 9.3s\n",
      "199:\tlearn: 0.1654810\ttest: 0.1806820\tbest: 0.1806820 (199)\ttotal: 2.32s\tremaining: 9.29s\n",
      "200:\tlearn: 0.1653734\ttest: 0.1806715\tbest: 0.1806715 (200)\ttotal: 2.33s\tremaining: 9.28s\n",
      "201:\tlearn: 0.1652630\ttest: 0.1805858\tbest: 0.1805858 (201)\ttotal: 2.34s\tremaining: 9.26s\n",
      "202:\tlearn: 0.1650955\ttest: 0.1805184\tbest: 0.1805184 (202)\ttotal: 2.36s\tremaining: 9.25s\n",
      "203:\tlearn: 0.1649662\ttest: 0.1804832\tbest: 0.1804832 (203)\ttotal: 2.37s\tremaining: 9.26s\n",
      "204:\tlearn: 0.1647254\ttest: 0.1803425\tbest: 0.1803425 (204)\ttotal: 2.39s\tremaining: 9.26s\n",
      "205:\tlearn: 0.1646789\ttest: 0.1803602\tbest: 0.1803425 (204)\ttotal: 2.4s\tremaining: 9.25s\n",
      "206:\tlearn: 0.1643043\ttest: 0.1801061\tbest: 0.1801061 (206)\ttotal: 2.41s\tremaining: 9.25s\n",
      "207:\tlearn: 0.1639794\ttest: 0.1798618\tbest: 0.1798618 (207)\ttotal: 2.43s\tremaining: 9.24s\n"
     ]
    },
    {
     "name": "stdout",
     "output_type": "stream",
     "text": [
      "208:\tlearn: 0.1638272\ttest: 0.1797788\tbest: 0.1797788 (208)\ttotal: 2.44s\tremaining: 9.25s\n",
      "209:\tlearn: 0.1636425\ttest: 0.1797021\tbest: 0.1797021 (209)\ttotal: 2.45s\tremaining: 9.23s\n",
      "210:\tlearn: 0.1634904\ttest: 0.1796022\tbest: 0.1796022 (210)\ttotal: 2.47s\tremaining: 9.23s\n",
      "211:\tlearn: 0.1632337\ttest: 0.1794323\tbest: 0.1794323 (211)\ttotal: 2.48s\tremaining: 9.22s\n",
      "212:\tlearn: 0.1630796\ttest: 0.1794022\tbest: 0.1794022 (212)\ttotal: 2.49s\tremaining: 9.22s\n",
      "213:\tlearn: 0.1629874\ttest: 0.1793762\tbest: 0.1793762 (213)\ttotal: 2.51s\tremaining: 9.22s\n",
      "214:\tlearn: 0.1627971\ttest: 0.1792376\tbest: 0.1792376 (214)\ttotal: 2.52s\tremaining: 9.21s\n",
      "215:\tlearn: 0.1626012\ttest: 0.1791265\tbest: 0.1791265 (215)\ttotal: 2.53s\tremaining: 9.2s\n",
      "216:\tlearn: 0.1624551\ttest: 0.1790730\tbest: 0.1790730 (216)\ttotal: 2.55s\tremaining: 9.19s\n",
      "217:\tlearn: 0.1623047\ttest: 0.1790098\tbest: 0.1790098 (217)\ttotal: 2.56s\tremaining: 9.18s\n",
      "218:\tlearn: 0.1621871\ttest: 0.1789976\tbest: 0.1789976 (218)\ttotal: 2.57s\tremaining: 9.16s\n",
      "219:\tlearn: 0.1620782\ttest: 0.1789227\tbest: 0.1789227 (219)\ttotal: 2.58s\tremaining: 9.16s\n",
      "220:\tlearn: 0.1619236\ttest: 0.1788318\tbest: 0.1788318 (220)\ttotal: 2.59s\tremaining: 9.14s\n",
      "221:\tlearn: 0.1618059\ttest: 0.1788729\tbest: 0.1788318 (220)\ttotal: 2.61s\tremaining: 9.14s\n",
      "222:\tlearn: 0.1616196\ttest: 0.1787690\tbest: 0.1787690 (222)\ttotal: 2.62s\tremaining: 9.13s\n",
      "223:\tlearn: 0.1614982\ttest: 0.1787680\tbest: 0.1787680 (223)\ttotal: 2.63s\tremaining: 9.11s\n",
      "224:\tlearn: 0.1614072\ttest: 0.1786922\tbest: 0.1786922 (224)\ttotal: 2.65s\tremaining: 9.11s\n",
      "225:\tlearn: 0.1612940\ttest: 0.1787443\tbest: 0.1786922 (224)\ttotal: 2.66s\tremaining: 9.11s\n",
      "226:\tlearn: 0.1611307\ttest: 0.1786886\tbest: 0.1786886 (226)\ttotal: 2.67s\tremaining: 9.1s\n",
      "227:\tlearn: 0.1609601\ttest: 0.1785882\tbest: 0.1785882 (227)\ttotal: 2.68s\tremaining: 9.09s\n",
      "228:\tlearn: 0.1608484\ttest: 0.1785490\tbest: 0.1785490 (228)\ttotal: 2.7s\tremaining: 9.08s\n",
      "229:\tlearn: 0.1607511\ttest: 0.1784599\tbest: 0.1784599 (229)\ttotal: 2.71s\tremaining: 9.06s\n",
      "230:\tlearn: 0.1605783\ttest: 0.1783307\tbest: 0.1783307 (230)\ttotal: 2.72s\tremaining: 9.06s\n",
      "231:\tlearn: 0.1604556\ttest: 0.1782751\tbest: 0.1782751 (231)\ttotal: 2.73s\tremaining: 9.04s\n",
      "232:\tlearn: 0.1603585\ttest: 0.1782442\tbest: 0.1782442 (232)\ttotal: 2.75s\tremaining: 9.04s\n",
      "233:\tlearn: 0.1602649\ttest: 0.1782297\tbest: 0.1782297 (233)\ttotal: 2.76s\tremaining: 9.03s\n",
      "234:\tlearn: 0.1600544\ttest: 0.1780563\tbest: 0.1780563 (234)\ttotal: 2.77s\tremaining: 9.02s\n",
      "235:\tlearn: 0.1599772\ttest: 0.1780047\tbest: 0.1780047 (235)\ttotal: 2.78s\tremaining: 9.01s\n",
      "236:\tlearn: 0.1597942\ttest: 0.1779348\tbest: 0.1779348 (236)\ttotal: 2.79s\tremaining: 9s\n",
      "237:\tlearn: 0.1597205\ttest: 0.1779294\tbest: 0.1779294 (237)\ttotal: 2.81s\tremaining: 8.99s\n",
      "238:\tlearn: 0.1595429\ttest: 0.1778271\tbest: 0.1778271 (238)\ttotal: 2.82s\tremaining: 8.98s\n",
      "239:\tlearn: 0.1594681\ttest: 0.1777951\tbest: 0.1777951 (239)\ttotal: 2.83s\tremaining: 8.96s\n",
      "240:\tlearn: 0.1592706\ttest: 0.1776721\tbest: 0.1776721 (240)\ttotal: 2.84s\tremaining: 8.95s\n",
      "241:\tlearn: 0.1589875\ttest: 0.1774958\tbest: 0.1774958 (241)\ttotal: 2.85s\tremaining: 8.94s\n",
      "242:\tlearn: 0.1587910\ttest: 0.1773365\tbest: 0.1773365 (242)\ttotal: 2.87s\tremaining: 8.94s\n",
      "243:\tlearn: 0.1586998\ttest: 0.1772604\tbest: 0.1772604 (243)\ttotal: 2.88s\tremaining: 8.92s\n",
      "244:\tlearn: 0.1584880\ttest: 0.1770248\tbest: 0.1770248 (244)\ttotal: 2.89s\tremaining: 8.9s\n",
      "245:\tlearn: 0.1581944\ttest: 0.1768555\tbest: 0.1768555 (245)\ttotal: 2.9s\tremaining: 8.89s\n",
      "246:\tlearn: 0.1580834\ttest: 0.1767474\tbest: 0.1767474 (246)\ttotal: 2.91s\tremaining: 8.88s\n",
      "247:\tlearn: 0.1578930\ttest: 0.1765924\tbest: 0.1765924 (247)\ttotal: 2.92s\tremaining: 8.86s\n",
      "248:\tlearn: 0.1576730\ttest: 0.1764359\tbest: 0.1764359 (248)\ttotal: 2.93s\tremaining: 8.85s\n",
      "249:\tlearn: 0.1575512\ttest: 0.1764321\tbest: 0.1764321 (249)\ttotal: 2.94s\tremaining: 8.83s\n",
      "250:\tlearn: 0.1573460\ttest: 0.1763034\tbest: 0.1763034 (250)\ttotal: 2.95s\tremaining: 8.81s\n",
      "251:\tlearn: 0.1571604\ttest: 0.1762737\tbest: 0.1762737 (251)\ttotal: 2.96s\tremaining: 8.79s\n",
      "252:\tlearn: 0.1570793\ttest: 0.1762996\tbest: 0.1762737 (251)\ttotal: 2.97s\tremaining: 8.78s\n",
      "253:\tlearn: 0.1569663\ttest: 0.1762550\tbest: 0.1762550 (253)\ttotal: 2.98s\tremaining: 8.76s\n",
      "254:\tlearn: 0.1568914\ttest: 0.1762299\tbest: 0.1762299 (254)\ttotal: 2.99s\tremaining: 8.74s\n",
      "255:\tlearn: 0.1566946\ttest: 0.1760518\tbest: 0.1760518 (255)\ttotal: 3s\tremaining: 8.73s\n",
      "256:\tlearn: 0.1566345\ttest: 0.1760530\tbest: 0.1760518 (255)\ttotal: 3.02s\tremaining: 8.72s\n",
      "257:\tlearn: 0.1565253\ttest: 0.1759198\tbest: 0.1759198 (257)\ttotal: 3.03s\tremaining: 8.7s\n",
      "258:\tlearn: 0.1564800\ttest: 0.1759217\tbest: 0.1759198 (257)\ttotal: 3.04s\tremaining: 8.69s\n",
      "259:\tlearn: 0.1564070\ttest: 0.1758988\tbest: 0.1758988 (259)\ttotal: 3.05s\tremaining: 8.67s\n",
      "260:\tlearn: 0.1562149\ttest: 0.1757238\tbest: 0.1757238 (260)\ttotal: 3.06s\tremaining: 8.66s\n",
      "261:\tlearn: 0.1560670\ttest: 0.1757155\tbest: 0.1757155 (261)\ttotal: 3.07s\tremaining: 8.64s\n",
      "262:\tlearn: 0.1559338\ttest: 0.1756835\tbest: 0.1756835 (262)\ttotal: 3.08s\tremaining: 8.63s\n",
      "263:\tlearn: 0.1557528\ttest: 0.1754785\tbest: 0.1754785 (263)\ttotal: 3.09s\tremaining: 8.62s\n",
      "264:\tlearn: 0.1555795\ttest: 0.1754399\tbest: 0.1754399 (264)\ttotal: 3.1s\tremaining: 8.61s\n",
      "265:\tlearn: 0.1553903\ttest: 0.1753068\tbest: 0.1753068 (265)\ttotal: 3.11s\tremaining: 8.59s\n",
      "266:\tlearn: 0.1552377\ttest: 0.1752549\tbest: 0.1752549 (266)\ttotal: 3.12s\tremaining: 8.58s\n",
      "267:\tlearn: 0.1551530\ttest: 0.1752894\tbest: 0.1752549 (266)\ttotal: 3.13s\tremaining: 8.56s\n",
      "268:\tlearn: 0.1549461\ttest: 0.1751475\tbest: 0.1751475 (268)\ttotal: 3.15s\tremaining: 8.55s\n",
      "269:\tlearn: 0.1548550\ttest: 0.1750641\tbest: 0.1750641 (269)\ttotal: 3.16s\tremaining: 8.53s\n",
      "270:\tlearn: 0.1547949\ttest: 0.1750455\tbest: 0.1750455 (270)\ttotal: 3.17s\tremaining: 8.52s\n",
      "271:\tlearn: 0.1546878\ttest: 0.1750049\tbest: 0.1750049 (271)\ttotal: 3.17s\tremaining: 8.5s\n",
      "272:\tlearn: 0.1545463\ttest: 0.1748923\tbest: 0.1748923 (272)\ttotal: 3.19s\tremaining: 8.48s\n",
      "273:\tlearn: 0.1543704\ttest: 0.1748516\tbest: 0.1748516 (273)\ttotal: 3.2s\tremaining: 8.47s\n",
      "274:\tlearn: 0.1542241\ttest: 0.1747768\tbest: 0.1747768 (274)\ttotal: 3.21s\tremaining: 8.46s\n",
      "275:\tlearn: 0.1541043\ttest: 0.1746965\tbest: 0.1746965 (275)\ttotal: 3.22s\tremaining: 8.45s\n",
      "276:\tlearn: 0.1539870\ttest: 0.1746709\tbest: 0.1746709 (276)\ttotal: 3.23s\tremaining: 8.44s\n",
      "277:\tlearn: 0.1538772\ttest: 0.1745739\tbest: 0.1745739 (277)\ttotal: 3.25s\tremaining: 8.43s\n",
      "278:\tlearn: 0.1537063\ttest: 0.1745084\tbest: 0.1745084 (278)\ttotal: 3.26s\tremaining: 8.43s\n",
      "279:\tlearn: 0.1535484\ttest: 0.1744893\tbest: 0.1744893 (279)\ttotal: 3.27s\tremaining: 8.42s\n",
      "280:\tlearn: 0.1535070\ttest: 0.1744895\tbest: 0.1744893 (279)\ttotal: 3.29s\tremaining: 8.4s\n",
      "281:\tlearn: 0.1534206\ttest: 0.1744382\tbest: 0.1744382 (281)\ttotal: 3.3s\tremaining: 8.39s\n",
      "282:\tlearn: 0.1533262\ttest: 0.1744068\tbest: 0.1744068 (282)\ttotal: 3.31s\tremaining: 8.38s\n",
      "283:\tlearn: 0.1532715\ttest: 0.1744219\tbest: 0.1744068 (282)\ttotal: 3.32s\tremaining: 8.37s\n",
      "284:\tlearn: 0.1531067\ttest: 0.1742473\tbest: 0.1742473 (284)\ttotal: 3.33s\tremaining: 8.36s\n",
      "285:\tlearn: 0.1529837\ttest: 0.1741758\tbest: 0.1741758 (285)\ttotal: 3.34s\tremaining: 8.34s\n",
      "286:\tlearn: 0.1528890\ttest: 0.1740929\tbest: 0.1740929 (286)\ttotal: 3.35s\tremaining: 8.33s\n",
      "287:\tlearn: 0.1527974\ttest: 0.1740566\tbest: 0.1740566 (287)\ttotal: 3.36s\tremaining: 8.31s\n",
      "288:\tlearn: 0.1526718\ttest: 0.1739091\tbest: 0.1739091 (288)\ttotal: 3.37s\tremaining: 8.3s\n",
      "289:\tlearn: 0.1525718\ttest: 0.1739141\tbest: 0.1739091 (288)\ttotal: 3.38s\tremaining: 8.28s\n",
      "290:\tlearn: 0.1524295\ttest: 0.1737146\tbest: 0.1737146 (290)\ttotal: 3.39s\tremaining: 8.27s\n",
      "291:\tlearn: 0.1523363\ttest: 0.1736909\tbest: 0.1736909 (291)\ttotal: 3.4s\tremaining: 8.25s\n",
      "292:\tlearn: 0.1521649\ttest: 0.1735892\tbest: 0.1735892 (292)\ttotal: 3.41s\tremaining: 8.24s\n",
      "293:\tlearn: 0.1519730\ttest: 0.1735389\tbest: 0.1735389 (293)\ttotal: 3.42s\tremaining: 8.22s\n",
      "294:\tlearn: 0.1518240\ttest: 0.1734283\tbest: 0.1734283 (294)\ttotal: 3.43s\tremaining: 8.21s\n",
      "295:\tlearn: 0.1517178\ttest: 0.1733620\tbest: 0.1733620 (295)\ttotal: 3.44s\tremaining: 8.19s\n",
      "296:\tlearn: 0.1515537\ttest: 0.1732210\tbest: 0.1732210 (296)\ttotal: 3.45s\tremaining: 8.17s\n",
      "297:\tlearn: 0.1514704\ttest: 0.1732231\tbest: 0.1732210 (296)\ttotal: 3.47s\tremaining: 8.16s\n",
      "298:\tlearn: 0.1513060\ttest: 0.1731042\tbest: 0.1731042 (298)\ttotal: 3.48s\tremaining: 8.15s\n",
      "299:\tlearn: 0.1511869\ttest: 0.1730404\tbest: 0.1730404 (299)\ttotal: 3.49s\tremaining: 8.14s\n",
      "300:\tlearn: 0.1511031\ttest: 0.1730439\tbest: 0.1730404 (299)\ttotal: 3.5s\tremaining: 8.13s\n",
      "301:\tlearn: 0.1510130\ttest: 0.1730401\tbest: 0.1730401 (301)\ttotal: 3.51s\tremaining: 8.12s\n",
      "302:\tlearn: 0.1509186\ttest: 0.1730052\tbest: 0.1730052 (302)\ttotal: 3.52s\tremaining: 8.11s\n",
      "303:\tlearn: 0.1507901\ttest: 0.1729951\tbest: 0.1729951 (303)\ttotal: 3.54s\tremaining: 8.1s\n",
      "304:\tlearn: 0.1506775\ttest: 0.1729807\tbest: 0.1729807 (304)\ttotal: 3.55s\tremaining: 8.09s\n",
      "305:\tlearn: 0.1505639\ttest: 0.1729070\tbest: 0.1729070 (305)\ttotal: 3.57s\tremaining: 8.09s\n",
      "306:\tlearn: 0.1504222\ttest: 0.1727568\tbest: 0.1727568 (306)\ttotal: 3.58s\tremaining: 8.09s\n",
      "307:\tlearn: 0.1503353\ttest: 0.1727128\tbest: 0.1727128 (307)\ttotal: 3.6s\tremaining: 8.08s\n",
      "308:\tlearn: 0.1502347\ttest: 0.1726481\tbest: 0.1726481 (308)\ttotal: 3.61s\tremaining: 8.07s\n",
      "309:\tlearn: 0.1501316\ttest: 0.1725513\tbest: 0.1725513 (309)\ttotal: 3.62s\tremaining: 8.06s\n",
      "310:\tlearn: 0.1499479\ttest: 0.1724067\tbest: 0.1724067 (310)\ttotal: 3.63s\tremaining: 8.05s\n",
      "311:\tlearn: 0.1498166\ttest: 0.1722721\tbest: 0.1722721 (311)\ttotal: 3.65s\tremaining: 8.05s\n",
      "312:\tlearn: 0.1497056\ttest: 0.1722575\tbest: 0.1722575 (312)\ttotal: 3.66s\tremaining: 8.04s\n"
     ]
    },
    {
     "name": "stdout",
     "output_type": "stream",
     "text": [
      "313:\tlearn: 0.1496388\ttest: 0.1722372\tbest: 0.1722372 (313)\ttotal: 3.68s\tremaining: 8.04s\n",
      "314:\tlearn: 0.1495091\ttest: 0.1721923\tbest: 0.1721923 (314)\ttotal: 3.69s\tremaining: 8.03s\n",
      "315:\tlearn: 0.1493981\ttest: 0.1721969\tbest: 0.1721923 (314)\ttotal: 3.71s\tremaining: 8.03s\n",
      "316:\tlearn: 0.1492864\ttest: 0.1720841\tbest: 0.1720841 (316)\ttotal: 3.73s\tremaining: 8.03s\n",
      "317:\tlearn: 0.1490653\ttest: 0.1718980\tbest: 0.1718980 (317)\ttotal: 3.74s\tremaining: 8.03s\n",
      "318:\tlearn: 0.1489104\ttest: 0.1718116\tbest: 0.1718116 (318)\ttotal: 3.76s\tremaining: 8.02s\n",
      "319:\tlearn: 0.1487305\ttest: 0.1717200\tbest: 0.1717200 (319)\ttotal: 3.77s\tremaining: 8.02s\n",
      "320:\tlearn: 0.1486538\ttest: 0.1717008\tbest: 0.1717008 (320)\ttotal: 3.79s\tremaining: 8.02s\n",
      "321:\tlearn: 0.1485844\ttest: 0.1716639\tbest: 0.1716639 (321)\ttotal: 3.8s\tremaining: 8s\n",
      "322:\tlearn: 0.1484762\ttest: 0.1716556\tbest: 0.1716556 (322)\ttotal: 3.81s\tremaining: 7.99s\n",
      "323:\tlearn: 0.1483457\ttest: 0.1716030\tbest: 0.1716030 (323)\ttotal: 3.82s\tremaining: 7.97s\n",
      "324:\tlearn: 0.1482492\ttest: 0.1715446\tbest: 0.1715446 (324)\ttotal: 3.83s\tremaining: 7.96s\n",
      "325:\tlearn: 0.1481254\ttest: 0.1714707\tbest: 0.1714707 (325)\ttotal: 3.84s\tremaining: 7.94s\n",
      "326:\tlearn: 0.1479956\ttest: 0.1715634\tbest: 0.1714707 (325)\ttotal: 3.85s\tremaining: 7.93s\n",
      "327:\tlearn: 0.1478581\ttest: 0.1714887\tbest: 0.1714707 (325)\ttotal: 3.86s\tremaining: 7.91s\n",
      "328:\tlearn: 0.1477384\ttest: 0.1714696\tbest: 0.1714696 (328)\ttotal: 3.87s\tremaining: 7.9s\n",
      "329:\tlearn: 0.1476418\ttest: 0.1715509\tbest: 0.1714696 (328)\ttotal: 3.88s\tremaining: 7.89s\n",
      "330:\tlearn: 0.1474841\ttest: 0.1714124\tbest: 0.1714124 (330)\ttotal: 3.9s\tremaining: 7.87s\n",
      "331:\tlearn: 0.1473879\ttest: 0.1714133\tbest: 0.1714124 (330)\ttotal: 3.91s\tremaining: 7.86s\n",
      "332:\tlearn: 0.1472943\ttest: 0.1713728\tbest: 0.1713728 (332)\ttotal: 3.92s\tremaining: 7.84s\n",
      "333:\tlearn: 0.1471786\ttest: 0.1713277\tbest: 0.1713277 (333)\ttotal: 3.93s\tremaining: 7.83s\n",
      "334:\tlearn: 0.1470262\ttest: 0.1712027\tbest: 0.1712027 (334)\ttotal: 3.94s\tremaining: 7.82s\n",
      "335:\tlearn: 0.1469304\ttest: 0.1711232\tbest: 0.1711232 (335)\ttotal: 3.95s\tremaining: 7.8s\n",
      "336:\tlearn: 0.1468364\ttest: 0.1710996\tbest: 0.1710996 (336)\ttotal: 3.96s\tremaining: 7.79s\n",
      "337:\tlearn: 0.1467416\ttest: 0.1710359\tbest: 0.1710359 (337)\ttotal: 3.97s\tremaining: 7.77s\n",
      "338:\tlearn: 0.1465976\ttest: 0.1709888\tbest: 0.1709888 (338)\ttotal: 3.98s\tremaining: 7.76s\n",
      "339:\tlearn: 0.1465108\ttest: 0.1709292\tbest: 0.1709292 (339)\ttotal: 3.99s\tremaining: 7.74s\n",
      "340:\tlearn: 0.1464061\ttest: 0.1709651\tbest: 0.1709292 (339)\ttotal: 4s\tremaining: 7.73s\n",
      "341:\tlearn: 0.1462983\ttest: 0.1709194\tbest: 0.1709194 (341)\ttotal: 4.01s\tremaining: 7.72s\n",
      "342:\tlearn: 0.1462200\ttest: 0.1709473\tbest: 0.1709194 (341)\ttotal: 4.02s\tremaining: 7.7s\n",
      "343:\tlearn: 0.1461235\ttest: 0.1709361\tbest: 0.1709194 (341)\ttotal: 4.03s\tremaining: 7.69s\n",
      "344:\tlearn: 0.1459985\ttest: 0.1708862\tbest: 0.1708862 (344)\ttotal: 4.04s\tremaining: 7.67s\n",
      "345:\tlearn: 0.1459109\ttest: 0.1708483\tbest: 0.1708483 (345)\ttotal: 4.05s\tremaining: 7.66s\n",
      "346:\tlearn: 0.1458228\ttest: 0.1708588\tbest: 0.1708483 (345)\ttotal: 4.07s\tremaining: 7.65s\n",
      "347:\tlearn: 0.1457631\ttest: 0.1708625\tbest: 0.1708483 (345)\ttotal: 4.08s\tremaining: 7.64s\n",
      "348:\tlearn: 0.1456231\ttest: 0.1706866\tbest: 0.1706866 (348)\ttotal: 4.09s\tremaining: 7.64s\n",
      "349:\tlearn: 0.1454704\ttest: 0.1705877\tbest: 0.1705877 (349)\ttotal: 4.11s\tremaining: 7.63s\n",
      "350:\tlearn: 0.1452546\ttest: 0.1704674\tbest: 0.1704674 (350)\ttotal: 4.12s\tremaining: 7.62s\n",
      "351:\tlearn: 0.1451619\ttest: 0.1704031\tbest: 0.1704031 (351)\ttotal: 4.13s\tremaining: 7.6s\n",
      "352:\tlearn: 0.1450712\ttest: 0.1704453\tbest: 0.1704031 (351)\ttotal: 4.14s\tremaining: 7.59s\n",
      "353:\tlearn: 0.1450144\ttest: 0.1704437\tbest: 0.1704031 (351)\ttotal: 4.15s\tremaining: 7.58s\n",
      "354:\tlearn: 0.1449414\ttest: 0.1703926\tbest: 0.1703926 (354)\ttotal: 4.17s\tremaining: 7.57s\n",
      "355:\tlearn: 0.1448705\ttest: 0.1703643\tbest: 0.1703643 (355)\ttotal: 4.18s\tremaining: 7.56s\n",
      "356:\tlearn: 0.1446972\ttest: 0.1702090\tbest: 0.1702090 (356)\ttotal: 4.19s\tremaining: 7.55s\n",
      "357:\tlearn: 0.1446072\ttest: 0.1701295\tbest: 0.1701295 (357)\ttotal: 4.2s\tremaining: 7.54s\n",
      "358:\tlearn: 0.1445279\ttest: 0.1701594\tbest: 0.1701295 (357)\ttotal: 4.22s\tremaining: 7.53s\n",
      "359:\tlearn: 0.1444300\ttest: 0.1701024\tbest: 0.1701024 (359)\ttotal: 4.23s\tremaining: 7.52s\n",
      "360:\tlearn: 0.1443644\ttest: 0.1700746\tbest: 0.1700746 (360)\ttotal: 4.24s\tremaining: 7.51s\n",
      "361:\tlearn: 0.1442838\ttest: 0.1700694\tbest: 0.1700694 (361)\ttotal: 4.25s\tremaining: 7.5s\n",
      "362:\tlearn: 0.1442056\ttest: 0.1700803\tbest: 0.1700694 (361)\ttotal: 4.26s\tremaining: 7.49s\n",
      "363:\tlearn: 0.1441218\ttest: 0.1700131\tbest: 0.1700131 (363)\ttotal: 4.28s\tremaining: 7.47s\n",
      "364:\tlearn: 0.1439796\ttest: 0.1699278\tbest: 0.1699278 (364)\ttotal: 4.29s\tremaining: 7.46s\n",
      "365:\tlearn: 0.1438286\ttest: 0.1698850\tbest: 0.1698850 (365)\ttotal: 4.31s\tremaining: 7.46s\n",
      "366:\tlearn: 0.1437062\ttest: 0.1698214\tbest: 0.1698214 (366)\ttotal: 4.32s\tremaining: 7.45s\n",
      "367:\tlearn: 0.1435904\ttest: 0.1696944\tbest: 0.1696944 (367)\ttotal: 4.33s\tremaining: 7.43s\n",
      "368:\tlearn: 0.1435076\ttest: 0.1696805\tbest: 0.1696805 (368)\ttotal: 4.34s\tremaining: 7.42s\n",
      "369:\tlearn: 0.1434339\ttest: 0.1696743\tbest: 0.1696743 (369)\ttotal: 4.35s\tremaining: 7.41s\n",
      "370:\tlearn: 0.1433460\ttest: 0.1696678\tbest: 0.1696678 (370)\ttotal: 4.36s\tremaining: 7.4s\n",
      "371:\tlearn: 0.1432382\ttest: 0.1696106\tbest: 0.1696106 (371)\ttotal: 4.38s\tremaining: 7.38s\n",
      "372:\tlearn: 0.1431328\ttest: 0.1695767\tbest: 0.1695767 (372)\ttotal: 4.39s\tremaining: 7.37s\n",
      "373:\tlearn: 0.1430435\ttest: 0.1695633\tbest: 0.1695633 (373)\ttotal: 4.4s\tremaining: 7.36s\n",
      "374:\tlearn: 0.1429703\ttest: 0.1695073\tbest: 0.1695073 (374)\ttotal: 4.41s\tremaining: 7.35s\n",
      "375:\tlearn: 0.1428899\ttest: 0.1694112\tbest: 0.1694112 (375)\ttotal: 4.42s\tremaining: 7.34s\n",
      "376:\tlearn: 0.1428242\ttest: 0.1693824\tbest: 0.1693824 (376)\ttotal: 4.43s\tremaining: 7.33s\n",
      "377:\tlearn: 0.1427332\ttest: 0.1693689\tbest: 0.1693689 (377)\ttotal: 4.45s\tremaining: 7.32s\n",
      "378:\tlearn: 0.1425957\ttest: 0.1692871\tbest: 0.1692871 (378)\ttotal: 4.46s\tremaining: 7.3s\n",
      "379:\tlearn: 0.1424813\ttest: 0.1692658\tbest: 0.1692658 (379)\ttotal: 4.47s\tremaining: 7.29s\n",
      "380:\tlearn: 0.1423511\ttest: 0.1692083\tbest: 0.1692083 (380)\ttotal: 4.48s\tremaining: 7.28s\n",
      "381:\tlearn: 0.1422813\ttest: 0.1692091\tbest: 0.1692083 (380)\ttotal: 4.49s\tremaining: 7.27s\n",
      "382:\tlearn: 0.1422239\ttest: 0.1692039\tbest: 0.1692039 (382)\ttotal: 4.5s\tremaining: 7.26s\n",
      "383:\tlearn: 0.1420493\ttest: 0.1690758\tbest: 0.1690758 (383)\ttotal: 4.52s\tremaining: 7.25s\n",
      "384:\tlearn: 0.1419611\ttest: 0.1690055\tbest: 0.1690055 (384)\ttotal: 4.53s\tremaining: 7.24s\n",
      "385:\tlearn: 0.1418836\ttest: 0.1689583\tbest: 0.1689583 (385)\ttotal: 4.55s\tremaining: 7.24s\n",
      "386:\tlearn: 0.1417571\ttest: 0.1689171\tbest: 0.1689171 (386)\ttotal: 4.56s\tremaining: 7.22s\n",
      "387:\tlearn: 0.1416810\ttest: 0.1689667\tbest: 0.1689171 (386)\ttotal: 4.57s\tremaining: 7.21s\n",
      "388:\tlearn: 0.1415991\ttest: 0.1689456\tbest: 0.1689171 (386)\ttotal: 4.58s\tremaining: 7.2s\n",
      "389:\tlearn: 0.1414817\ttest: 0.1689078\tbest: 0.1689078 (389)\ttotal: 4.59s\tremaining: 7.19s\n",
      "390:\tlearn: 0.1414552\ttest: 0.1689192\tbest: 0.1689078 (389)\ttotal: 4.61s\tremaining: 7.18s\n",
      "391:\tlearn: 0.1412942\ttest: 0.1688524\tbest: 0.1688524 (391)\ttotal: 4.62s\tremaining: 7.17s\n",
      "392:\tlearn: 0.1412307\ttest: 0.1688276\tbest: 0.1688276 (392)\ttotal: 4.63s\tremaining: 7.15s\n",
      "393:\tlearn: 0.1411172\ttest: 0.1687940\tbest: 0.1687940 (393)\ttotal: 4.64s\tremaining: 7.14s\n",
      "394:\tlearn: 0.1410621\ttest: 0.1688436\tbest: 0.1687940 (393)\ttotal: 4.66s\tremaining: 7.13s\n",
      "395:\tlearn: 0.1409797\ttest: 0.1687785\tbest: 0.1687785 (395)\ttotal: 4.67s\tremaining: 7.12s\n",
      "396:\tlearn: 0.1408418\ttest: 0.1687590\tbest: 0.1687590 (396)\ttotal: 4.68s\tremaining: 7.11s\n",
      "397:\tlearn: 0.1406825\ttest: 0.1687283\tbest: 0.1687283 (397)\ttotal: 4.69s\tremaining: 7.09s\n",
      "398:\tlearn: 0.1405897\ttest: 0.1687182\tbest: 0.1687182 (398)\ttotal: 4.71s\tremaining: 7.09s\n",
      "399:\tlearn: 0.1404768\ttest: 0.1686229\tbest: 0.1686229 (399)\ttotal: 4.72s\tremaining: 7.08s\n",
      "400:\tlearn: 0.1403330\ttest: 0.1685262\tbest: 0.1685262 (400)\ttotal: 4.73s\tremaining: 7.07s\n",
      "401:\tlearn: 0.1402753\ttest: 0.1685199\tbest: 0.1685199 (401)\ttotal: 4.74s\tremaining: 7.05s\n",
      "402:\tlearn: 0.1401830\ttest: 0.1685181\tbest: 0.1685181 (402)\ttotal: 4.75s\tremaining: 7.04s\n",
      "403:\tlearn: 0.1400597\ttest: 0.1684941\tbest: 0.1684941 (403)\ttotal: 4.76s\tremaining: 7.03s\n",
      "404:\tlearn: 0.1400118\ttest: 0.1684580\tbest: 0.1684580 (404)\ttotal: 4.78s\tremaining: 7.02s\n",
      "405:\tlearn: 0.1399076\ttest: 0.1683176\tbest: 0.1683176 (405)\ttotal: 4.79s\tremaining: 7.01s\n",
      "406:\tlearn: 0.1397751\ttest: 0.1682877\tbest: 0.1682877 (406)\ttotal: 4.8s\tremaining: 6.99s\n",
      "407:\tlearn: 0.1396467\ttest: 0.1681917\tbest: 0.1681917 (407)\ttotal: 4.81s\tremaining: 6.98s\n",
      "408:\tlearn: 0.1395212\ttest: 0.1681499\tbest: 0.1681499 (408)\ttotal: 4.82s\tremaining: 6.97s\n",
      "409:\tlearn: 0.1394343\ttest: 0.1681540\tbest: 0.1681499 (408)\ttotal: 4.83s\tremaining: 6.96s\n",
      "410:\tlearn: 0.1393444\ttest: 0.1680924\tbest: 0.1680924 (410)\ttotal: 4.85s\tremaining: 6.95s\n",
      "411:\tlearn: 0.1392861\ttest: 0.1680979\tbest: 0.1680924 (410)\ttotal: 4.86s\tremaining: 6.93s\n",
      "412:\tlearn: 0.1391842\ttest: 0.1679820\tbest: 0.1679820 (412)\ttotal: 4.87s\tremaining: 6.92s\n",
      "413:\tlearn: 0.1391128\ttest: 0.1679652\tbest: 0.1679652 (413)\ttotal: 4.88s\tremaining: 6.91s\n",
      "414:\tlearn: 0.1390635\ttest: 0.1679831\tbest: 0.1679652 (413)\ttotal: 4.89s\tremaining: 6.9s\n"
     ]
    },
    {
     "name": "stdout",
     "output_type": "stream",
     "text": [
      "415:\tlearn: 0.1389795\ttest: 0.1679576\tbest: 0.1679576 (415)\ttotal: 4.91s\tremaining: 6.89s\n",
      "416:\tlearn: 0.1389218\ttest: 0.1679433\tbest: 0.1679433 (416)\ttotal: 4.92s\tremaining: 6.88s\n",
      "417:\tlearn: 0.1387756\ttest: 0.1679065\tbest: 0.1679065 (417)\ttotal: 4.93s\tremaining: 6.87s\n",
      "418:\tlearn: 0.1386602\ttest: 0.1678845\tbest: 0.1678845 (418)\ttotal: 4.94s\tremaining: 6.86s\n",
      "419:\tlearn: 0.1385763\ttest: 0.1678243\tbest: 0.1678243 (419)\ttotal: 4.96s\tremaining: 6.84s\n",
      "420:\tlearn: 0.1385217\ttest: 0.1678346\tbest: 0.1678243 (419)\ttotal: 4.97s\tremaining: 6.83s\n",
      "421:\tlearn: 0.1384912\ttest: 0.1678141\tbest: 0.1678141 (421)\ttotal: 4.98s\tremaining: 6.82s\n",
      "422:\tlearn: 0.1383969\ttest: 0.1678206\tbest: 0.1678141 (421)\ttotal: 4.99s\tremaining: 6.81s\n",
      "423:\tlearn: 0.1382973\ttest: 0.1677998\tbest: 0.1677998 (423)\ttotal: 5s\tremaining: 6.79s\n",
      "424:\tlearn: 0.1382414\ttest: 0.1677585\tbest: 0.1677585 (424)\ttotal: 5.01s\tremaining: 6.78s\n",
      "425:\tlearn: 0.1381204\ttest: 0.1676763\tbest: 0.1676763 (425)\ttotal: 5.02s\tremaining: 6.77s\n",
      "426:\tlearn: 0.1380275\ttest: 0.1676268\tbest: 0.1676268 (426)\ttotal: 5.04s\tremaining: 6.76s\n",
      "427:\tlearn: 0.1379425\ttest: 0.1675948\tbest: 0.1675948 (427)\ttotal: 5.05s\tremaining: 6.75s\n",
      "428:\tlearn: 0.1378692\ttest: 0.1675911\tbest: 0.1675911 (428)\ttotal: 5.06s\tremaining: 6.74s\n",
      "429:\tlearn: 0.1377767\ttest: 0.1675646\tbest: 0.1675646 (429)\ttotal: 5.07s\tremaining: 6.72s\n",
      "430:\tlearn: 0.1377149\ttest: 0.1676094\tbest: 0.1675646 (429)\ttotal: 5.08s\tremaining: 6.71s\n",
      "431:\tlearn: 0.1376680\ttest: 0.1676091\tbest: 0.1675646 (429)\ttotal: 5.1s\tremaining: 6.7s\n",
      "432:\tlearn: 0.1376090\ttest: 0.1676058\tbest: 0.1675646 (429)\ttotal: 5.11s\tremaining: 6.69s\n",
      "433:\tlearn: 0.1375478\ttest: 0.1675473\tbest: 0.1675473 (433)\ttotal: 5.17s\tremaining: 6.74s\n",
      "434:\tlearn: 0.1374519\ttest: 0.1675017\tbest: 0.1675017 (434)\ttotal: 5.19s\tremaining: 6.75s\n",
      "435:\tlearn: 0.1373782\ttest: 0.1675430\tbest: 0.1675017 (434)\ttotal: 5.21s\tremaining: 6.75s\n",
      "436:\tlearn: 0.1372808\ttest: 0.1674909\tbest: 0.1674909 (436)\ttotal: 5.23s\tremaining: 6.74s\n",
      "437:\tlearn: 0.1372101\ttest: 0.1674919\tbest: 0.1674909 (436)\ttotal: 5.25s\tremaining: 6.73s\n",
      "438:\tlearn: 0.1371444\ttest: 0.1674817\tbest: 0.1674817 (438)\ttotal: 5.26s\tremaining: 6.72s\n",
      "439:\tlearn: 0.1370354\ttest: 0.1674328\tbest: 0.1674328 (439)\ttotal: 5.27s\tremaining: 6.71s\n",
      "440:\tlearn: 0.1369383\ttest: 0.1674035\tbest: 0.1674035 (440)\ttotal: 5.29s\tremaining: 6.7s\n",
      "441:\tlearn: 0.1368758\ttest: 0.1673302\tbest: 0.1673302 (441)\ttotal: 5.3s\tremaining: 6.69s\n",
      "442:\tlearn: 0.1367853\ttest: 0.1672705\tbest: 0.1672705 (442)\ttotal: 5.31s\tremaining: 6.67s\n",
      "443:\tlearn: 0.1367408\ttest: 0.1672647\tbest: 0.1672647 (443)\ttotal: 5.32s\tremaining: 6.66s\n",
      "444:\tlearn: 0.1366619\ttest: 0.1672459\tbest: 0.1672459 (444)\ttotal: 5.33s\tremaining: 6.65s\n",
      "445:\tlearn: 0.1365622\ttest: 0.1672476\tbest: 0.1672459 (444)\ttotal: 5.34s\tremaining: 6.63s\n",
      "446:\tlearn: 0.1364955\ttest: 0.1672389\tbest: 0.1672389 (446)\ttotal: 5.35s\tremaining: 6.62s\n",
      "447:\tlearn: 0.1364082\ttest: 0.1672326\tbest: 0.1672326 (447)\ttotal: 5.36s\tremaining: 6.61s\n",
      "448:\tlearn: 0.1363159\ttest: 0.1671570\tbest: 0.1671570 (448)\ttotal: 5.37s\tremaining: 6.59s\n",
      "449:\tlearn: 0.1361951\ttest: 0.1671466\tbest: 0.1671466 (449)\ttotal: 5.38s\tremaining: 6.58s\n",
      "450:\tlearn: 0.1361378\ttest: 0.1671591\tbest: 0.1671466 (449)\ttotal: 5.39s\tremaining: 6.56s\n",
      "451:\tlearn: 0.1360754\ttest: 0.1671715\tbest: 0.1671466 (449)\ttotal: 5.4s\tremaining: 6.55s\n",
      "452:\tlearn: 0.1359846\ttest: 0.1671337\tbest: 0.1671337 (452)\ttotal: 5.41s\tremaining: 6.54s\n",
      "453:\tlearn: 0.1359068\ttest: 0.1670529\tbest: 0.1670529 (453)\ttotal: 5.42s\tremaining: 6.52s\n",
      "454:\tlearn: 0.1358482\ttest: 0.1670172\tbest: 0.1670172 (454)\ttotal: 5.43s\tremaining: 6.51s\n",
      "455:\tlearn: 0.1357811\ttest: 0.1670405\tbest: 0.1670172 (454)\ttotal: 5.44s\tremaining: 6.49s\n",
      "456:\tlearn: 0.1357070\ttest: 0.1670537\tbest: 0.1670172 (454)\ttotal: 5.45s\tremaining: 6.48s\n",
      "457:\tlearn: 0.1356141\ttest: 0.1670030\tbest: 0.1670030 (457)\ttotal: 5.46s\tremaining: 6.46s\n",
      "458:\tlearn: 0.1355270\ttest: 0.1670530\tbest: 0.1670030 (457)\ttotal: 5.47s\tremaining: 6.45s\n",
      "459:\tlearn: 0.1353787\ttest: 0.1669908\tbest: 0.1669908 (459)\ttotal: 5.48s\tremaining: 6.44s\n",
      "460:\tlearn: 0.1352837\ttest: 0.1670412\tbest: 0.1669908 (459)\ttotal: 5.49s\tremaining: 6.42s\n",
      "461:\tlearn: 0.1352252\ttest: 0.1670221\tbest: 0.1669908 (459)\ttotal: 5.5s\tremaining: 6.41s\n",
      "462:\tlearn: 0.1351272\ttest: 0.1670035\tbest: 0.1669908 (459)\ttotal: 5.51s\tremaining: 6.39s\n",
      "463:\tlearn: 0.1350622\ttest: 0.1669573\tbest: 0.1669573 (463)\ttotal: 5.53s\tremaining: 6.38s\n",
      "464:\tlearn: 0.1350069\ttest: 0.1669317\tbest: 0.1669317 (464)\ttotal: 5.54s\tremaining: 6.37s\n",
      "465:\tlearn: 0.1348669\ttest: 0.1668894\tbest: 0.1668894 (465)\ttotal: 5.55s\tremaining: 6.36s\n",
      "466:\tlearn: 0.1347633\ttest: 0.1668135\tbest: 0.1668135 (466)\ttotal: 5.56s\tremaining: 6.34s\n",
      "467:\tlearn: 0.1346126\ttest: 0.1667421\tbest: 0.1667421 (467)\ttotal: 5.57s\tremaining: 6.33s\n",
      "468:\tlearn: 0.1345488\ttest: 0.1666913\tbest: 0.1666913 (468)\ttotal: 5.58s\tremaining: 6.32s\n",
      "469:\tlearn: 0.1344219\ttest: 0.1666869\tbest: 0.1666869 (469)\ttotal: 5.59s\tremaining: 6.3s\n",
      "470:\tlearn: 0.1343000\ttest: 0.1667904\tbest: 0.1666869 (469)\ttotal: 5.6s\tremaining: 6.29s\n",
      "471:\tlearn: 0.1342023\ttest: 0.1667931\tbest: 0.1666869 (469)\ttotal: 5.61s\tremaining: 6.28s\n",
      "472:\tlearn: 0.1341108\ttest: 0.1667796\tbest: 0.1666869 (469)\ttotal: 5.62s\tremaining: 6.26s\n",
      "473:\tlearn: 0.1340419\ttest: 0.1667693\tbest: 0.1666869 (469)\ttotal: 5.63s\tremaining: 6.25s\n",
      "474:\tlearn: 0.1339440\ttest: 0.1667487\tbest: 0.1666869 (469)\ttotal: 5.64s\tremaining: 6.24s\n",
      "475:\tlearn: 0.1338470\ttest: 0.1667125\tbest: 0.1666869 (469)\ttotal: 5.65s\tremaining: 6.22s\n",
      "476:\tlearn: 0.1338201\ttest: 0.1667159\tbest: 0.1666869 (469)\ttotal: 5.66s\tremaining: 6.21s\n",
      "477:\tlearn: 0.1337471\ttest: 0.1666594\tbest: 0.1666594 (477)\ttotal: 5.67s\tremaining: 6.19s\n",
      "478:\tlearn: 0.1336801\ttest: 0.1666591\tbest: 0.1666591 (478)\ttotal: 5.68s\tremaining: 6.18s\n",
      "479:\tlearn: 0.1335901\ttest: 0.1666453\tbest: 0.1666453 (479)\ttotal: 5.69s\tremaining: 6.16s\n",
      "480:\tlearn: 0.1335290\ttest: 0.1666174\tbest: 0.1666174 (480)\ttotal: 5.7s\tremaining: 6.15s\n",
      "481:\tlearn: 0.1333990\ttest: 0.1665082\tbest: 0.1665082 (481)\ttotal: 5.71s\tremaining: 6.14s\n",
      "482:\tlearn: 0.1333486\ttest: 0.1664909\tbest: 0.1664909 (482)\ttotal: 5.72s\tremaining: 6.13s\n",
      "483:\tlearn: 0.1333196\ttest: 0.1665049\tbest: 0.1664909 (482)\ttotal: 5.74s\tremaining: 6.12s\n",
      "484:\tlearn: 0.1332564\ttest: 0.1664444\tbest: 0.1664444 (484)\ttotal: 5.75s\tremaining: 6.11s\n",
      "485:\tlearn: 0.1331732\ttest: 0.1664129\tbest: 0.1664129 (485)\ttotal: 5.76s\tremaining: 6.09s\n",
      "486:\tlearn: 0.1330847\ttest: 0.1663906\tbest: 0.1663906 (486)\ttotal: 5.77s\tremaining: 6.08s\n",
      "487:\tlearn: 0.1329985\ttest: 0.1663426\tbest: 0.1663426 (487)\ttotal: 5.79s\tremaining: 6.07s\n",
      "488:\tlearn: 0.1328853\ttest: 0.1663502\tbest: 0.1663426 (487)\ttotal: 5.8s\tremaining: 6.06s\n",
      "489:\tlearn: 0.1327863\ttest: 0.1663019\tbest: 0.1663019 (489)\ttotal: 5.81s\tremaining: 6.05s\n",
      "490:\tlearn: 0.1326894\ttest: 0.1663415\tbest: 0.1663019 (489)\ttotal: 5.82s\tremaining: 6.03s\n",
      "491:\tlearn: 0.1326295\ttest: 0.1662977\tbest: 0.1662977 (491)\ttotal: 5.83s\tremaining: 6.02s\n",
      "492:\tlearn: 0.1325934\ttest: 0.1663105\tbest: 0.1662977 (491)\ttotal: 5.84s\tremaining: 6.01s\n",
      "493:\tlearn: 0.1325152\ttest: 0.1663193\tbest: 0.1662977 (491)\ttotal: 5.86s\tremaining: 6s\n",
      "494:\tlearn: 0.1324442\ttest: 0.1663071\tbest: 0.1662977 (491)\ttotal: 5.87s\tremaining: 5.99s\n",
      "495:\tlearn: 0.1323864\ttest: 0.1662946\tbest: 0.1662946 (495)\ttotal: 5.88s\tremaining: 5.97s\n",
      "496:\tlearn: 0.1323019\ttest: 0.1662181\tbest: 0.1662181 (496)\ttotal: 5.89s\tremaining: 5.96s\n",
      "497:\tlearn: 0.1322142\ttest: 0.1661598\tbest: 0.1661598 (497)\ttotal: 5.9s\tremaining: 5.95s\n",
      "498:\tlearn: 0.1321536\ttest: 0.1661622\tbest: 0.1661598 (497)\ttotal: 5.92s\tremaining: 5.94s\n",
      "499:\tlearn: 0.1320904\ttest: 0.1661377\tbest: 0.1661377 (499)\ttotal: 5.93s\tremaining: 5.93s\n",
      "500:\tlearn: 0.1320027\ttest: 0.1661094\tbest: 0.1661094 (500)\ttotal: 5.94s\tremaining: 5.92s\n",
      "501:\tlearn: 0.1319041\ttest: 0.1660620\tbest: 0.1660620 (501)\ttotal: 5.95s\tremaining: 5.91s\n",
      "502:\tlearn: 0.1318190\ttest: 0.1660358\tbest: 0.1660358 (502)\ttotal: 5.97s\tremaining: 5.89s\n",
      "503:\tlearn: 0.1317507\ttest: 0.1660507\tbest: 0.1660358 (502)\ttotal: 5.98s\tremaining: 5.88s\n",
      "504:\tlearn: 0.1316385\ttest: 0.1660171\tbest: 0.1660171 (504)\ttotal: 5.99s\tremaining: 5.87s\n",
      "505:\tlearn: 0.1315657\ttest: 0.1659807\tbest: 0.1659807 (505)\ttotal: 6s\tremaining: 5.86s\n",
      "506:\tlearn: 0.1315118\ttest: 0.1659790\tbest: 0.1659790 (506)\ttotal: 6.01s\tremaining: 5.85s\n",
      "507:\tlearn: 0.1314914\ttest: 0.1659699\tbest: 0.1659699 (507)\ttotal: 6.03s\tremaining: 5.84s\n",
      "508:\tlearn: 0.1314474\ttest: 0.1659504\tbest: 0.1659504 (508)\ttotal: 6.04s\tremaining: 5.83s\n",
      "509:\tlearn: 0.1313928\ttest: 0.1659259\tbest: 0.1659259 (509)\ttotal: 6.05s\tremaining: 5.81s\n",
      "510:\tlearn: 0.1312884\ttest: 0.1659226\tbest: 0.1659226 (510)\ttotal: 6.06s\tremaining: 5.8s\n",
      "511:\tlearn: 0.1312112\ttest: 0.1659411\tbest: 0.1659226 (510)\ttotal: 6.07s\tremaining: 5.79s\n",
      "512:\tlearn: 0.1311374\ttest: 0.1659422\tbest: 0.1659226 (510)\ttotal: 6.09s\tremaining: 5.78s\n",
      "513:\tlearn: 0.1310744\ttest: 0.1659427\tbest: 0.1659226 (510)\ttotal: 6.1s\tremaining: 5.77s\n",
      "514:\tlearn: 0.1310350\ttest: 0.1659491\tbest: 0.1659226 (510)\ttotal: 6.11s\tremaining: 5.75s\n",
      "515:\tlearn: 0.1309509\ttest: 0.1659404\tbest: 0.1659226 (510)\ttotal: 6.12s\tremaining: 5.74s\n"
     ]
    },
    {
     "name": "stdout",
     "output_type": "stream",
     "text": [
      "516:\tlearn: 0.1308406\ttest: 0.1658688\tbest: 0.1658688 (516)\ttotal: 6.14s\tremaining: 5.73s\n",
      "517:\tlearn: 0.1308216\ttest: 0.1658617\tbest: 0.1658617 (517)\ttotal: 6.15s\tremaining: 5.72s\n",
      "518:\tlearn: 0.1307350\ttest: 0.1658525\tbest: 0.1658525 (518)\ttotal: 6.16s\tremaining: 5.71s\n",
      "519:\tlearn: 0.1306737\ttest: 0.1658731\tbest: 0.1658525 (518)\ttotal: 6.17s\tremaining: 5.7s\n",
      "520:\tlearn: 0.1306376\ttest: 0.1658484\tbest: 0.1658484 (520)\ttotal: 6.18s\tremaining: 5.69s\n",
      "521:\tlearn: 0.1305912\ttest: 0.1658492\tbest: 0.1658484 (520)\ttotal: 6.2s\tremaining: 5.67s\n",
      "522:\tlearn: 0.1305240\ttest: 0.1658383\tbest: 0.1658383 (522)\ttotal: 6.21s\tremaining: 5.66s\n",
      "523:\tlearn: 0.1304628\ttest: 0.1657988\tbest: 0.1657988 (523)\ttotal: 6.22s\tremaining: 5.65s\n",
      "524:\tlearn: 0.1303976\ttest: 0.1658409\tbest: 0.1657988 (523)\ttotal: 6.24s\tremaining: 5.64s\n",
      "525:\tlearn: 0.1303471\ttest: 0.1657999\tbest: 0.1657988 (523)\ttotal: 6.25s\tremaining: 5.63s\n",
      "526:\tlearn: 0.1303096\ttest: 0.1657720\tbest: 0.1657720 (526)\ttotal: 6.26s\tremaining: 5.62s\n",
      "527:\tlearn: 0.1302629\ttest: 0.1657494\tbest: 0.1657494 (527)\ttotal: 6.27s\tremaining: 5.61s\n",
      "528:\tlearn: 0.1301996\ttest: 0.1657041\tbest: 0.1657041 (528)\ttotal: 6.28s\tremaining: 5.59s\n",
      "529:\tlearn: 0.1301298\ttest: 0.1657541\tbest: 0.1657041 (528)\ttotal: 6.3s\tremaining: 5.58s\n",
      "530:\tlearn: 0.1300461\ttest: 0.1657509\tbest: 0.1657041 (528)\ttotal: 6.31s\tremaining: 5.57s\n",
      "531:\tlearn: 0.1300004\ttest: 0.1657455\tbest: 0.1657041 (528)\ttotal: 6.32s\tremaining: 5.56s\n",
      "532:\tlearn: 0.1299417\ttest: 0.1657605\tbest: 0.1657041 (528)\ttotal: 6.33s\tremaining: 5.55s\n",
      "533:\tlearn: 0.1299066\ttest: 0.1657535\tbest: 0.1657041 (528)\ttotal: 6.35s\tremaining: 5.54s\n",
      "534:\tlearn: 0.1298030\ttest: 0.1656902\tbest: 0.1656902 (534)\ttotal: 6.36s\tremaining: 5.53s\n",
      "535:\tlearn: 0.1297562\ttest: 0.1657004\tbest: 0.1656902 (534)\ttotal: 6.37s\tremaining: 5.52s\n",
      "536:\tlearn: 0.1296793\ttest: 0.1656760\tbest: 0.1656760 (536)\ttotal: 6.38s\tremaining: 5.5s\n",
      "537:\tlearn: 0.1296391\ttest: 0.1656749\tbest: 0.1656749 (537)\ttotal: 6.4s\tremaining: 5.49s\n",
      "538:\tlearn: 0.1295511\ttest: 0.1656771\tbest: 0.1656749 (537)\ttotal: 6.41s\tremaining: 5.48s\n",
      "539:\tlearn: 0.1294669\ttest: 0.1656628\tbest: 0.1656628 (539)\ttotal: 6.42s\tremaining: 5.47s\n",
      "540:\tlearn: 0.1293704\ttest: 0.1656294\tbest: 0.1656294 (540)\ttotal: 6.44s\tremaining: 5.46s\n",
      "541:\tlearn: 0.1293086\ttest: 0.1656154\tbest: 0.1656154 (541)\ttotal: 6.45s\tremaining: 5.45s\n",
      "542:\tlearn: 0.1292549\ttest: 0.1655914\tbest: 0.1655914 (542)\ttotal: 6.46s\tremaining: 5.44s\n",
      "543:\tlearn: 0.1291704\ttest: 0.1655885\tbest: 0.1655885 (543)\ttotal: 6.47s\tremaining: 5.43s\n",
      "544:\tlearn: 0.1290358\ttest: 0.1654831\tbest: 0.1654831 (544)\ttotal: 6.49s\tremaining: 5.42s\n",
      "545:\tlearn: 0.1289472\ttest: 0.1654197\tbest: 0.1654197 (545)\ttotal: 6.5s\tremaining: 5.41s\n",
      "546:\tlearn: 0.1289210\ttest: 0.1654163\tbest: 0.1654163 (546)\ttotal: 6.51s\tremaining: 5.39s\n",
      "547:\tlearn: 0.1288919\ttest: 0.1653924\tbest: 0.1653924 (547)\ttotal: 6.53s\tremaining: 5.38s\n",
      "548:\tlearn: 0.1288442\ttest: 0.1653983\tbest: 0.1653924 (547)\ttotal: 6.54s\tremaining: 5.37s\n",
      "549:\tlearn: 0.1287451\ttest: 0.1653510\tbest: 0.1653510 (549)\ttotal: 6.56s\tremaining: 5.36s\n",
      "550:\tlearn: 0.1286786\ttest: 0.1653234\tbest: 0.1653234 (550)\ttotal: 6.57s\tremaining: 5.35s\n",
      "551:\tlearn: 0.1285845\ttest: 0.1652862\tbest: 0.1652862 (551)\ttotal: 6.58s\tremaining: 5.34s\n",
      "552:\tlearn: 0.1285106\ttest: 0.1651782\tbest: 0.1651782 (552)\ttotal: 6.59s\tremaining: 5.33s\n",
      "553:\tlearn: 0.1284192\ttest: 0.1651499\tbest: 0.1651499 (553)\ttotal: 6.61s\tremaining: 5.32s\n",
      "554:\tlearn: 0.1283943\ttest: 0.1651579\tbest: 0.1651499 (553)\ttotal: 6.62s\tremaining: 5.31s\n",
      "555:\tlearn: 0.1282941\ttest: 0.1651828\tbest: 0.1651499 (553)\ttotal: 6.63s\tremaining: 5.3s\n",
      "556:\tlearn: 0.1282422\ttest: 0.1651571\tbest: 0.1651499 (553)\ttotal: 6.64s\tremaining: 5.29s\n",
      "557:\tlearn: 0.1281629\ttest: 0.1651367\tbest: 0.1651367 (557)\ttotal: 6.66s\tremaining: 5.27s\n",
      "558:\tlearn: 0.1280773\ttest: 0.1650674\tbest: 0.1650674 (558)\ttotal: 6.67s\tremaining: 5.26s\n",
      "559:\tlearn: 0.1279128\ttest: 0.1649890\tbest: 0.1649890 (559)\ttotal: 6.68s\tremaining: 5.25s\n",
      "560:\tlearn: 0.1278170\ttest: 0.1649024\tbest: 0.1649024 (560)\ttotal: 6.7s\tremaining: 5.24s\n",
      "561:\tlearn: 0.1277711\ttest: 0.1649077\tbest: 0.1649024 (560)\ttotal: 6.71s\tremaining: 5.23s\n",
      "562:\tlearn: 0.1277017\ttest: 0.1648739\tbest: 0.1648739 (562)\ttotal: 6.72s\tremaining: 5.21s\n",
      "563:\tlearn: 0.1276281\ttest: 0.1648676\tbest: 0.1648676 (563)\ttotal: 6.73s\tremaining: 5.2s\n",
      "564:\tlearn: 0.1275935\ttest: 0.1648591\tbest: 0.1648591 (564)\ttotal: 6.74s\tremaining: 5.19s\n",
      "565:\tlearn: 0.1275316\ttest: 0.1648592\tbest: 0.1648591 (564)\ttotal: 6.76s\tremaining: 5.18s\n",
      "566:\tlearn: 0.1274419\ttest: 0.1648162\tbest: 0.1648162 (566)\ttotal: 6.77s\tremaining: 5.17s\n",
      "567:\tlearn: 0.1273060\ttest: 0.1646713\tbest: 0.1646713 (567)\ttotal: 6.79s\tremaining: 5.16s\n",
      "568:\tlearn: 0.1272389\ttest: 0.1647160\tbest: 0.1646713 (567)\ttotal: 6.8s\tremaining: 5.15s\n",
      "569:\tlearn: 0.1271656\ttest: 0.1647047\tbest: 0.1646713 (567)\ttotal: 6.81s\tremaining: 5.14s\n",
      "570:\tlearn: 0.1271038\ttest: 0.1646912\tbest: 0.1646713 (567)\ttotal: 6.83s\tremaining: 5.13s\n",
      "571:\tlearn: 0.1270188\ttest: 0.1646568\tbest: 0.1646568 (571)\ttotal: 6.84s\tremaining: 5.12s\n",
      "572:\tlearn: 0.1268624\ttest: 0.1646877\tbest: 0.1646568 (571)\ttotal: 6.85s\tremaining: 5.11s\n",
      "573:\tlearn: 0.1268029\ttest: 0.1646508\tbest: 0.1646508 (573)\ttotal: 6.87s\tremaining: 5.09s\n",
      "574:\tlearn: 0.1267172\ttest: 0.1646094\tbest: 0.1646094 (574)\ttotal: 6.88s\tremaining: 5.08s\n",
      "575:\tlearn: 0.1266418\ttest: 0.1645937\tbest: 0.1645937 (575)\ttotal: 6.89s\tremaining: 5.07s\n",
      "576:\tlearn: 0.1265418\ttest: 0.1645736\tbest: 0.1645736 (576)\ttotal: 6.9s\tremaining: 5.06s\n",
      "577:\tlearn: 0.1264901\ttest: 0.1645662\tbest: 0.1645662 (577)\ttotal: 6.92s\tremaining: 5.05s\n",
      "578:\tlearn: 0.1264378\ttest: 0.1645825\tbest: 0.1645662 (577)\ttotal: 6.93s\tremaining: 5.04s\n",
      "579:\tlearn: 0.1263682\ttest: 0.1645869\tbest: 0.1645662 (577)\ttotal: 6.94s\tremaining: 5.03s\n",
      "580:\tlearn: 0.1263103\ttest: 0.1645713\tbest: 0.1645662 (577)\ttotal: 6.96s\tremaining: 5.01s\n",
      "581:\tlearn: 0.1262448\ttest: 0.1645949\tbest: 0.1645662 (577)\ttotal: 6.97s\tremaining: 5.01s\n",
      "582:\tlearn: 0.1261774\ttest: 0.1645714\tbest: 0.1645662 (577)\ttotal: 6.98s\tremaining: 5s\n",
      "583:\tlearn: 0.1260824\ttest: 0.1644293\tbest: 0.1644293 (583)\ttotal: 7s\tremaining: 4.98s\n",
      "584:\tlearn: 0.1260229\ttest: 0.1643631\tbest: 0.1643631 (584)\ttotal: 7.01s\tremaining: 4.97s\n",
      "585:\tlearn: 0.1259588\ttest: 0.1643564\tbest: 0.1643564 (585)\ttotal: 7.02s\tremaining: 4.96s\n",
      "586:\tlearn: 0.1258811\ttest: 0.1642926\tbest: 0.1642926 (586)\ttotal: 7.03s\tremaining: 4.95s\n",
      "587:\tlearn: 0.1258168\ttest: 0.1642648\tbest: 0.1642648 (587)\ttotal: 7.04s\tremaining: 4.93s\n",
      "588:\tlearn: 0.1257700\ttest: 0.1642032\tbest: 0.1642032 (588)\ttotal: 7.05s\tremaining: 4.92s\n",
      "589:\tlearn: 0.1257076\ttest: 0.1642193\tbest: 0.1642032 (588)\ttotal: 7.07s\tremaining: 4.91s\n",
      "590:\tlearn: 0.1256214\ttest: 0.1642149\tbest: 0.1642032 (588)\ttotal: 7.08s\tremaining: 4.9s\n",
      "591:\tlearn: 0.1255153\ttest: 0.1642156\tbest: 0.1642032 (588)\ttotal: 7.09s\tremaining: 4.89s\n",
      "592:\tlearn: 0.1254566\ttest: 0.1642222\tbest: 0.1642032 (588)\ttotal: 7.1s\tremaining: 4.87s\n",
      "593:\tlearn: 0.1253616\ttest: 0.1641546\tbest: 0.1641546 (593)\ttotal: 7.11s\tremaining: 4.86s\n",
      "594:\tlearn: 0.1253075\ttest: 0.1641091\tbest: 0.1641091 (594)\ttotal: 7.12s\tremaining: 4.85s\n",
      "595:\tlearn: 0.1252098\ttest: 0.1640959\tbest: 0.1640959 (595)\ttotal: 7.13s\tremaining: 4.84s\n",
      "596:\tlearn: 0.1251431\ttest: 0.1640927\tbest: 0.1640927 (596)\ttotal: 7.14s\tremaining: 4.82s\n",
      "597:\tlearn: 0.1250657\ttest: 0.1640699\tbest: 0.1640699 (597)\ttotal: 7.16s\tremaining: 4.81s\n",
      "598:\tlearn: 0.1250075\ttest: 0.1640287\tbest: 0.1640287 (598)\ttotal: 7.17s\tremaining: 4.8s\n",
      "599:\tlearn: 0.1249367\ttest: 0.1640100\tbest: 0.1640100 (599)\ttotal: 7.18s\tremaining: 4.79s\n",
      "600:\tlearn: 0.1248774\ttest: 0.1640024\tbest: 0.1640024 (600)\ttotal: 7.19s\tremaining: 4.77s\n",
      "601:\tlearn: 0.1248484\ttest: 0.1640078\tbest: 0.1640024 (600)\ttotal: 7.2s\tremaining: 4.76s\n",
      "602:\tlearn: 0.1247917\ttest: 0.1639946\tbest: 0.1639946 (602)\ttotal: 7.21s\tremaining: 4.75s\n",
      "603:\tlearn: 0.1246821\ttest: 0.1639896\tbest: 0.1639896 (603)\ttotal: 7.22s\tremaining: 4.74s\n",
      "604:\tlearn: 0.1245938\ttest: 0.1640151\tbest: 0.1639896 (603)\ttotal: 7.23s\tremaining: 4.72s\n",
      "605:\tlearn: 0.1244976\ttest: 0.1640668\tbest: 0.1639896 (603)\ttotal: 7.24s\tremaining: 4.71s\n",
      "606:\tlearn: 0.1244820\ttest: 0.1640581\tbest: 0.1639896 (603)\ttotal: 7.25s\tremaining: 4.7s\n",
      "607:\tlearn: 0.1243878\ttest: 0.1640267\tbest: 0.1639896 (603)\ttotal: 7.26s\tremaining: 4.68s\n",
      "608:\tlearn: 0.1243247\ttest: 0.1640407\tbest: 0.1639896 (603)\ttotal: 7.27s\tremaining: 4.67s\n",
      "609:\tlearn: 0.1242679\ttest: 0.1639870\tbest: 0.1639870 (609)\ttotal: 7.29s\tremaining: 4.66s\n",
      "610:\tlearn: 0.1241997\ttest: 0.1640111\tbest: 0.1639870 (609)\ttotal: 7.29s\tremaining: 4.64s\n",
      "611:\tlearn: 0.1241036\ttest: 0.1639867\tbest: 0.1639867 (611)\ttotal: 7.3s\tremaining: 4.63s\n",
      "612:\tlearn: 0.1239715\ttest: 0.1638809\tbest: 0.1638809 (612)\ttotal: 7.32s\tremaining: 4.62s\n",
      "613:\tlearn: 0.1238619\ttest: 0.1637987\tbest: 0.1637987 (613)\ttotal: 7.33s\tremaining: 4.61s\n",
      "614:\tlearn: 0.1237550\ttest: 0.1637642\tbest: 0.1637642 (614)\ttotal: 7.34s\tremaining: 4.59s\n",
      "615:\tlearn: 0.1236597\ttest: 0.1636954\tbest: 0.1636954 (615)\ttotal: 7.35s\tremaining: 4.58s\n",
      "616:\tlearn: 0.1236373\ttest: 0.1637113\tbest: 0.1636954 (615)\ttotal: 7.36s\tremaining: 4.57s\n"
     ]
    },
    {
     "name": "stdout",
     "output_type": "stream",
     "text": [
      "617:\tlearn: 0.1235872\ttest: 0.1637182\tbest: 0.1636954 (615)\ttotal: 7.37s\tremaining: 4.55s\n",
      "618:\tlearn: 0.1235452\ttest: 0.1636797\tbest: 0.1636797 (618)\ttotal: 7.38s\tremaining: 4.54s\n",
      "619:\tlearn: 0.1235120\ttest: 0.1636831\tbest: 0.1636797 (618)\ttotal: 7.39s\tremaining: 4.53s\n",
      "620:\tlearn: 0.1235025\ttest: 0.1636902\tbest: 0.1636797 (618)\ttotal: 7.41s\tremaining: 4.52s\n",
      "621:\tlearn: 0.1234388\ttest: 0.1637047\tbest: 0.1636797 (618)\ttotal: 7.42s\tremaining: 4.51s\n",
      "622:\tlearn: 0.1233772\ttest: 0.1636838\tbest: 0.1636797 (618)\ttotal: 7.43s\tremaining: 4.49s\n",
      "623:\tlearn: 0.1233122\ttest: 0.1636099\tbest: 0.1636099 (623)\ttotal: 7.44s\tremaining: 4.48s\n",
      "624:\tlearn: 0.1232232\ttest: 0.1635979\tbest: 0.1635979 (624)\ttotal: 7.45s\tremaining: 4.47s\n",
      "625:\tlearn: 0.1231518\ttest: 0.1635483\tbest: 0.1635483 (625)\ttotal: 7.46s\tremaining: 4.46s\n",
      "626:\tlearn: 0.1230895\ttest: 0.1635640\tbest: 0.1635483 (625)\ttotal: 7.47s\tremaining: 4.45s\n",
      "627:\tlearn: 0.1230216\ttest: 0.1635197\tbest: 0.1635197 (627)\ttotal: 7.49s\tremaining: 4.43s\n",
      "628:\tlearn: 0.1229264\ttest: 0.1634535\tbest: 0.1634535 (628)\ttotal: 7.51s\tremaining: 4.43s\n",
      "629:\tlearn: 0.1228904\ttest: 0.1634494\tbest: 0.1634494 (629)\ttotal: 7.52s\tremaining: 4.42s\n",
      "630:\tlearn: 0.1228546\ttest: 0.1634328\tbest: 0.1634328 (630)\ttotal: 7.53s\tremaining: 4.4s\n",
      "631:\tlearn: 0.1228419\ttest: 0.1634202\tbest: 0.1634202 (631)\ttotal: 7.55s\tremaining: 4.4s\n",
      "632:\tlearn: 0.1227887\ttest: 0.1633695\tbest: 0.1633695 (632)\ttotal: 7.57s\tremaining: 4.39s\n",
      "633:\tlearn: 0.1227526\ttest: 0.1633910\tbest: 0.1633695 (632)\ttotal: 7.58s\tremaining: 4.38s\n",
      "634:\tlearn: 0.1227209\ttest: 0.1633778\tbest: 0.1633695 (632)\ttotal: 7.6s\tremaining: 4.37s\n",
      "635:\tlearn: 0.1226445\ttest: 0.1633381\tbest: 0.1633381 (635)\ttotal: 7.61s\tremaining: 4.35s\n",
      "636:\tlearn: 0.1225887\ttest: 0.1633504\tbest: 0.1633381 (635)\ttotal: 7.62s\tremaining: 4.34s\n",
      "637:\tlearn: 0.1225008\ttest: 0.1633151\tbest: 0.1633151 (637)\ttotal: 7.63s\tremaining: 4.33s\n",
      "638:\tlearn: 0.1224128\ttest: 0.1632102\tbest: 0.1632102 (638)\ttotal: 7.65s\tremaining: 4.32s\n",
      "639:\tlearn: 0.1223206\ttest: 0.1631977\tbest: 0.1631977 (639)\ttotal: 7.66s\tremaining: 4.31s\n",
      "640:\tlearn: 0.1222618\ttest: 0.1631677\tbest: 0.1631677 (640)\ttotal: 7.67s\tremaining: 4.29s\n",
      "641:\tlearn: 0.1221927\ttest: 0.1631027\tbest: 0.1631027 (641)\ttotal: 7.68s\tremaining: 4.28s\n",
      "642:\tlearn: 0.1221157\ttest: 0.1629859\tbest: 0.1629859 (642)\ttotal: 7.7s\tremaining: 4.27s\n",
      "643:\tlearn: 0.1220271\ttest: 0.1629898\tbest: 0.1629859 (642)\ttotal: 7.71s\tremaining: 4.26s\n",
      "644:\tlearn: 0.1219728\ttest: 0.1629594\tbest: 0.1629594 (644)\ttotal: 7.72s\tremaining: 4.25s\n",
      "645:\tlearn: 0.1219102\ttest: 0.1629133\tbest: 0.1629133 (645)\ttotal: 7.74s\tremaining: 4.24s\n",
      "646:\tlearn: 0.1218478\ttest: 0.1628953\tbest: 0.1628953 (646)\ttotal: 7.75s\tremaining: 4.23s\n",
      "647:\tlearn: 0.1217898\ttest: 0.1629019\tbest: 0.1628953 (646)\ttotal: 7.76s\tremaining: 4.22s\n",
      "648:\tlearn: 0.1216952\ttest: 0.1629078\tbest: 0.1628953 (646)\ttotal: 7.78s\tremaining: 4.21s\n",
      "649:\tlearn: 0.1216442\ttest: 0.1628475\tbest: 0.1628475 (649)\ttotal: 7.79s\tremaining: 4.2s\n",
      "650:\tlearn: 0.1216050\ttest: 0.1628304\tbest: 0.1628304 (650)\ttotal: 7.8s\tremaining: 4.18s\n",
      "651:\tlearn: 0.1215014\ttest: 0.1628309\tbest: 0.1628304 (650)\ttotal: 7.82s\tremaining: 4.17s\n",
      "652:\tlearn: 0.1214411\ttest: 0.1628424\tbest: 0.1628304 (650)\ttotal: 7.83s\tremaining: 4.16s\n",
      "653:\tlearn: 0.1213482\ttest: 0.1627937\tbest: 0.1627937 (653)\ttotal: 7.84s\tremaining: 4.15s\n",
      "654:\tlearn: 0.1212462\ttest: 0.1627517\tbest: 0.1627517 (654)\ttotal: 7.85s\tremaining: 4.14s\n",
      "655:\tlearn: 0.1211943\ttest: 0.1627266\tbest: 0.1627266 (655)\ttotal: 7.87s\tremaining: 4.12s\n",
      "656:\tlearn: 0.1211121\ttest: 0.1627000\tbest: 0.1627000 (656)\ttotal: 7.88s\tremaining: 4.11s\n",
      "657:\tlearn: 0.1210485\ttest: 0.1625769\tbest: 0.1625769 (657)\ttotal: 7.89s\tremaining: 4.1s\n",
      "658:\tlearn: 0.1209832\ttest: 0.1625668\tbest: 0.1625668 (658)\ttotal: 7.9s\tremaining: 4.09s\n",
      "659:\tlearn: 0.1209101\ttest: 0.1625324\tbest: 0.1625324 (659)\ttotal: 7.92s\tremaining: 4.08s\n",
      "660:\tlearn: 0.1208560\ttest: 0.1625288\tbest: 0.1625288 (660)\ttotal: 7.93s\tremaining: 4.07s\n",
      "661:\tlearn: 0.1207944\ttest: 0.1625566\tbest: 0.1625288 (660)\ttotal: 7.94s\tremaining: 4.05s\n",
      "662:\tlearn: 0.1207836\ttest: 0.1625756\tbest: 0.1625288 (660)\ttotal: 7.95s\tremaining: 4.04s\n",
      "663:\tlearn: 0.1207523\ttest: 0.1625376\tbest: 0.1625288 (660)\ttotal: 7.96s\tremaining: 4.03s\n",
      "664:\tlearn: 0.1207420\ttest: 0.1625391\tbest: 0.1625288 (660)\ttotal: 7.98s\tremaining: 4.02s\n",
      "665:\tlearn: 0.1206784\ttest: 0.1624929\tbest: 0.1624929 (665)\ttotal: 8s\tremaining: 4.01s\n",
      "666:\tlearn: 0.1206132\ttest: 0.1624612\tbest: 0.1624612 (666)\ttotal: 8.01s\tremaining: 4s\n",
      "667:\tlearn: 0.1205271\ttest: 0.1624520\tbest: 0.1624520 (667)\ttotal: 8.02s\tremaining: 3.99s\n",
      "668:\tlearn: 0.1204517\ttest: 0.1624974\tbest: 0.1624520 (667)\ttotal: 8.04s\tremaining: 3.98s\n",
      "669:\tlearn: 0.1203790\ttest: 0.1624389\tbest: 0.1624389 (669)\ttotal: 8.05s\tremaining: 3.97s\n",
      "670:\tlearn: 0.1203281\ttest: 0.1624602\tbest: 0.1624389 (669)\ttotal: 8.07s\tremaining: 3.96s\n",
      "671:\tlearn: 0.1202128\ttest: 0.1624607\tbest: 0.1624389 (669)\ttotal: 8.08s\tremaining: 3.94s\n",
      "672:\tlearn: 0.1201715\ttest: 0.1624471\tbest: 0.1624389 (669)\ttotal: 8.09s\tremaining: 3.93s\n",
      "673:\tlearn: 0.1201387\ttest: 0.1624126\tbest: 0.1624126 (673)\ttotal: 8.11s\tremaining: 3.92s\n",
      "674:\tlearn: 0.1200717\ttest: 0.1623993\tbest: 0.1623993 (674)\ttotal: 8.12s\tremaining: 3.91s\n",
      "675:\tlearn: 0.1199496\ttest: 0.1623660\tbest: 0.1623660 (675)\ttotal: 8.13s\tremaining: 3.9s\n",
      "676:\tlearn: 0.1198749\ttest: 0.1622006\tbest: 0.1622006 (676)\ttotal: 8.15s\tremaining: 3.89s\n",
      "677:\tlearn: 0.1197828\ttest: 0.1622251\tbest: 0.1622006 (676)\ttotal: 8.16s\tremaining: 3.88s\n",
      "678:\tlearn: 0.1197416\ttest: 0.1622527\tbest: 0.1622006 (676)\ttotal: 8.18s\tremaining: 3.86s\n",
      "679:\tlearn: 0.1196636\ttest: 0.1622592\tbest: 0.1622006 (676)\ttotal: 8.19s\tremaining: 3.85s\n",
      "680:\tlearn: 0.1195924\ttest: 0.1622607\tbest: 0.1622006 (676)\ttotal: 8.21s\tremaining: 3.84s\n",
      "681:\tlearn: 0.1195461\ttest: 0.1622648\tbest: 0.1622006 (676)\ttotal: 8.22s\tremaining: 3.83s\n",
      "682:\tlearn: 0.1195325\ttest: 0.1622613\tbest: 0.1622006 (676)\ttotal: 8.23s\tremaining: 3.82s\n",
      "683:\tlearn: 0.1194982\ttest: 0.1622382\tbest: 0.1622006 (676)\ttotal: 8.24s\tremaining: 3.81s\n",
      "684:\tlearn: 0.1193992\ttest: 0.1622392\tbest: 0.1622006 (676)\ttotal: 8.26s\tremaining: 3.8s\n",
      "685:\tlearn: 0.1193827\ttest: 0.1622360\tbest: 0.1622006 (676)\ttotal: 8.27s\tremaining: 3.79s\n",
      "686:\tlearn: 0.1193398\ttest: 0.1622503\tbest: 0.1622006 (676)\ttotal: 8.29s\tremaining: 3.77s\n",
      "687:\tlearn: 0.1192873\ttest: 0.1622035\tbest: 0.1622006 (676)\ttotal: 8.3s\tremaining: 3.76s\n",
      "688:\tlearn: 0.1192113\ttest: 0.1621536\tbest: 0.1621536 (688)\ttotal: 8.31s\tremaining: 3.75s\n",
      "689:\tlearn: 0.1191728\ttest: 0.1621367\tbest: 0.1621367 (689)\ttotal: 8.32s\tremaining: 3.74s\n",
      "690:\tlearn: 0.1191201\ttest: 0.1621155\tbest: 0.1621155 (690)\ttotal: 8.33s\tremaining: 3.73s\n",
      "691:\tlearn: 0.1190638\ttest: 0.1621132\tbest: 0.1621132 (691)\ttotal: 8.34s\tremaining: 3.71s\n",
      "692:\tlearn: 0.1189990\ttest: 0.1621422\tbest: 0.1621132 (691)\ttotal: 8.36s\tremaining: 3.7s\n",
      "693:\tlearn: 0.1189155\ttest: 0.1621182\tbest: 0.1621132 (691)\ttotal: 8.37s\tremaining: 3.69s\n",
      "694:\tlearn: 0.1188301\ttest: 0.1620833\tbest: 0.1620833 (694)\ttotal: 8.38s\tremaining: 3.68s\n",
      "695:\tlearn: 0.1187868\ttest: 0.1620759\tbest: 0.1620759 (695)\ttotal: 8.4s\tremaining: 3.67s\n",
      "696:\tlearn: 0.1187261\ttest: 0.1620511\tbest: 0.1620511 (696)\ttotal: 8.41s\tremaining: 3.65s\n",
      "697:\tlearn: 0.1186327\ttest: 0.1619855\tbest: 0.1619855 (697)\ttotal: 8.43s\tremaining: 3.65s\n",
      "698:\tlearn: 0.1186243\ttest: 0.1620014\tbest: 0.1619855 (697)\ttotal: 8.45s\tremaining: 3.64s\n",
      "699:\tlearn: 0.1185710\ttest: 0.1620110\tbest: 0.1619855 (697)\ttotal: 8.46s\tremaining: 3.62s\n",
      "700:\tlearn: 0.1184237\ttest: 0.1619586\tbest: 0.1619586 (700)\ttotal: 8.47s\tremaining: 3.61s\n",
      "701:\tlearn: 0.1183755\ttest: 0.1619389\tbest: 0.1619389 (701)\ttotal: 8.48s\tremaining: 3.6s\n",
      "702:\tlearn: 0.1183424\ttest: 0.1619408\tbest: 0.1619389 (701)\ttotal: 8.49s\tremaining: 3.59s\n",
      "703:\tlearn: 0.1182768\ttest: 0.1619124\tbest: 0.1619124 (703)\ttotal: 8.51s\tremaining: 3.58s\n",
      "704:\tlearn: 0.1182077\ttest: 0.1619344\tbest: 0.1619124 (703)\ttotal: 8.52s\tremaining: 3.56s\n",
      "705:\tlearn: 0.1181552\ttest: 0.1618841\tbest: 0.1618841 (705)\ttotal: 8.53s\tremaining: 3.55s\n",
      "706:\tlearn: 0.1180984\ttest: 0.1618393\tbest: 0.1618393 (706)\ttotal: 8.54s\tremaining: 3.54s\n",
      "707:\tlearn: 0.1180476\ttest: 0.1618355\tbest: 0.1618355 (707)\ttotal: 8.56s\tremaining: 3.53s\n",
      "708:\tlearn: 0.1179990\ttest: 0.1617779\tbest: 0.1617779 (708)\ttotal: 8.57s\tremaining: 3.52s\n",
      "709:\tlearn: 0.1179123\ttest: 0.1617610\tbest: 0.1617610 (709)\ttotal: 8.58s\tremaining: 3.5s\n",
      "710:\tlearn: 0.1178556\ttest: 0.1616979\tbest: 0.1616979 (710)\ttotal: 8.59s\tremaining: 3.49s\n"
     ]
    },
    {
     "name": "stdout",
     "output_type": "stream",
     "text": [
      "711:\tlearn: 0.1177790\ttest: 0.1616894\tbest: 0.1616894 (711)\ttotal: 8.61s\tremaining: 3.48s\n",
      "712:\tlearn: 0.1176720\ttest: 0.1616424\tbest: 0.1616424 (712)\ttotal: 8.62s\tremaining: 3.47s\n",
      "713:\tlearn: 0.1175923\ttest: 0.1616270\tbest: 0.1616270 (713)\ttotal: 8.64s\tremaining: 3.46s\n",
      "714:\tlearn: 0.1175280\ttest: 0.1616120\tbest: 0.1616120 (714)\ttotal: 8.65s\tremaining: 3.45s\n",
      "715:\tlearn: 0.1174932\ttest: 0.1615869\tbest: 0.1615869 (715)\ttotal: 8.66s\tremaining: 3.44s\n",
      "716:\tlearn: 0.1173789\ttest: 0.1615417\tbest: 0.1615417 (716)\ttotal: 8.68s\tremaining: 3.42s\n",
      "717:\tlearn: 0.1173604\ttest: 0.1615448\tbest: 0.1615417 (716)\ttotal: 8.69s\tremaining: 3.41s\n",
      "718:\tlearn: 0.1173076\ttest: 0.1615311\tbest: 0.1615311 (718)\ttotal: 8.7s\tremaining: 3.4s\n",
      "719:\tlearn: 0.1172665\ttest: 0.1615671\tbest: 0.1615311 (718)\ttotal: 8.71s\tremaining: 3.39s\n",
      "720:\tlearn: 0.1172043\ttest: 0.1615935\tbest: 0.1615311 (718)\ttotal: 8.73s\tremaining: 3.38s\n",
      "721:\tlearn: 0.1171073\ttest: 0.1616018\tbest: 0.1615311 (718)\ttotal: 8.74s\tremaining: 3.37s\n",
      "722:\tlearn: 0.1170512\ttest: 0.1614757\tbest: 0.1614757 (722)\ttotal: 8.75s\tremaining: 3.35s\n",
      "723:\tlearn: 0.1169925\ttest: 0.1614304\tbest: 0.1614304 (723)\ttotal: 8.77s\tremaining: 3.34s\n",
      "724:\tlearn: 0.1169402\ttest: 0.1614598\tbest: 0.1614304 (723)\ttotal: 8.78s\tremaining: 3.33s\n",
      "725:\tlearn: 0.1168844\ttest: 0.1614375\tbest: 0.1614304 (723)\ttotal: 8.79s\tremaining: 3.32s\n",
      "726:\tlearn: 0.1168321\ttest: 0.1614293\tbest: 0.1614293 (726)\ttotal: 8.81s\tremaining: 3.31s\n",
      "727:\tlearn: 0.1167606\ttest: 0.1613834\tbest: 0.1613834 (727)\ttotal: 8.82s\tremaining: 3.3s\n",
      "728:\tlearn: 0.1167099\ttest: 0.1613696\tbest: 0.1613696 (728)\ttotal: 8.84s\tremaining: 3.29s\n",
      "729:\tlearn: 0.1166585\ttest: 0.1614300\tbest: 0.1613696 (728)\ttotal: 8.85s\tremaining: 3.27s\n",
      "730:\tlearn: 0.1166279\ttest: 0.1614191\tbest: 0.1613696 (728)\ttotal: 8.87s\tremaining: 3.26s\n",
      "731:\tlearn: 0.1165734\ttest: 0.1614198\tbest: 0.1613696 (728)\ttotal: 8.88s\tremaining: 3.25s\n",
      "732:\tlearn: 0.1165229\ttest: 0.1613674\tbest: 0.1613674 (732)\ttotal: 8.89s\tremaining: 3.24s\n",
      "733:\tlearn: 0.1164398\ttest: 0.1613317\tbest: 0.1613317 (733)\ttotal: 8.91s\tremaining: 3.23s\n",
      "734:\tlearn: 0.1163888\ttest: 0.1613262\tbest: 0.1613262 (734)\ttotal: 8.92s\tremaining: 3.21s\n",
      "735:\tlearn: 0.1163465\ttest: 0.1613180\tbest: 0.1613180 (735)\ttotal: 8.93s\tremaining: 3.2s\n",
      "736:\tlearn: 0.1163027\ttest: 0.1613172\tbest: 0.1613172 (736)\ttotal: 8.95s\tremaining: 3.19s\n",
      "737:\tlearn: 0.1162043\ttest: 0.1612958\tbest: 0.1612958 (737)\ttotal: 8.96s\tremaining: 3.18s\n",
      "738:\tlearn: 0.1161512\ttest: 0.1612838\tbest: 0.1612838 (738)\ttotal: 8.97s\tremaining: 3.17s\n",
      "739:\tlearn: 0.1160697\ttest: 0.1612946\tbest: 0.1612838 (738)\ttotal: 8.99s\tremaining: 3.16s\n",
      "740:\tlearn: 0.1160144\ttest: 0.1612904\tbest: 0.1612838 (738)\ttotal: 9s\tremaining: 3.15s\n",
      "741:\tlearn: 0.1159673\ttest: 0.1612752\tbest: 0.1612752 (741)\ttotal: 9.02s\tremaining: 3.14s\n",
      "742:\tlearn: 0.1159267\ttest: 0.1612136\tbest: 0.1612136 (742)\ttotal: 9.03s\tremaining: 3.12s\n",
      "743:\tlearn: 0.1158246\ttest: 0.1612034\tbest: 0.1612034 (743)\ttotal: 9.05s\tremaining: 3.11s\n",
      "744:\tlearn: 0.1157729\ttest: 0.1611649\tbest: 0.1611649 (744)\ttotal: 9.06s\tremaining: 3.1s\n",
      "745:\tlearn: 0.1157255\ttest: 0.1611377\tbest: 0.1611377 (745)\ttotal: 9.07s\tremaining: 3.09s\n",
      "746:\tlearn: 0.1156764\ttest: 0.1611027\tbest: 0.1611027 (746)\ttotal: 9.08s\tremaining: 3.08s\n",
      "747:\tlearn: 0.1156209\ttest: 0.1611022\tbest: 0.1611022 (747)\ttotal: 9.09s\tremaining: 3.06s\n",
      "748:\tlearn: 0.1155524\ttest: 0.1610554\tbest: 0.1610554 (748)\ttotal: 9.11s\tremaining: 3.05s\n",
      "749:\tlearn: 0.1155113\ttest: 0.1610441\tbest: 0.1610441 (749)\ttotal: 9.12s\tremaining: 3.04s\n",
      "750:\tlearn: 0.1154582\ttest: 0.1609905\tbest: 0.1609905 (750)\ttotal: 9.13s\tremaining: 3.03s\n",
      "751:\tlearn: 0.1154048\ttest: 0.1609813\tbest: 0.1609813 (751)\ttotal: 9.14s\tremaining: 3.01s\n",
      "752:\tlearn: 0.1153503\ttest: 0.1609787\tbest: 0.1609787 (752)\ttotal: 9.15s\tremaining: 3s\n",
      "753:\tlearn: 0.1152941\ttest: 0.1609810\tbest: 0.1609787 (752)\ttotal: 9.16s\tremaining: 2.99s\n",
      "754:\tlearn: 0.1152443\ttest: 0.1609672\tbest: 0.1609672 (754)\ttotal: 9.17s\tremaining: 2.98s\n",
      "755:\tlearn: 0.1151858\ttest: 0.1609569\tbest: 0.1609569 (755)\ttotal: 9.19s\tremaining: 2.96s\n",
      "756:\tlearn: 0.1150800\ttest: 0.1609509\tbest: 0.1609509 (756)\ttotal: 9.2s\tremaining: 2.95s\n",
      "757:\tlearn: 0.1150478\ttest: 0.1609052\tbest: 0.1609052 (757)\ttotal: 9.21s\tremaining: 2.94s\n",
      "758:\tlearn: 0.1149668\ttest: 0.1608854\tbest: 0.1608854 (758)\ttotal: 9.22s\tremaining: 2.93s\n",
      "759:\tlearn: 0.1149168\ttest: 0.1608506\tbest: 0.1608506 (759)\ttotal: 9.23s\tremaining: 2.92s\n",
      "760:\tlearn: 0.1148577\ttest: 0.1608504\tbest: 0.1608504 (760)\ttotal: 9.24s\tremaining: 2.9s\n",
      "761:\tlearn: 0.1147670\ttest: 0.1608583\tbest: 0.1608504 (760)\ttotal: 9.26s\tremaining: 2.89s\n",
      "762:\tlearn: 0.1147268\ttest: 0.1608412\tbest: 0.1608412 (762)\ttotal: 9.27s\tremaining: 2.88s\n",
      "763:\tlearn: 0.1146638\ttest: 0.1608298\tbest: 0.1608298 (763)\ttotal: 9.28s\tremaining: 2.87s\n",
      "764:\tlearn: 0.1146353\ttest: 0.1608197\tbest: 0.1608197 (764)\ttotal: 9.29s\tremaining: 2.85s\n",
      "765:\tlearn: 0.1146048\ttest: 0.1608383\tbest: 0.1608197 (764)\ttotal: 9.3s\tremaining: 2.84s\n",
      "766:\tlearn: 0.1145537\ttest: 0.1608402\tbest: 0.1608197 (764)\ttotal: 9.31s\tremaining: 2.83s\n",
      "767:\tlearn: 0.1145122\ttest: 0.1608252\tbest: 0.1608197 (764)\ttotal: 9.32s\tremaining: 2.81s\n",
      "768:\tlearn: 0.1144570\ttest: 0.1608253\tbest: 0.1608197 (764)\ttotal: 9.33s\tremaining: 2.8s\n",
      "769:\tlearn: 0.1144204\ttest: 0.1608828\tbest: 0.1608197 (764)\ttotal: 9.34s\tremaining: 2.79s\n",
      "770:\tlearn: 0.1143618\ttest: 0.1608818\tbest: 0.1608197 (764)\ttotal: 9.35s\tremaining: 2.78s\n",
      "771:\tlearn: 0.1143189\ttest: 0.1608799\tbest: 0.1608197 (764)\ttotal: 9.36s\tremaining: 2.77s\n",
      "772:\tlearn: 0.1142309\ttest: 0.1608371\tbest: 0.1608197 (764)\ttotal: 9.37s\tremaining: 2.75s\n",
      "773:\tlearn: 0.1141570\ttest: 0.1608434\tbest: 0.1608197 (764)\ttotal: 9.38s\tremaining: 2.74s\n",
      "774:\tlearn: 0.1141029\ttest: 0.1608761\tbest: 0.1608197 (764)\ttotal: 9.39s\tremaining: 2.73s\n",
      "775:\tlearn: 0.1140652\ttest: 0.1608942\tbest: 0.1608197 (764)\ttotal: 9.4s\tremaining: 2.71s\n",
      "776:\tlearn: 0.1139896\ttest: 0.1608906\tbest: 0.1608197 (764)\ttotal: 9.42s\tremaining: 2.7s\n",
      "777:\tlearn: 0.1139040\ttest: 0.1607683\tbest: 0.1607683 (777)\ttotal: 9.43s\tremaining: 2.69s\n",
      "778:\tlearn: 0.1138094\ttest: 0.1607366\tbest: 0.1607366 (778)\ttotal: 9.45s\tremaining: 2.68s\n",
      "779:\tlearn: 0.1137266\ttest: 0.1606456\tbest: 0.1606456 (779)\ttotal: 9.46s\tremaining: 2.67s\n",
      "780:\tlearn: 0.1136865\ttest: 0.1606422\tbest: 0.1606422 (780)\ttotal: 9.48s\tremaining: 2.66s\n",
      "781:\tlearn: 0.1136115\ttest: 0.1606791\tbest: 0.1606422 (780)\ttotal: 9.49s\tremaining: 2.65s\n",
      "782:\tlearn: 0.1135765\ttest: 0.1606826\tbest: 0.1606422 (780)\ttotal: 9.51s\tremaining: 2.64s\n",
      "783:\tlearn: 0.1135532\ttest: 0.1606780\tbest: 0.1606422 (780)\ttotal: 9.53s\tremaining: 2.62s\n",
      "784:\tlearn: 0.1134892\ttest: 0.1606643\tbest: 0.1606422 (780)\ttotal: 9.54s\tremaining: 2.61s\n",
      "785:\tlearn: 0.1134489\ttest: 0.1606482\tbest: 0.1606422 (780)\ttotal: 9.56s\tremaining: 2.6s\n",
      "786:\tlearn: 0.1134082\ttest: 0.1606465\tbest: 0.1606422 (780)\ttotal: 9.57s\tremaining: 2.59s\n",
      "787:\tlearn: 0.1133315\ttest: 0.1606074\tbest: 0.1606074 (787)\ttotal: 9.59s\tremaining: 2.58s\n",
      "788:\tlearn: 0.1132944\ttest: 0.1605819\tbest: 0.1605819 (788)\ttotal: 9.6s\tremaining: 2.57s\n",
      "789:\tlearn: 0.1132593\ttest: 0.1605556\tbest: 0.1605556 (789)\ttotal: 9.61s\tremaining: 2.56s\n",
      "790:\tlearn: 0.1132150\ttest: 0.1605725\tbest: 0.1605556 (789)\ttotal: 9.63s\tremaining: 2.54s\n",
      "791:\tlearn: 0.1131444\ttest: 0.1605413\tbest: 0.1605413 (791)\ttotal: 9.64s\tremaining: 2.53s\n",
      "792:\tlearn: 0.1130953\ttest: 0.1605181\tbest: 0.1605181 (792)\ttotal: 9.65s\tremaining: 2.52s\n",
      "793:\tlearn: 0.1130711\ttest: 0.1605208\tbest: 0.1605181 (792)\ttotal: 9.66s\tremaining: 2.51s\n",
      "794:\tlearn: 0.1130114\ttest: 0.1605408\tbest: 0.1605181 (792)\ttotal: 9.68s\tremaining: 2.5s\n",
      "795:\tlearn: 0.1129280\ttest: 0.1605173\tbest: 0.1605173 (795)\ttotal: 9.69s\tremaining: 2.48s\n",
      "796:\tlearn: 0.1128646\ttest: 0.1604763\tbest: 0.1604763 (796)\ttotal: 9.7s\tremaining: 2.47s\n",
      "797:\tlearn: 0.1128332\ttest: 0.1604328\tbest: 0.1604328 (797)\ttotal: 9.71s\tremaining: 2.46s\n",
      "798:\tlearn: 0.1127731\ttest: 0.1604045\tbest: 0.1604045 (798)\ttotal: 9.73s\tremaining: 2.45s\n",
      "799:\tlearn: 0.1127182\ttest: 0.1603982\tbest: 0.1603982 (799)\ttotal: 9.74s\tremaining: 2.44s\n",
      "800:\tlearn: 0.1126652\ttest: 0.1603757\tbest: 0.1603757 (800)\ttotal: 9.75s\tremaining: 2.42s\n",
      "801:\tlearn: 0.1126059\ttest: 0.1603714\tbest: 0.1603714 (801)\ttotal: 9.77s\tremaining: 2.41s\n",
      "802:\tlearn: 0.1125355\ttest: 0.1603682\tbest: 0.1603682 (802)\ttotal: 9.78s\tremaining: 2.4s\n",
      "803:\tlearn: 0.1124961\ttest: 0.1603008\tbest: 0.1603008 (803)\ttotal: 9.79s\tremaining: 2.39s\n",
      "804:\tlearn: 0.1124190\ttest: 0.1603260\tbest: 0.1603008 (803)\ttotal: 9.81s\tremaining: 2.38s\n",
      "805:\tlearn: 0.1123191\ttest: 0.1603195\tbest: 0.1603008 (803)\ttotal: 9.82s\tremaining: 2.36s\n"
     ]
    },
    {
     "name": "stdout",
     "output_type": "stream",
     "text": [
      "806:\tlearn: 0.1122550\ttest: 0.1603730\tbest: 0.1603008 (803)\ttotal: 9.84s\tremaining: 2.35s\n",
      "807:\tlearn: 0.1121879\ttest: 0.1603328\tbest: 0.1603008 (803)\ttotal: 9.85s\tremaining: 2.34s\n",
      "808:\tlearn: 0.1120907\ttest: 0.1603288\tbest: 0.1603008 (803)\ttotal: 9.87s\tremaining: 2.33s\n",
      "809:\tlearn: 0.1120414\ttest: 0.1603225\tbest: 0.1603008 (803)\ttotal: 9.88s\tremaining: 2.32s\n",
      "810:\tlearn: 0.1119736\ttest: 0.1602861\tbest: 0.1602861 (810)\ttotal: 9.89s\tremaining: 2.3s\n",
      "811:\tlearn: 0.1119279\ttest: 0.1602652\tbest: 0.1602652 (811)\ttotal: 9.9s\tremaining: 2.29s\n",
      "812:\tlearn: 0.1118609\ttest: 0.1602263\tbest: 0.1602263 (812)\ttotal: 9.92s\tremaining: 2.28s\n",
      "813:\tlearn: 0.1117986\ttest: 0.1601845\tbest: 0.1601845 (813)\ttotal: 9.93s\tremaining: 2.27s\n",
      "814:\tlearn: 0.1117245\ttest: 0.1601829\tbest: 0.1601829 (814)\ttotal: 9.94s\tremaining: 2.26s\n",
      "815:\tlearn: 0.1116575\ttest: 0.1601577\tbest: 0.1601577 (815)\ttotal: 9.96s\tremaining: 2.25s\n",
      "816:\tlearn: 0.1115899\ttest: 0.1601557\tbest: 0.1601557 (816)\ttotal: 9.97s\tremaining: 2.23s\n",
      "817:\tlearn: 0.1115419\ttest: 0.1601601\tbest: 0.1601557 (816)\ttotal: 9.99s\tremaining: 2.22s\n",
      "818:\tlearn: 0.1114720\ttest: 0.1601114\tbest: 0.1601114 (818)\ttotal: 10s\tremaining: 2.21s\n",
      "819:\tlearn: 0.1113949\ttest: 0.1601340\tbest: 0.1601114 (818)\ttotal: 10s\tremaining: 2.2s\n",
      "820:\tlearn: 0.1113407\ttest: 0.1601273\tbest: 0.1601114 (818)\ttotal: 10s\tremaining: 2.19s\n",
      "821:\tlearn: 0.1113113\ttest: 0.1601565\tbest: 0.1601114 (818)\ttotal: 10.1s\tremaining: 2.18s\n",
      "822:\tlearn: 0.1112289\ttest: 0.1601400\tbest: 0.1601114 (818)\ttotal: 10.1s\tremaining: 2.16s\n",
      "823:\tlearn: 0.1112007\ttest: 0.1601154\tbest: 0.1601114 (818)\ttotal: 10.1s\tremaining: 2.15s\n",
      "824:\tlearn: 0.1111742\ttest: 0.1601341\tbest: 0.1601114 (818)\ttotal: 10.1s\tremaining: 2.14s\n",
      "825:\tlearn: 0.1111148\ttest: 0.1601427\tbest: 0.1601114 (818)\ttotal: 10.1s\tremaining: 2.13s\n",
      "826:\tlearn: 0.1110828\ttest: 0.1601383\tbest: 0.1601114 (818)\ttotal: 10.1s\tremaining: 2.12s\n",
      "827:\tlearn: 0.1110410\ttest: 0.1601251\tbest: 0.1601114 (818)\ttotal: 10.1s\tremaining: 2.11s\n",
      "828:\tlearn: 0.1109865\ttest: 0.1601260\tbest: 0.1601114 (818)\ttotal: 10.2s\tremaining: 2.09s\n",
      "829:\tlearn: 0.1109343\ttest: 0.1600959\tbest: 0.1600959 (829)\ttotal: 10.2s\tremaining: 2.08s\n",
      "830:\tlearn: 0.1108994\ttest: 0.1600817\tbest: 0.1600817 (830)\ttotal: 10.2s\tremaining: 2.07s\n",
      "831:\tlearn: 0.1108132\ttest: 0.1600672\tbest: 0.1600672 (831)\ttotal: 10.2s\tremaining: 2.06s\n",
      "832:\tlearn: 0.1107398\ttest: 0.1600363\tbest: 0.1600363 (832)\ttotal: 10.2s\tremaining: 2.04s\n",
      "833:\tlearn: 0.1106894\ttest: 0.1600296\tbest: 0.1600296 (833)\ttotal: 10.2s\tremaining: 2.03s\n",
      "834:\tlearn: 0.1106525\ttest: 0.1600165\tbest: 0.1600165 (834)\ttotal: 10.2s\tremaining: 2.02s\n",
      "835:\tlearn: 0.1105696\ttest: 0.1600831\tbest: 0.1600165 (834)\ttotal: 10.2s\tremaining: 2.01s\n",
      "836:\tlearn: 0.1105271\ttest: 0.1600596\tbest: 0.1600165 (834)\ttotal: 10.3s\tremaining: 2s\n",
      "837:\tlearn: 0.1105003\ttest: 0.1600596\tbest: 0.1600165 (834)\ttotal: 10.3s\tremaining: 1.98s\n",
      "838:\tlearn: 0.1104707\ttest: 0.1600655\tbest: 0.1600165 (834)\ttotal: 10.3s\tremaining: 1.97s\n",
      "839:\tlearn: 0.1104412\ttest: 0.1600415\tbest: 0.1600165 (834)\ttotal: 10.3s\tremaining: 1.96s\n",
      "840:\tlearn: 0.1103289\ttest: 0.1600041\tbest: 0.1600041 (840)\ttotal: 10.3s\tremaining: 1.95s\n",
      "841:\tlearn: 0.1102572\ttest: 0.1600398\tbest: 0.1600041 (840)\ttotal: 10.3s\tremaining: 1.93s\n",
      "842:\tlearn: 0.1102011\ttest: 0.1600321\tbest: 0.1600041 (840)\ttotal: 10.3s\tremaining: 1.92s\n",
      "843:\tlearn: 0.1101870\ttest: 0.1600483\tbest: 0.1600041 (840)\ttotal: 10.3s\tremaining: 1.91s\n",
      "844:\tlearn: 0.1101157\ttest: 0.1600234\tbest: 0.1600041 (840)\ttotal: 10.3s\tremaining: 1.9s\n",
      "845:\tlearn: 0.1100561\ttest: 0.1599836\tbest: 0.1599836 (845)\ttotal: 10.4s\tremaining: 1.89s\n",
      "846:\tlearn: 0.1100161\ttest: 0.1599793\tbest: 0.1599793 (846)\ttotal: 10.4s\tremaining: 1.87s\n",
      "847:\tlearn: 0.1099727\ttest: 0.1599711\tbest: 0.1599711 (847)\ttotal: 10.4s\tremaining: 1.86s\n",
      "848:\tlearn: 0.1099283\ttest: 0.1599614\tbest: 0.1599614 (848)\ttotal: 10.4s\tremaining: 1.85s\n",
      "849:\tlearn: 0.1099103\ttest: 0.1599570\tbest: 0.1599570 (849)\ttotal: 10.4s\tremaining: 1.84s\n",
      "850:\tlearn: 0.1098702\ttest: 0.1599753\tbest: 0.1599570 (849)\ttotal: 10.4s\tremaining: 1.82s\n",
      "851:\tlearn: 0.1098375\ttest: 0.1599765\tbest: 0.1599570 (849)\ttotal: 10.4s\tremaining: 1.81s\n",
      "852:\tlearn: 0.1097567\ttest: 0.1600257\tbest: 0.1599570 (849)\ttotal: 10.4s\tremaining: 1.8s\n",
      "853:\tlearn: 0.1096870\ttest: 0.1600316\tbest: 0.1599570 (849)\ttotal: 10.5s\tremaining: 1.79s\n",
      "854:\tlearn: 0.1096293\ttest: 0.1600498\tbest: 0.1599570 (849)\ttotal: 10.5s\tremaining: 1.78s\n",
      "855:\tlearn: 0.1095623\ttest: 0.1600232\tbest: 0.1599570 (849)\ttotal: 10.5s\tremaining: 1.76s\n",
      "856:\tlearn: 0.1095005\ttest: 0.1600307\tbest: 0.1599570 (849)\ttotal: 10.5s\tremaining: 1.75s\n",
      "857:\tlearn: 0.1094511\ttest: 0.1599864\tbest: 0.1599570 (849)\ttotal: 10.5s\tremaining: 1.74s\n",
      "858:\tlearn: 0.1094199\ttest: 0.1599546\tbest: 0.1599546 (858)\ttotal: 10.5s\tremaining: 1.73s\n",
      "859:\tlearn: 0.1093764\ttest: 0.1599531\tbest: 0.1599531 (859)\ttotal: 10.5s\tremaining: 1.72s\n",
      "860:\tlearn: 0.1093576\ttest: 0.1599566\tbest: 0.1599531 (859)\ttotal: 10.5s\tremaining: 1.7s\n",
      "861:\tlearn: 0.1093252\ttest: 0.1599191\tbest: 0.1599191 (861)\ttotal: 10.6s\tremaining: 1.69s\n",
      "862:\tlearn: 0.1092733\ttest: 0.1599808\tbest: 0.1599191 (861)\ttotal: 10.6s\tremaining: 1.68s\n",
      "863:\tlearn: 0.1092307\ttest: 0.1599713\tbest: 0.1599191 (861)\ttotal: 10.6s\tremaining: 1.67s\n",
      "864:\tlearn: 0.1091642\ttest: 0.1599443\tbest: 0.1599191 (861)\ttotal: 10.6s\tremaining: 1.65s\n",
      "865:\tlearn: 0.1091073\ttest: 0.1599793\tbest: 0.1599191 (861)\ttotal: 10.6s\tremaining: 1.64s\n",
      "866:\tlearn: 0.1090537\ttest: 0.1600083\tbest: 0.1599191 (861)\ttotal: 10.6s\tremaining: 1.63s\n",
      "867:\tlearn: 0.1090081\ttest: 0.1600230\tbest: 0.1599191 (861)\ttotal: 10.6s\tremaining: 1.62s\n",
      "868:\tlearn: 0.1089491\ttest: 0.1599781\tbest: 0.1599191 (861)\ttotal: 10.6s\tremaining: 1.6s\n",
      "869:\tlearn: 0.1088703\ttest: 0.1599520\tbest: 0.1599191 (861)\ttotal: 10.7s\tremaining: 1.59s\n",
      "870:\tlearn: 0.1088197\ttest: 0.1599363\tbest: 0.1599191 (861)\ttotal: 10.7s\tremaining: 1.58s\n",
      "871:\tlearn: 0.1087585\ttest: 0.1599388\tbest: 0.1599191 (861)\ttotal: 10.7s\tremaining: 1.57s\n",
      "872:\tlearn: 0.1086767\ttest: 0.1598888\tbest: 0.1598888 (872)\ttotal: 10.7s\tremaining: 1.55s\n",
      "873:\tlearn: 0.1086560\ttest: 0.1599082\tbest: 0.1598888 (872)\ttotal: 10.7s\tremaining: 1.54s\n",
      "874:\tlearn: 0.1085582\ttest: 0.1598640\tbest: 0.1598640 (874)\ttotal: 10.7s\tremaining: 1.53s\n",
      "875:\tlearn: 0.1085188\ttest: 0.1598728\tbest: 0.1598640 (874)\ttotal: 10.7s\tremaining: 1.52s\n",
      "876:\tlearn: 0.1085009\ttest: 0.1598940\tbest: 0.1598640 (874)\ttotal: 10.7s\tremaining: 1.51s\n",
      "877:\tlearn: 0.1084722\ttest: 0.1598580\tbest: 0.1598580 (877)\ttotal: 10.8s\tremaining: 1.49s\n",
      "878:\tlearn: 0.1083952\ttest: 0.1598240\tbest: 0.1598240 (878)\ttotal: 10.8s\tremaining: 1.48s\n",
      "879:\tlearn: 0.1083406\ttest: 0.1597953\tbest: 0.1597953 (879)\ttotal: 10.8s\tremaining: 1.47s\n",
      "880:\tlearn: 0.1082888\ttest: 0.1598229\tbest: 0.1597953 (879)\ttotal: 10.8s\tremaining: 1.46s\n",
      "881:\tlearn: 0.1082233\ttest: 0.1597710\tbest: 0.1597710 (881)\ttotal: 10.8s\tremaining: 1.45s\n",
      "882:\tlearn: 0.1082034\ttest: 0.1597758\tbest: 0.1597710 (881)\ttotal: 10.8s\tremaining: 1.43s\n",
      "883:\tlearn: 0.1081437\ttest: 0.1597914\tbest: 0.1597710 (881)\ttotal: 10.8s\tremaining: 1.42s\n",
      "884:\tlearn: 0.1081085\ttest: 0.1597965\tbest: 0.1597710 (881)\ttotal: 10.8s\tremaining: 1.41s\n",
      "885:\tlearn: 0.1080571\ttest: 0.1597840\tbest: 0.1597710 (881)\ttotal: 10.9s\tremaining: 1.4s\n",
      "886:\tlearn: 0.1079978\ttest: 0.1597847\tbest: 0.1597710 (881)\ttotal: 10.9s\tremaining: 1.39s\n",
      "887:\tlearn: 0.1079375\ttest: 0.1597260\tbest: 0.1597260 (887)\ttotal: 10.9s\tremaining: 1.37s\n",
      "888:\tlearn: 0.1078719\ttest: 0.1597483\tbest: 0.1597260 (887)\ttotal: 10.9s\tremaining: 1.36s\n",
      "889:\tlearn: 0.1078439\ttest: 0.1597513\tbest: 0.1597260 (887)\ttotal: 10.9s\tremaining: 1.35s\n",
      "890:\tlearn: 0.1078152\ttest: 0.1597792\tbest: 0.1597260 (887)\ttotal: 10.9s\tremaining: 1.34s\n",
      "891:\tlearn: 0.1077755\ttest: 0.1597811\tbest: 0.1597260 (887)\ttotal: 10.9s\tremaining: 1.32s\n",
      "892:\tlearn: 0.1077202\ttest: 0.1597832\tbest: 0.1597260 (887)\ttotal: 10.9s\tremaining: 1.31s\n",
      "893:\tlearn: 0.1076833\ttest: 0.1598196\tbest: 0.1597260 (887)\ttotal: 11s\tremaining: 1.3s\n",
      "894:\tlearn: 0.1075738\ttest: 0.1597689\tbest: 0.1597260 (887)\ttotal: 11s\tremaining: 1.29s\n",
      "895:\tlearn: 0.1075208\ttest: 0.1597716\tbest: 0.1597260 (887)\ttotal: 11s\tremaining: 1.27s\n",
      "896:\tlearn: 0.1074735\ttest: 0.1597835\tbest: 0.1597260 (887)\ttotal: 11s\tremaining: 1.26s\n",
      "897:\tlearn: 0.1074640\ttest: 0.1597929\tbest: 0.1597260 (887)\ttotal: 11s\tremaining: 1.25s\n",
      "898:\tlearn: 0.1074354\ttest: 0.1597934\tbest: 0.1597260 (887)\ttotal: 11s\tremaining: 1.24s\n",
      "899:\tlearn: 0.1073698\ttest: 0.1597699\tbest: 0.1597260 (887)\ttotal: 11s\tremaining: 1.23s\n",
      "900:\tlearn: 0.1073218\ttest: 0.1597520\tbest: 0.1597260 (887)\ttotal: 11s\tremaining: 1.21s\n"
     ]
    },
    {
     "name": "stdout",
     "output_type": "stream",
     "text": [
      "901:\tlearn: 0.1072927\ttest: 0.1597473\tbest: 0.1597260 (887)\ttotal: 11.1s\tremaining: 1.2s\n",
      "902:\tlearn: 0.1072396\ttest: 0.1598126\tbest: 0.1597260 (887)\ttotal: 11.1s\tremaining: 1.19s\n",
      "903:\tlearn: 0.1071636\ttest: 0.1598339\tbest: 0.1597260 (887)\ttotal: 11.1s\tremaining: 1.18s\n",
      "904:\tlearn: 0.1071136\ttest: 0.1597978\tbest: 0.1597260 (887)\ttotal: 11.1s\tremaining: 1.16s\n",
      "905:\tlearn: 0.1070014\ttest: 0.1597723\tbest: 0.1597260 (887)\ttotal: 11.1s\tremaining: 1.15s\n",
      "906:\tlearn: 0.1069317\ttest: 0.1597804\tbest: 0.1597260 (887)\ttotal: 11.1s\tremaining: 1.14s\n",
      "907:\tlearn: 0.1069008\ttest: 0.1598166\tbest: 0.1597260 (887)\ttotal: 11.1s\tremaining: 1.13s\n",
      "908:\tlearn: 0.1068227\ttest: 0.1597439\tbest: 0.1597260 (887)\ttotal: 11.1s\tremaining: 1.11s\n",
      "909:\tlearn: 0.1067550\ttest: 0.1596935\tbest: 0.1596935 (909)\ttotal: 11.2s\tremaining: 1.1s\n",
      "910:\tlearn: 0.1066937\ttest: 0.1597151\tbest: 0.1596935 (909)\ttotal: 11.2s\tremaining: 1.09s\n",
      "911:\tlearn: 0.1066494\ttest: 0.1597314\tbest: 0.1596935 (909)\ttotal: 11.2s\tremaining: 1.08s\n",
      "912:\tlearn: 0.1065639\ttest: 0.1596904\tbest: 0.1596904 (912)\ttotal: 11.2s\tremaining: 1.07s\n",
      "913:\tlearn: 0.1065026\ttest: 0.1596899\tbest: 0.1596899 (913)\ttotal: 11.2s\tremaining: 1.05s\n",
      "914:\tlearn: 0.1064647\ttest: 0.1597028\tbest: 0.1596899 (913)\ttotal: 11.2s\tremaining: 1.04s\n",
      "915:\tlearn: 0.1064297\ttest: 0.1597253\tbest: 0.1596899 (913)\ttotal: 11.2s\tremaining: 1.03s\n",
      "916:\tlearn: 0.1063782\ttest: 0.1596886\tbest: 0.1596886 (916)\ttotal: 11.2s\tremaining: 1.02s\n",
      "917:\tlearn: 0.1063303\ttest: 0.1596693\tbest: 0.1596693 (917)\ttotal: 11.3s\tremaining: 1.01s\n",
      "918:\tlearn: 0.1062771\ttest: 0.1596452\tbest: 0.1596452 (918)\ttotal: 11.3s\tremaining: 994ms\n",
      "919:\tlearn: 0.1062229\ttest: 0.1596340\tbest: 0.1596340 (919)\ttotal: 11.3s\tremaining: 982ms\n",
      "920:\tlearn: 0.1061736\ttest: 0.1596204\tbest: 0.1596204 (920)\ttotal: 11.3s\tremaining: 970ms\n",
      "921:\tlearn: 0.1061125\ttest: 0.1596394\tbest: 0.1596204 (920)\ttotal: 11.3s\tremaining: 958ms\n",
      "922:\tlearn: 0.1060553\ttest: 0.1596116\tbest: 0.1596116 (922)\ttotal: 11.3s\tremaining: 945ms\n",
      "923:\tlearn: 0.1059660\ttest: 0.1595205\tbest: 0.1595205 (923)\ttotal: 11.3s\tremaining: 933ms\n",
      "924:\tlearn: 0.1059113\ttest: 0.1595263\tbest: 0.1595205 (923)\ttotal: 11.4s\tremaining: 921ms\n",
      "925:\tlearn: 0.1058777\ttest: 0.1595343\tbest: 0.1595205 (923)\ttotal: 11.4s\tremaining: 909ms\n",
      "926:\tlearn: 0.1058072\ttest: 0.1595315\tbest: 0.1595205 (923)\ttotal: 11.4s\tremaining: 897ms\n",
      "927:\tlearn: 0.1057782\ttest: 0.1595372\tbest: 0.1595205 (923)\ttotal: 11.4s\tremaining: 885ms\n",
      "928:\tlearn: 0.1057547\ttest: 0.1595164\tbest: 0.1595164 (928)\ttotal: 11.4s\tremaining: 873ms\n",
      "929:\tlearn: 0.1056913\ttest: 0.1594775\tbest: 0.1594775 (929)\ttotal: 11.4s\tremaining: 861ms\n",
      "930:\tlearn: 0.1056435\ttest: 0.1594502\tbest: 0.1594502 (930)\ttotal: 11.4s\tremaining: 849ms\n",
      "931:\tlearn: 0.1055814\ttest: 0.1594414\tbest: 0.1594414 (931)\ttotal: 11.5s\tremaining: 837ms\n",
      "932:\tlearn: 0.1055164\ttest: 0.1594034\tbest: 0.1594034 (932)\ttotal: 11.5s\tremaining: 824ms\n",
      "933:\tlearn: 0.1054516\ttest: 0.1593431\tbest: 0.1593431 (933)\ttotal: 11.5s\tremaining: 812ms\n",
      "934:\tlearn: 0.1053630\ttest: 0.1593731\tbest: 0.1593431 (933)\ttotal: 11.5s\tremaining: 800ms\n",
      "935:\tlearn: 0.1052689\ttest: 0.1593752\tbest: 0.1593431 (933)\ttotal: 11.5s\tremaining: 788ms\n",
      "936:\tlearn: 0.1051833\ttest: 0.1593755\tbest: 0.1593431 (933)\ttotal: 11.5s\tremaining: 775ms\n",
      "937:\tlearn: 0.1051348\ttest: 0.1593785\tbest: 0.1593431 (933)\ttotal: 11.5s\tremaining: 763ms\n",
      "938:\tlearn: 0.1051167\ttest: 0.1593864\tbest: 0.1593431 (933)\ttotal: 11.6s\tremaining: 751ms\n",
      "939:\tlearn: 0.1050726\ttest: 0.1593786\tbest: 0.1593431 (933)\ttotal: 11.6s\tremaining: 739ms\n",
      "940:\tlearn: 0.1050183\ttest: 0.1593709\tbest: 0.1593431 (933)\ttotal: 11.6s\tremaining: 726ms\n",
      "941:\tlearn: 0.1049661\ttest: 0.1593959\tbest: 0.1593431 (933)\ttotal: 11.6s\tremaining: 714ms\n",
      "942:\tlearn: 0.1049093\ttest: 0.1593625\tbest: 0.1593431 (933)\ttotal: 11.6s\tremaining: 702ms\n",
      "943:\tlearn: 0.1048460\ttest: 0.1593572\tbest: 0.1593431 (933)\ttotal: 11.6s\tremaining: 690ms\n",
      "944:\tlearn: 0.1047833\ttest: 0.1593212\tbest: 0.1593212 (944)\ttotal: 11.6s\tremaining: 678ms\n",
      "945:\tlearn: 0.1047424\ttest: 0.1593249\tbest: 0.1593212 (944)\ttotal: 11.7s\tremaining: 665ms\n",
      "946:\tlearn: 0.1046671\ttest: 0.1593298\tbest: 0.1593212 (944)\ttotal: 11.7s\tremaining: 653ms\n",
      "947:\tlearn: 0.1046259\ttest: 0.1593422\tbest: 0.1593212 (944)\ttotal: 11.7s\tremaining: 641ms\n",
      "948:\tlearn: 0.1045381\ttest: 0.1593056\tbest: 0.1593056 (948)\ttotal: 11.7s\tremaining: 629ms\n",
      "949:\tlearn: 0.1045097\ttest: 0.1592943\tbest: 0.1592943 (949)\ttotal: 11.7s\tremaining: 616ms\n",
      "950:\tlearn: 0.1044673\ttest: 0.1592822\tbest: 0.1592822 (950)\ttotal: 11.7s\tremaining: 604ms\n",
      "951:\tlearn: 0.1043765\ttest: 0.1592548\tbest: 0.1592548 (951)\ttotal: 11.7s\tremaining: 592ms\n",
      "952:\tlearn: 0.1042547\ttest: 0.1591249\tbest: 0.1591249 (952)\ttotal: 11.7s\tremaining: 579ms\n",
      "953:\tlearn: 0.1040998\ttest: 0.1590138\tbest: 0.1590138 (953)\ttotal: 11.8s\tremaining: 567ms\n",
      "954:\tlearn: 0.1040829\ttest: 0.1590187\tbest: 0.1590138 (953)\ttotal: 11.8s\tremaining: 555ms\n",
      "955:\tlearn: 0.1040258\ttest: 0.1590043\tbest: 0.1590043 (955)\ttotal: 11.8s\tremaining: 542ms\n",
      "956:\tlearn: 0.1039791\ttest: 0.1589499\tbest: 0.1589499 (956)\ttotal: 11.8s\tremaining: 530ms\n",
      "957:\tlearn: 0.1039479\ttest: 0.1589398\tbest: 0.1589398 (957)\ttotal: 11.8s\tremaining: 518ms\n",
      "958:\tlearn: 0.1039300\ttest: 0.1589318\tbest: 0.1589318 (958)\ttotal: 11.8s\tremaining: 506ms\n",
      "959:\tlearn: 0.1038937\ttest: 0.1589299\tbest: 0.1589299 (959)\ttotal: 11.8s\tremaining: 493ms\n",
      "960:\tlearn: 0.1038627\ttest: 0.1589650\tbest: 0.1589299 (959)\ttotal: 11.8s\tremaining: 481ms\n",
      "961:\tlearn: 0.1038266\ttest: 0.1589779\tbest: 0.1589299 (959)\ttotal: 11.9s\tremaining: 469ms\n",
      "962:\tlearn: 0.1038077\ttest: 0.1589430\tbest: 0.1589299 (959)\ttotal: 11.9s\tremaining: 456ms\n",
      "963:\tlearn: 0.1038006\ttest: 0.1589455\tbest: 0.1589299 (959)\ttotal: 11.9s\tremaining: 444ms\n",
      "964:\tlearn: 0.1037611\ttest: 0.1589302\tbest: 0.1589299 (959)\ttotal: 11.9s\tremaining: 432ms\n",
      "965:\tlearn: 0.1036809\ttest: 0.1589188\tbest: 0.1589188 (965)\ttotal: 11.9s\tremaining: 419ms\n",
      "966:\tlearn: 0.1035989\ttest: 0.1589003\tbest: 0.1589003 (966)\ttotal: 11.9s\tremaining: 407ms\n",
      "967:\tlearn: 0.1035309\ttest: 0.1588767\tbest: 0.1588767 (967)\ttotal: 11.9s\tremaining: 395ms\n",
      "968:\tlearn: 0.1034615\ttest: 0.1587999\tbest: 0.1587999 (968)\ttotal: 12s\tremaining: 383ms\n",
      "969:\tlearn: 0.1034373\ttest: 0.1587890\tbest: 0.1587890 (969)\ttotal: 12s\tremaining: 370ms\n",
      "970:\tlearn: 0.1033865\ttest: 0.1587745\tbest: 0.1587745 (970)\ttotal: 12s\tremaining: 358ms\n",
      "971:\tlearn: 0.1033194\ttest: 0.1587899\tbest: 0.1587745 (970)\ttotal: 12s\tremaining: 346ms\n",
      "972:\tlearn: 0.1032850\ttest: 0.1588053\tbest: 0.1587745 (970)\ttotal: 12s\tremaining: 333ms\n",
      "973:\tlearn: 0.1032474\ttest: 0.1587716\tbest: 0.1587716 (973)\ttotal: 12s\tremaining: 321ms\n",
      "974:\tlearn: 0.1032411\ttest: 0.1587747\tbest: 0.1587716 (973)\ttotal: 12s\tremaining: 309ms\n",
      "975:\tlearn: 0.1032157\ttest: 0.1587548\tbest: 0.1587548 (975)\ttotal: 12.1s\tremaining: 297ms\n",
      "976:\tlearn: 0.1031836\ttest: 0.1587333\tbest: 0.1587333 (976)\ttotal: 12.1s\tremaining: 284ms\n",
      "977:\tlearn: 0.1031335\ttest: 0.1587426\tbest: 0.1587333 (976)\ttotal: 12.1s\tremaining: 272ms\n",
      "978:\tlearn: 0.1030707\ttest: 0.1586917\tbest: 0.1586917 (978)\ttotal: 12.1s\tremaining: 260ms\n",
      "979:\tlearn: 0.1029877\ttest: 0.1586628\tbest: 0.1586628 (979)\ttotal: 12.1s\tremaining: 247ms\n",
      "980:\tlearn: 0.1029296\ttest: 0.1586329\tbest: 0.1586329 (980)\ttotal: 12.1s\tremaining: 235ms\n",
      "981:\tlearn: 0.1028717\ttest: 0.1586306\tbest: 0.1586306 (981)\ttotal: 12.2s\tremaining: 223ms\n",
      "982:\tlearn: 0.1028257\ttest: 0.1586461\tbest: 0.1586306 (981)\ttotal: 12.2s\tremaining: 210ms\n",
      "983:\tlearn: 0.1027794\ttest: 0.1586834\tbest: 0.1586306 (981)\ttotal: 12.2s\tremaining: 198ms\n",
      "984:\tlearn: 0.1026975\ttest: 0.1586783\tbest: 0.1586306 (981)\ttotal: 12.2s\tremaining: 186ms\n",
      "985:\tlearn: 0.1026428\ttest: 0.1586580\tbest: 0.1586306 (981)\ttotal: 12.2s\tremaining: 173ms\n",
      "986:\tlearn: 0.1025741\ttest: 0.1586279\tbest: 0.1586279 (986)\ttotal: 12.2s\tremaining: 161ms\n",
      "987:\tlearn: 0.1025171\ttest: 0.1585773\tbest: 0.1585773 (987)\ttotal: 12.2s\tremaining: 149ms\n",
      "988:\tlearn: 0.1024530\ttest: 0.1585902\tbest: 0.1585773 (987)\ttotal: 12.2s\tremaining: 136ms\n",
      "989:\tlearn: 0.1024253\ttest: 0.1585911\tbest: 0.1585773 (987)\ttotal: 12.3s\tremaining: 124ms\n",
      "990:\tlearn: 0.1023747\ttest: 0.1585939\tbest: 0.1585773 (987)\ttotal: 12.3s\tremaining: 111ms\n",
      "991:\tlearn: 0.1023313\ttest: 0.1585982\tbest: 0.1585773 (987)\ttotal: 12.3s\tremaining: 99.1ms\n",
      "992:\tlearn: 0.1022770\ttest: 0.1585971\tbest: 0.1585773 (987)\ttotal: 12.3s\tremaining: 86.7ms\n",
      "993:\tlearn: 0.1022367\ttest: 0.1585726\tbest: 0.1585726 (993)\ttotal: 12.3s\tremaining: 74.3ms\n",
      "994:\tlearn: 0.1021877\ttest: 0.1585966\tbest: 0.1585726 (993)\ttotal: 12.3s\tremaining: 62ms\n",
      "995:\tlearn: 0.1021533\ttest: 0.1585647\tbest: 0.1585647 (995)\ttotal: 12.3s\tremaining: 49.6ms\n",
      "996:\tlearn: 0.1020997\ttest: 0.1585494\tbest: 0.1585494 (996)\ttotal: 12.4s\tremaining: 37.2ms\n",
      "997:\tlearn: 0.1020475\ttest: 0.1585567\tbest: 0.1585494 (996)\ttotal: 12.4s\tremaining: 24.8ms\n",
      "998:\tlearn: 0.1020002\ttest: 0.1585250\tbest: 0.1585250 (998)\ttotal: 12.4s\tremaining: 12.4ms\n",
      "999:\tlearn: 0.1019725\ttest: 0.1585474\tbest: 0.1585250 (998)\ttotal: 12.4s\tremaining: 0us\n",
      "\n",
      "bestTest = 0.1585249693\n",
      "bestIteration = 998\n",
      "\n",
      "Shrink model to first 999 iterations.\n"
     ]
    },
    {
     "data": {
      "text/plain": [
       "<catboost.core.CatBoostClassifier at 0x7fae4be37c90>"
      ]
     },
     "execution_count": 13,
     "metadata": {},
     "output_type": "execute_result"
    }
   ],
   "source": [
    "cb_model = CatBoostClassifier()\n",
    "cb_model.fit(X_train, y_train, eval_set=(X_valid, y_valid), use_best_model=True)"
   ]
  },
  {
   "cell_type": "code",
   "execution_count": 14,
   "metadata": {},
   "outputs": [],
   "source": [
    "cb_preds = cb_model.predict(X_valid)"
   ]
  },
  {
   "cell_type": "code",
   "execution_count": 15,
   "metadata": {},
   "outputs": [
    {
     "name": "stdout",
     "output_type": "stream",
     "text": [
      "              precision    recall  f1-score   support\n",
      "\n",
      "           0       0.70      0.22      0.33       369\n",
      "           1       0.96      0.99      0.97      6185\n",
      "\n",
      "    accuracy                           0.95      6554\n",
      "   macro avg       0.83      0.61      0.65      6554\n",
      "weighted avg       0.94      0.95      0.94      6554\n",
      "\n"
     ]
    }
   ],
   "source": [
    "from sklearn.metrics import classification_report\n",
    "print(classification_report(y_valid, cb_preds))"
   ]
  },
  {
   "cell_type": "code",
   "execution_count": 16,
   "metadata": {},
   "outputs": [],
   "source": [
    "cb_model_gpu = CatBoostClassifier(task_type='GPU')"
   ]
  },
  {
   "cell_type": "code",
   "execution_count": 17,
   "metadata": {},
   "outputs": [
    {
     "ename": "CatBoostError",
     "evalue": "catboost/libs/train_lib/train_model.cpp:916: Can't load GPU learning library. Module was not compiled or driver  is incompatible with package. Please install latest NVDIA driver and check again",
     "output_type": "error",
     "traceback": [
      "\u001b[0;31m-------------------------------------------------------------------\u001b[0m",
      "\u001b[0;31mCatBoostError\u001b[0m                     Traceback (most recent call last)",
      "\u001b[0;32m<ipython-input-17-6f98b7ab4899>\u001b[0m in \u001b[0;36m<module>\u001b[0;34m\u001b[0m\n\u001b[0;32m----> 1\u001b[0;31m \u001b[0mcb_model_gpu\u001b[0m\u001b[0;34m.\u001b[0m\u001b[0mfit\u001b[0m\u001b[0;34m(\u001b[0m\u001b[0mX_train\u001b[0m\u001b[0;34m,\u001b[0m \u001b[0my_train\u001b[0m\u001b[0;34m)\u001b[0m\u001b[0;34m\u001b[0m\u001b[0;34m\u001b[0m\u001b[0m\n\u001b[0m",
      "\u001b[0;32m~/opt/anaconda3/lib/python3.7/site-packages/catboost/core.py\u001b[0m in \u001b[0;36mfit\u001b[0;34m(self, X, y, cat_features, text_features, sample_weight, baseline, use_best_model, eval_set, verbose, logging_level, plot, column_description, verbose_eval, metric_period, silent, early_stopping_rounds, save_snapshot, snapshot_file, snapshot_interval, init_model)\u001b[0m\n\u001b[1;32m   4113\u001b[0m         self._fit(X, y, cat_features, text_features, None, sample_weight, None, None, None, None, baseline, use_best_model,\n\u001b[1;32m   4114\u001b[0m                   \u001b[0meval_set\u001b[0m\u001b[0;34m,\u001b[0m \u001b[0mverbose\u001b[0m\u001b[0;34m,\u001b[0m \u001b[0mlogging_level\u001b[0m\u001b[0;34m,\u001b[0m \u001b[0mplot\u001b[0m\u001b[0;34m,\u001b[0m \u001b[0mcolumn_description\u001b[0m\u001b[0;34m,\u001b[0m \u001b[0mverbose_eval\u001b[0m\u001b[0;34m,\u001b[0m \u001b[0mmetric_period\u001b[0m\u001b[0;34m,\u001b[0m\u001b[0;34m\u001b[0m\u001b[0;34m\u001b[0m\u001b[0m\n\u001b[0;32m-> 4115\u001b[0;31m                   silent, early_stopping_rounds, save_snapshot, snapshot_file, snapshot_interval, init_model)\n\u001b[0m\u001b[1;32m   4116\u001b[0m         \u001b[0;32mreturn\u001b[0m \u001b[0mself\u001b[0m\u001b[0;34m\u001b[0m\u001b[0;34m\u001b[0m\u001b[0m\n\u001b[1;32m   4117\u001b[0m \u001b[0;34m\u001b[0m\u001b[0m\n",
      "\u001b[0;32m~/opt/anaconda3/lib/python3.7/site-packages/catboost/core.py\u001b[0m in \u001b[0;36m_fit\u001b[0;34m(self, X, y, cat_features, text_features, pairs, sample_weight, group_id, group_weight, subgroup_id, pairs_weight, baseline, use_best_model, eval_set, verbose, logging_level, plot, column_description, verbose_eval, metric_period, silent, early_stopping_rounds, save_snapshot, snapshot_file, snapshot_interval, init_model)\u001b[0m\n\u001b[1;32m   1741\u001b[0m                 \u001b[0mparams\u001b[0m\u001b[0;34m,\u001b[0m\u001b[0;34m\u001b[0m\u001b[0;34m\u001b[0m\u001b[0m\n\u001b[1;32m   1742\u001b[0m                 \u001b[0mallow_clear_pool\u001b[0m\u001b[0;34m,\u001b[0m\u001b[0;34m\u001b[0m\u001b[0;34m\u001b[0m\u001b[0m\n\u001b[0;32m-> 1743\u001b[0;31m                 \u001b[0mtrain_params\u001b[0m\u001b[0;34m[\u001b[0m\u001b[0;34m\"init_model\"\u001b[0m\u001b[0;34m]\u001b[0m\u001b[0;34m\u001b[0m\u001b[0;34m\u001b[0m\u001b[0m\n\u001b[0m\u001b[1;32m   1744\u001b[0m             )\n\u001b[1;32m   1745\u001b[0m \u001b[0;34m\u001b[0m\u001b[0m\n",
      "\u001b[0;32m~/opt/anaconda3/lib/python3.7/site-packages/catboost/core.py\u001b[0m in \u001b[0;36m_train\u001b[0;34m(self, train_pool, test_pool, params, allow_clear_pool, init_model)\u001b[0m\n\u001b[1;32m   1228\u001b[0m \u001b[0;34m\u001b[0m\u001b[0m\n\u001b[1;32m   1229\u001b[0m     \u001b[0;32mdef\u001b[0m \u001b[0m_train\u001b[0m\u001b[0;34m(\u001b[0m\u001b[0mself\u001b[0m\u001b[0;34m,\u001b[0m \u001b[0mtrain_pool\u001b[0m\u001b[0;34m,\u001b[0m \u001b[0mtest_pool\u001b[0m\u001b[0;34m,\u001b[0m \u001b[0mparams\u001b[0m\u001b[0;34m,\u001b[0m \u001b[0mallow_clear_pool\u001b[0m\u001b[0;34m,\u001b[0m \u001b[0minit_model\u001b[0m\u001b[0;34m)\u001b[0m\u001b[0;34m:\u001b[0m\u001b[0;34m\u001b[0m\u001b[0;34m\u001b[0m\u001b[0m\n\u001b[0;32m-> 1230\u001b[0;31m         \u001b[0mself\u001b[0m\u001b[0;34m.\u001b[0m\u001b[0m_object\u001b[0m\u001b[0;34m.\u001b[0m\u001b[0m_train\u001b[0m\u001b[0;34m(\u001b[0m\u001b[0mtrain_pool\u001b[0m\u001b[0;34m,\u001b[0m \u001b[0mtest_pool\u001b[0m\u001b[0;34m,\u001b[0m \u001b[0mparams\u001b[0m\u001b[0;34m,\u001b[0m \u001b[0mallow_clear_pool\u001b[0m\u001b[0;34m,\u001b[0m \u001b[0minit_model\u001b[0m\u001b[0;34m.\u001b[0m\u001b[0m_object\u001b[0m \u001b[0;32mif\u001b[0m \u001b[0minit_model\u001b[0m \u001b[0;32melse\u001b[0m \u001b[0;32mNone\u001b[0m\u001b[0;34m)\u001b[0m\u001b[0;34m\u001b[0m\u001b[0;34m\u001b[0m\u001b[0m\n\u001b[0m\u001b[1;32m   1231\u001b[0m         \u001b[0mself\u001b[0m\u001b[0;34m.\u001b[0m\u001b[0m_set_trained_model_attributes\u001b[0m\u001b[0;34m(\u001b[0m\u001b[0;34m)\u001b[0m\u001b[0;34m\u001b[0m\u001b[0;34m\u001b[0m\u001b[0m\n\u001b[1;32m   1232\u001b[0m \u001b[0;34m\u001b[0m\u001b[0m\n",
      "\u001b[0;32m_catboost.pyx\u001b[0m in \u001b[0;36m_catboost._CatBoost._train\u001b[0;34m()\u001b[0m\n",
      "\u001b[0;32m_catboost.pyx\u001b[0m in \u001b[0;36m_catboost._CatBoost._train\u001b[0;34m()\u001b[0m\n",
      "\u001b[0;31mCatBoostError\u001b[0m: catboost/libs/train_lib/train_model.cpp:916: Can't load GPU learning library. Module was not compiled or driver  is incompatible with package. Please install latest NVDIA driver and check again"
     ]
    }
   ],
   "source": [
    "cb_model_gpu.fit(X_train, y_train)"
   ]
  },
  {
   "cell_type": "code",
   "execution_count": 21,
   "metadata": {},
   "outputs": [],
   "source": [
    "import pandas as pd"
   ]
  },
  {
   "cell_type": "code",
   "execution_count": 22,
   "metadata": {},
   "outputs": [],
   "source": [
    "df = pd.read_csv('/Users/makhanov/Dropbox/Yessenov Data Lab/Week 3/Day 5/heart.csv')"
   ]
  },
  {
   "cell_type": "code",
   "execution_count": 109,
   "metadata": {},
   "outputs": [
    {
     "data": {
      "text/html": [
       "<div>\n",
       "<style scoped>\n",
       "    .dataframe tbody tr th:only-of-type {\n",
       "        vertical-align: middle;\n",
       "    }\n",
       "\n",
       "    .dataframe tbody tr th {\n",
       "        vertical-align: top;\n",
       "    }\n",
       "\n",
       "    .dataframe thead th {\n",
       "        text-align: right;\n",
       "    }\n",
       "</style>\n",
       "<table border=\"1\" class=\"dataframe\">\n",
       "  <thead>\n",
       "    <tr style=\"text-align: right;\">\n",
       "      <th></th>\n",
       "      <th>age</th>\n",
       "      <th>sex</th>\n",
       "      <th>cp</th>\n",
       "      <th>trestbps</th>\n",
       "      <th>chol</th>\n",
       "      <th>fbs</th>\n",
       "      <th>restecg</th>\n",
       "      <th>thalach</th>\n",
       "      <th>exang</th>\n",
       "      <th>oldpeak</th>\n",
       "      <th>slope</th>\n",
       "      <th>ca</th>\n",
       "      <th>thal</th>\n",
       "      <th>target</th>\n",
       "    </tr>\n",
       "  </thead>\n",
       "  <tbody>\n",
       "    <tr>\n",
       "      <th>count</th>\n",
       "      <td>303.000000</td>\n",
       "      <td>303.000000</td>\n",
       "      <td>303.000000</td>\n",
       "      <td>303.000000</td>\n",
       "      <td>303.000000</td>\n",
       "      <td>303.000000</td>\n",
       "      <td>303.000000</td>\n",
       "      <td>303.000000</td>\n",
       "      <td>303.000000</td>\n",
       "      <td>303.000000</td>\n",
       "      <td>303.000000</td>\n",
       "      <td>303.000000</td>\n",
       "      <td>303.000000</td>\n",
       "      <td>303.000000</td>\n",
       "    </tr>\n",
       "    <tr>\n",
       "      <th>mean</th>\n",
       "      <td>54.366337</td>\n",
       "      <td>0.683168</td>\n",
       "      <td>0.966997</td>\n",
       "      <td>131.623762</td>\n",
       "      <td>246.264026</td>\n",
       "      <td>0.148515</td>\n",
       "      <td>0.528053</td>\n",
       "      <td>149.646865</td>\n",
       "      <td>0.326733</td>\n",
       "      <td>1.039604</td>\n",
       "      <td>1.399340</td>\n",
       "      <td>0.729373</td>\n",
       "      <td>2.313531</td>\n",
       "      <td>0.544554</td>\n",
       "    </tr>\n",
       "    <tr>\n",
       "      <th>std</th>\n",
       "      <td>9.082101</td>\n",
       "      <td>0.466011</td>\n",
       "      <td>1.032052</td>\n",
       "      <td>17.538143</td>\n",
       "      <td>51.830751</td>\n",
       "      <td>0.356198</td>\n",
       "      <td>0.525860</td>\n",
       "      <td>22.905161</td>\n",
       "      <td>0.469794</td>\n",
       "      <td>1.161075</td>\n",
       "      <td>0.616226</td>\n",
       "      <td>1.022606</td>\n",
       "      <td>0.612277</td>\n",
       "      <td>0.498835</td>\n",
       "    </tr>\n",
       "    <tr>\n",
       "      <th>min</th>\n",
       "      <td>29.000000</td>\n",
       "      <td>0.000000</td>\n",
       "      <td>0.000000</td>\n",
       "      <td>94.000000</td>\n",
       "      <td>126.000000</td>\n",
       "      <td>0.000000</td>\n",
       "      <td>0.000000</td>\n",
       "      <td>71.000000</td>\n",
       "      <td>0.000000</td>\n",
       "      <td>0.000000</td>\n",
       "      <td>0.000000</td>\n",
       "      <td>0.000000</td>\n",
       "      <td>0.000000</td>\n",
       "      <td>0.000000</td>\n",
       "    </tr>\n",
       "    <tr>\n",
       "      <th>25%</th>\n",
       "      <td>47.500000</td>\n",
       "      <td>0.000000</td>\n",
       "      <td>0.000000</td>\n",
       "      <td>120.000000</td>\n",
       "      <td>211.000000</td>\n",
       "      <td>0.000000</td>\n",
       "      <td>0.000000</td>\n",
       "      <td>133.500000</td>\n",
       "      <td>0.000000</td>\n",
       "      <td>0.000000</td>\n",
       "      <td>1.000000</td>\n",
       "      <td>0.000000</td>\n",
       "      <td>2.000000</td>\n",
       "      <td>0.000000</td>\n",
       "    </tr>\n",
       "    <tr>\n",
       "      <th>50%</th>\n",
       "      <td>55.000000</td>\n",
       "      <td>1.000000</td>\n",
       "      <td>1.000000</td>\n",
       "      <td>130.000000</td>\n",
       "      <td>240.000000</td>\n",
       "      <td>0.000000</td>\n",
       "      <td>1.000000</td>\n",
       "      <td>153.000000</td>\n",
       "      <td>0.000000</td>\n",
       "      <td>0.800000</td>\n",
       "      <td>1.000000</td>\n",
       "      <td>0.000000</td>\n",
       "      <td>2.000000</td>\n",
       "      <td>1.000000</td>\n",
       "    </tr>\n",
       "    <tr>\n",
       "      <th>75%</th>\n",
       "      <td>61.000000</td>\n",
       "      <td>1.000000</td>\n",
       "      <td>2.000000</td>\n",
       "      <td>140.000000</td>\n",
       "      <td>274.500000</td>\n",
       "      <td>0.000000</td>\n",
       "      <td>1.000000</td>\n",
       "      <td>166.000000</td>\n",
       "      <td>1.000000</td>\n",
       "      <td>1.600000</td>\n",
       "      <td>2.000000</td>\n",
       "      <td>1.000000</td>\n",
       "      <td>3.000000</td>\n",
       "      <td>1.000000</td>\n",
       "    </tr>\n",
       "    <tr>\n",
       "      <th>max</th>\n",
       "      <td>77.000000</td>\n",
       "      <td>1.000000</td>\n",
       "      <td>3.000000</td>\n",
       "      <td>200.000000</td>\n",
       "      <td>564.000000</td>\n",
       "      <td>1.000000</td>\n",
       "      <td>2.000000</td>\n",
       "      <td>202.000000</td>\n",
       "      <td>1.000000</td>\n",
       "      <td>6.200000</td>\n",
       "      <td>2.000000</td>\n",
       "      <td>4.000000</td>\n",
       "      <td>3.000000</td>\n",
       "      <td>1.000000</td>\n",
       "    </tr>\n",
       "  </tbody>\n",
       "</table>\n",
       "</div>"
      ],
      "text/plain": [
       "              age         sex          cp    trestbps        chol         fbs  \\\n",
       "count  303.000000  303.000000  303.000000  303.000000  303.000000  303.000000   \n",
       "mean    54.366337    0.683168    0.966997  131.623762  246.264026    0.148515   \n",
       "std      9.082101    0.466011    1.032052   17.538143   51.830751    0.356198   \n",
       "min     29.000000    0.000000    0.000000   94.000000  126.000000    0.000000   \n",
       "25%     47.500000    0.000000    0.000000  120.000000  211.000000    0.000000   \n",
       "50%     55.000000    1.000000    1.000000  130.000000  240.000000    0.000000   \n",
       "75%     61.000000    1.000000    2.000000  140.000000  274.500000    0.000000   \n",
       "max     77.000000    1.000000    3.000000  200.000000  564.000000    1.000000   \n",
       "\n",
       "          restecg     thalach       exang     oldpeak       slope          ca  \\\n",
       "count  303.000000  303.000000  303.000000  303.000000  303.000000  303.000000   \n",
       "mean     0.528053  149.646865    0.326733    1.039604    1.399340    0.729373   \n",
       "std      0.525860   22.905161    0.469794    1.161075    0.616226    1.022606   \n",
       "min      0.000000   71.000000    0.000000    0.000000    0.000000    0.000000   \n",
       "25%      0.000000  133.500000    0.000000    0.000000    1.000000    0.000000   \n",
       "50%      1.000000  153.000000    0.000000    0.800000    1.000000    0.000000   \n",
       "75%      1.000000  166.000000    1.000000    1.600000    2.000000    1.000000   \n",
       "max      2.000000  202.000000    1.000000    6.200000    2.000000    4.000000   \n",
       "\n",
       "             thal      target  \n",
       "count  303.000000  303.000000  \n",
       "mean     2.313531    0.544554  \n",
       "std      0.612277    0.498835  \n",
       "min      0.000000    0.000000  \n",
       "25%      2.000000    0.000000  \n",
       "50%      2.000000    1.000000  \n",
       "75%      3.000000    1.000000  \n",
       "max      3.000000    1.000000  "
      ]
     },
     "execution_count": 109,
     "metadata": {},
     "output_type": "execute_result"
    }
   ],
   "source": [
    "df.describe()"
   ]
  },
  {
   "cell_type": "code",
   "execution_count": 122,
   "metadata": {},
   "outputs": [
    {
     "name": "stdout",
     "output_type": "stream",
     "text": [
      "<class 'pandas.core.frame.DataFrame'>\n",
      "RangeIndex: 303 entries, 0 to 302\n",
      "Data columns (total 14 columns):\n",
      " #   Column    Non-Null Count  Dtype  \n",
      "---  ------    --------------  -----  \n",
      " 0   age       303 non-null    int64  \n",
      " 1   sex       303 non-null    int64  \n",
      " 2   cp        303 non-null    int64  \n",
      " 3   trestbps  303 non-null    int64  \n",
      " 4   chol      303 non-null    int64  \n",
      " 5   fbs       303 non-null    int64  \n",
      " 6   restecg   303 non-null    int64  \n",
      " 7   thalach   303 non-null    int64  \n",
      " 8   exang     303 non-null    int64  \n",
      " 9   oldpeak   303 non-null    float64\n",
      " 10  slope     303 non-null    int64  \n",
      " 11  ca        303 non-null    int64  \n",
      " 12  thal      303 non-null    int64  \n",
      " 13  target    303 non-null    int64  \n",
      "dtypes: float64(1), int64(13)\n",
      "memory usage: 33.3 KB\n"
     ]
    }
   ],
   "source": [
    "df.info()"
   ]
  },
  {
   "cell_type": "code",
   "execution_count": 24,
   "metadata": {},
   "outputs": [],
   "source": [
    "X = df.drop('target', axis=1)\n",
    "y = df['target']"
   ]
  },
  {
   "cell_type": "code",
   "execution_count": 102,
   "metadata": {},
   "outputs": [],
   "source": [
    "import matplotlib.pyplot as plt\n",
    "import seaborn as sns"
   ]
  },
  {
   "cell_type": "code",
   "execution_count": 108,
   "metadata": {},
   "outputs": [
    {
     "data": {
      "text/plain": [
       "<matplotlib.axes._subplots.AxesSubplot at 0x7fae3d8d5790>"
      ]
     },
     "execution_count": 108,
     "metadata": {},
     "output_type": "execute_result"
    },
    {
     "data": {
      "image/png": "[encoded data removed]",
      "text/plain": [
       "<Figure size 432x288 with 1 Axes>"
      ]
     },
     "metadata": {
      "needs_background": "light"
     },
     "output_type": "display_data"
    }
   ],
   "source": [
    "df['age'].hist()"
   ]
  },
  {
   "cell_type": "code",
   "execution_count": 111,
   "metadata": {},
   "outputs": [
    {
     "data": {
      "text/plain": [
       "<matplotlib.axes._subplots.AxesSubplot at 0x7fae3da1f5d0>"
      ]
     },
     "execution_count": 111,
     "metadata": {},
     "output_type": "execute_result"
    },
    {
     "data": {
      "image/png": "[encoded data removed]",
      "text/plain": [
       "<Figure size 432x288 with 1 Axes>"
      ]
     },
     "metadata": {
      "needs_background": "light"
     },
     "output_type": "display_data"
    }
   ],
   "source": [
    "sns.countplot(df['sex'])"
   ]
  },
  {
   "cell_type": "code",
   "execution_count": 112,
   "metadata": {},
   "outputs": [
    {
     "data": {
      "text/plain": [
       "<matplotlib.axes._subplots.AxesSubplot at 0x7fae3da70590>"
      ]
     },
     "execution_count": 112,
     "metadata": {},
     "output_type": "execute_result"
    },
    {
     "data": {
      "image/png": "[encoded data removed]",
      "text/plain": [
       "<Figure size 432x288 with 1 Axes>"
      ]
     },
     "metadata": {
      "needs_background": "light"
     },
     "output_type": "display_data"
    }
   ],
   "source": [
    "df['chol'].hist()"
   ]
  },
  {
   "cell_type": "code",
   "execution_count": 113,
   "metadata": {},
   "outputs": [
    {
     "data": {
      "text/plain": [
       "<matplotlib.axes._subplots.AxesSubplot at 0x7fae3db571d0>"
      ]
     },
     "execution_count": 113,
     "metadata": {},
     "output_type": "execute_result"
    },
    {
     "data": {
      "image/png": "[encoded data removed]",
      "text/plain": [
       "<Figure size 432x288 with 1 Axes>"
      ]
     },
     "metadata": {
      "needs_background": "light"
     },
     "output_type": "display_data"
    }
   ],
   "source": [
    "sns.countplot(df['fbs'])"
   ]
  },
  {
   "cell_type": "code",
   "execution_count": 114,
   "metadata": {},
   "outputs": [
    {
     "data": {
      "text/plain": [
       "<matplotlib.axes._subplots.AxesSubplot at 0x7fae3dc03550>"
      ]
     },
     "execution_count": 114,
     "metadata": {},
     "output_type": "execute_result"
    },
    {
     "data": {
      "image/png": "[encoded data removed]",
      "text/plain": [
       "<Figure size 432x288 with 1 Axes>"
      ]
     },
     "metadata": {
      "needs_background": "light"
     },
     "output_type": "display_data"
    }
   ],
   "source": [
    "sns.countplot(df['restecg'])"
   ]
  },
  {
   "cell_type": "code",
   "execution_count": 115,
   "metadata": {},
   "outputs": [
    {
     "data": {
      "text/plain": [
       "<matplotlib.axes._subplots.AxesSubplot at 0x7fae3dc9cf50>"
      ]
     },
     "execution_count": 115,
     "metadata": {},
     "output_type": "execute_result"
    },
    {
     "data": {
      "image/png": "[encoded data removed]",
      "text/plain": [
       "<Figure size 432x288 with 1 Axes>"
      ]
     },
     "metadata": {
      "needs_background": "light"
     },
     "output_type": "display_data"
    }
   ],
   "source": [
    "df['trestbps'].hist()"
   ]
  },
  {
   "cell_type": "code",
   "execution_count": 116,
   "metadata": {},
   "outputs": [
    {
     "data": {
      "text/plain": [
       "<matplotlib.axes._subplots.AxesSubplot at 0x7fae3ddc3b50>"
      ]
     },
     "execution_count": 116,
     "metadata": {},
     "output_type": "execute_result"
    },
    {
     "data": {
      "image/png": "[encoded data removed]",
      "text/plain": [
       "<Figure size 432x288 with 1 Axes>"
      ]
     },
     "metadata": {
      "needs_background": "light"
     },
     "output_type": "display_data"
    }
   ],
   "source": [
    "df['thalach'].hist()"
   ]
  },
  {
   "cell_type": "code",
   "execution_count": 117,
   "metadata": {},
   "outputs": [
    {
     "data": {
      "text/plain": [
       "<matplotlib.axes._subplots.AxesSubplot at 0x7fae3deba990>"
      ]
     },
     "execution_count": 117,
     "metadata": {},
     "output_type": "execute_result"
    },
    {
     "data": {
      "image/png": "[encoded data removed]",
      "text/plain": [
       "<Figure size 432x288 with 1 Axes>"
      ]
     },
     "metadata": {
      "needs_background": "light"
     },
     "output_type": "display_data"
    }
   ],
   "source": [
    "sns.countplot(df['slope'])"
   ]
  },
  {
   "cell_type": "code",
   "execution_count": 118,
   "metadata": {},
   "outputs": [
    {
     "data": {
      "text/plain": [
       "<matplotlib.axes._subplots.AxesSubplot at 0x7fae3df5efd0>"
      ]
     },
     "execution_count": 118,
     "metadata": {},
     "output_type": "execute_result"
    },
    {
     "data": {
      "image/png": "[encoded data removed]",
      "text/plain": [
       "<Figure size 432x288 with 1 Axes>"
      ]
     },
     "metadata": {
      "needs_background": "light"
     },
     "output_type": "display_data"
    }
   ],
   "source": [
    "sns.countplot(df['ca'])"
   ]
  },
  {
   "cell_type": "code",
   "execution_count": 119,
   "metadata": {},
   "outputs": [
    {
     "data": {
      "text/plain": [
       "<matplotlib.axes._subplots.AxesSubplot at 0x7fae3debad10>"
      ]
     },
     "execution_count": 119,
     "metadata": {},
     "output_type": "execute_result"
    },
    {
     "data": {
      "image/png": "[encoded data removed]",
      "text/plain": [
       "<Figure size 432x288 with 1 Axes>"
      ]
     },
     "metadata": {
      "needs_background": "light"
     },
     "output_type": "display_data"
    }
   ],
   "source": [
    "sns.countplot(df['target'])"
   ]
  },
  {
   "cell_type": "code",
   "execution_count": 126,
   "metadata": {},
   "outputs": [
    {
     "data": {
      "text/plain": [
       "<matplotlib.axes._subplots.AxesSubplot at 0x7fae3e4b1390>"
      ]
     },
     "execution_count": 126,
     "metadata": {},
     "output_type": "execute_result"
    },
    {
     "data": {
      "image/png": "[encoded data removed]",
      "text/plain": [
       "<Figure size 432x288 with 2 Axes>"
      ]
     },
     "metadata": {
      "needs_background": "light"
     },
     "output_type": "display_data"
    }
   ],
   "source": [
    "sns.heatmap(df.corr(), annot=True)"
   ]
  },
  {
   "cell_type": "code",
   "execution_count": 121,
   "metadata": {},
   "outputs": [
    {
     "data": {
      "text/html": [
       "<div>\n",
       "<style scoped>\n",
       "    .dataframe tbody tr th:only-of-type {\n",
       "        vertical-align: middle;\n",
       "    }\n",
       "\n",
       "    .dataframe tbody tr th {\n",
       "        vertical-align: top;\n",
       "    }\n",
       "\n",
       "    .dataframe thead th {\n",
       "        text-align: right;\n",
       "    }\n",
       "</style>\n",
       "<table border=\"1\" class=\"dataframe\">\n",
       "  <thead>\n",
       "    <tr style=\"text-align: right;\">\n",
       "      <th></th>\n",
       "      <th>age</th>\n",
       "      <th>sex</th>\n",
       "      <th>cp</th>\n",
       "      <th>trestbps</th>\n",
       "      <th>chol</th>\n",
       "      <th>fbs</th>\n",
       "      <th>restecg</th>\n",
       "      <th>thalach</th>\n",
       "      <th>exang</th>\n",
       "      <th>oldpeak</th>\n",
       "      <th>slope</th>\n",
       "      <th>ca</th>\n",
       "      <th>thal</th>\n",
       "      <th>target</th>\n",
       "    </tr>\n",
       "  </thead>\n",
       "  <tbody>\n",
       "    <tr>\n",
       "      <th>age</th>\n",
       "      <td>1.000000</td>\n",
       "      <td>-0.098447</td>\n",
       "      <td>-0.068653</td>\n",
       "      <td>0.279351</td>\n",
       "      <td>0.213678</td>\n",
       "      <td>0.121308</td>\n",
       "      <td>-0.116211</td>\n",
       "      <td>-0.398522</td>\n",
       "      <td>0.096801</td>\n",
       "      <td>0.210013</td>\n",
       "      <td>-0.168814</td>\n",
       "      <td>0.276326</td>\n",
       "      <td>0.068001</td>\n",
       "      <td>-0.225439</td>\n",
       "    </tr>\n",
       "    <tr>\n",
       "      <th>sex</th>\n",
       "      <td>-0.098447</td>\n",
       "      <td>1.000000</td>\n",
       "      <td>-0.049353</td>\n",
       "      <td>-0.056769</td>\n",
       "      <td>-0.197912</td>\n",
       "      <td>0.045032</td>\n",
       "      <td>-0.058196</td>\n",
       "      <td>-0.044020</td>\n",
       "      <td>0.141664</td>\n",
       "      <td>0.096093</td>\n",
       "      <td>-0.030711</td>\n",
       "      <td>0.118261</td>\n",
       "      <td>0.210041</td>\n",
       "      <td>-0.280937</td>\n",
       "    </tr>\n",
       "    <tr>\n",
       "      <th>cp</th>\n",
       "      <td>-0.068653</td>\n",
       "      <td>-0.049353</td>\n",
       "      <td>1.000000</td>\n",
       "      <td>0.047608</td>\n",
       "      <td>-0.076904</td>\n",
       "      <td>0.094444</td>\n",
       "      <td>0.044421</td>\n",
       "      <td>0.295762</td>\n",
       "      <td>-0.394280</td>\n",
       "      <td>-0.149230</td>\n",
       "      <td>0.119717</td>\n",
       "      <td>-0.181053</td>\n",
       "      <td>-0.161736</td>\n",
       "      <td>0.433798</td>\n",
       "    </tr>\n",
       "    <tr>\n",
       "      <th>trestbps</th>\n",
       "      <td>0.279351</td>\n",
       "      <td>-0.056769</td>\n",
       "      <td>0.047608</td>\n",
       "      <td>1.000000</td>\n",
       "      <td>0.123174</td>\n",
       "      <td>0.177531</td>\n",
       "      <td>-0.114103</td>\n",
       "      <td>-0.046698</td>\n",
       "      <td>0.067616</td>\n",
       "      <td>0.193216</td>\n",
       "      <td>-0.121475</td>\n",
       "      <td>0.101389</td>\n",
       "      <td>0.062210</td>\n",
       "      <td>-0.144931</td>\n",
       "    </tr>\n",
       "    <tr>\n",
       "      <th>chol</th>\n",
       "      <td>0.213678</td>\n",
       "      <td>-0.197912</td>\n",
       "      <td>-0.076904</td>\n",
       "      <td>0.123174</td>\n",
       "      <td>1.000000</td>\n",
       "      <td>0.013294</td>\n",
       "      <td>-0.151040</td>\n",
       "      <td>-0.009940</td>\n",
       "      <td>0.067023</td>\n",
       "      <td>0.053952</td>\n",
       "      <td>-0.004038</td>\n",
       "      <td>0.070511</td>\n",
       "      <td>0.098803</td>\n",
       "      <td>-0.085239</td>\n",
       "    </tr>\n",
       "    <tr>\n",
       "      <th>fbs</th>\n",
       "      <td>0.121308</td>\n",
       "      <td>0.045032</td>\n",
       "      <td>0.094444</td>\n",
       "      <td>0.177531</td>\n",
       "      <td>0.013294</td>\n",
       "      <td>1.000000</td>\n",
       "      <td>-0.084189</td>\n",
       "      <td>-0.008567</td>\n",
       "      <td>0.025665</td>\n",
       "      <td>0.005747</td>\n",
       "      <td>-0.059894</td>\n",
       "      <td>0.137979</td>\n",
       "      <td>-0.032019</td>\n",
       "      <td>-0.028046</td>\n",
       "    </tr>\n",
       "    <tr>\n",
       "      <th>restecg</th>\n",
       "      <td>-0.116211</td>\n",
       "      <td>-0.058196</td>\n",
       "      <td>0.044421</td>\n",
       "      <td>-0.114103</td>\n",
       "      <td>-0.151040</td>\n",
       "      <td>-0.084189</td>\n",
       "      <td>1.000000</td>\n",
       "      <td>0.044123</td>\n",
       "      <td>-0.070733</td>\n",
       "      <td>-0.058770</td>\n",
       "      <td>0.093045</td>\n",
       "      <td>-0.072042</td>\n",
       "      <td>-0.011981</td>\n",
       "      <td>0.137230</td>\n",
       "    </tr>\n",
       "    <tr>\n",
       "      <th>thalach</th>\n",
       "      <td>-0.398522</td>\n",
       "      <td>-0.044020</td>\n",
       "      <td>0.295762</td>\n",
       "      <td>-0.046698</td>\n",
       "      <td>-0.009940</td>\n",
       "      <td>-0.008567</td>\n",
       "      <td>0.044123</td>\n",
       "      <td>1.000000</td>\n",
       "      <td>-0.378812</td>\n",
       "      <td>-0.344187</td>\n",
       "      <td>0.386784</td>\n",
       "      <td>-0.213177</td>\n",
       "      <td>-0.096439</td>\n",
       "      <td>0.421741</td>\n",
       "    </tr>\n",
       "    <tr>\n",
       "      <th>exang</th>\n",
       "      <td>0.096801</td>\n",
       "      <td>0.141664</td>\n",
       "      <td>-0.394280</td>\n",
       "      <td>0.067616</td>\n",
       "      <td>0.067023</td>\n",
       "      <td>0.025665</td>\n",
       "      <td>-0.070733</td>\n",
       "      <td>-0.378812</td>\n",
       "      <td>1.000000</td>\n",
       "      <td>0.288223</td>\n",
       "      <td>-0.257748</td>\n",
       "      <td>0.115739</td>\n",
       "      <td>0.206754</td>\n",
       "      <td>-0.436757</td>\n",
       "    </tr>\n",
       "    <tr>\n",
       "      <th>oldpeak</th>\n",
       "      <td>0.210013</td>\n",
       "      <td>0.096093</td>\n",
       "      <td>-0.149230</td>\n",
       "      <td>0.193216</td>\n",
       "      <td>0.053952</td>\n",
       "      <td>0.005747</td>\n",
       "      <td>-0.058770</td>\n",
       "      <td>-0.344187</td>\n",
       "      <td>0.288223</td>\n",
       "      <td>1.000000</td>\n",
       "      <td>-0.577537</td>\n",
       "      <td>0.222682</td>\n",
       "      <td>0.210244</td>\n",
       "      <td>-0.430696</td>\n",
       "    </tr>\n",
       "    <tr>\n",
       "      <th>slope</th>\n",
       "      <td>-0.168814</td>\n",
       "      <td>-0.030711</td>\n",
       "      <td>0.119717</td>\n",
       "      <td>-0.121475</td>\n",
       "      <td>-0.004038</td>\n",
       "      <td>-0.059894</td>\n",
       "      <td>0.093045</td>\n",
       "      <td>0.386784</td>\n",
       "      <td>-0.257748</td>\n",
       "      <td>-0.577537</td>\n",
       "      <td>1.000000</td>\n",
       "      <td>-0.080155</td>\n",
       "      <td>-0.104764</td>\n",
       "      <td>0.345877</td>\n",
       "    </tr>\n",
       "    <tr>\n",
       "      <th>ca</th>\n",
       "      <td>0.276326</td>\n",
       "      <td>0.118261</td>\n",
       "      <td>-0.181053</td>\n",
       "      <td>0.101389</td>\n",
       "      <td>0.070511</td>\n",
       "      <td>0.137979</td>\n",
       "      <td>-0.072042</td>\n",
       "      <td>-0.213177</td>\n",
       "      <td>0.115739</td>\n",
       "      <td>0.222682</td>\n",
       "      <td>-0.080155</td>\n",
       "      <td>1.000000</td>\n",
       "      <td>0.151832</td>\n",
       "      <td>-0.391724</td>\n",
       "    </tr>\n",
       "    <tr>\n",
       "      <th>thal</th>\n",
       "      <td>0.068001</td>\n",
       "      <td>0.210041</td>\n",
       "      <td>-0.161736</td>\n",
       "      <td>0.062210</td>\n",
       "      <td>0.098803</td>\n",
       "      <td>-0.032019</td>\n",
       "      <td>-0.011981</td>\n",
       "      <td>-0.096439</td>\n",
       "      <td>0.206754</td>\n",
       "      <td>0.210244</td>\n",
       "      <td>-0.104764</td>\n",
       "      <td>0.151832</td>\n",
       "      <td>1.000000</td>\n",
       "      <td>-0.344029</td>\n",
       "    </tr>\n",
       "    <tr>\n",
       "      <th>target</th>\n",
       "      <td>-0.225439</td>\n",
       "      <td>-0.280937</td>\n",
       "      <td>0.433798</td>\n",
       "      <td>-0.144931</td>\n",
       "      <td>-0.085239</td>\n",
       "      <td>-0.028046</td>\n",
       "      <td>0.137230</td>\n",
       "      <td>0.421741</td>\n",
       "      <td>-0.436757</td>\n",
       "      <td>-0.430696</td>\n",
       "      <td>0.345877</td>\n",
       "      <td>-0.391724</td>\n",
       "      <td>-0.344029</td>\n",
       "      <td>1.000000</td>\n",
       "    </tr>\n",
       "  </tbody>\n",
       "</table>\n",
       "</div>"
      ],
      "text/plain": [
       "               age       sex        cp  trestbps      chol       fbs  \\\n",
       "age       1.000000 -0.098447 -0.068653  0.279351  0.213678  0.121308   \n",
       "sex      -0.098447  1.000000 -0.049353 -0.056769 -0.197912  0.045032   \n",
       "cp       -0.068653 -0.049353  1.000000  0.047608 -0.076904  0.094444   \n",
       "trestbps  0.279351 -0.056769  0.047608  1.000000  0.123174  0.177531   \n",
       "chol      0.213678 -0.197912 -0.076904  0.123174  1.000000  0.013294   \n",
       "fbs       0.121308  0.045032  0.094444  0.177531  0.013294  1.000000   \n",
       "restecg  -0.116211 -0.058196  0.044421 -0.114103 -0.151040 -0.084189   \n",
       "thalach  -0.398522 -0.044020  0.295762 -0.046698 -0.009940 -0.008567   \n",
       "exang     0.096801  0.141664 -0.394280  0.067616  0.067023  0.025665   \n",
       "oldpeak   0.210013  0.096093 -0.149230  0.193216  0.053952  0.005747   \n",
       "slope    -0.168814 -0.030711  0.119717 -0.121475 -0.004038 -0.059894   \n",
       "ca        0.276326  0.118261 -0.181053  0.101389  0.070511  0.137979   \n",
       "thal      0.068001  0.210041 -0.161736  0.062210  0.098803 -0.032019   \n",
       "target   -0.225439 -0.280937  0.433798 -0.144931 -0.085239 -0.028046   \n",
       "\n",
       "           restecg   thalach     exang   oldpeak     slope        ca  \\\n",
       "age      -0.116211 -0.398522  0.096801  0.210013 -0.168814  0.276326   \n",
       "sex      -0.058196 -0.044020  0.141664  0.096093 -0.030711  0.118261   \n",
       "cp        0.044421  0.295762 -0.394280 -0.149230  0.119717 -0.181053   \n",
       "trestbps -0.114103 -0.046698  0.067616  0.193216 -0.121475  0.101389   \n",
       "chol     -0.151040 -0.009940  0.067023  0.053952 -0.004038  0.070511   \n",
       "fbs      -0.084189 -0.008567  0.025665  0.005747 -0.059894  0.137979   \n",
       "restecg   1.000000  0.044123 -0.070733 -0.058770  0.093045 -0.072042   \n",
       "thalach   0.044123  1.000000 -0.378812 -0.344187  0.386784 -0.213177   \n",
       "exang    -0.070733 -0.378812  1.000000  0.288223 -0.257748  0.115739   \n",
       "oldpeak  -0.058770 -0.344187  0.288223  1.000000 -0.577537  0.222682   \n",
       "slope     0.093045  0.386784 -0.257748 -0.577537  1.000000 -0.080155   \n",
       "ca       -0.072042 -0.213177  0.115739  0.222682 -0.080155  1.000000   \n",
       "thal     -0.011981 -0.096439  0.206754  0.210244 -0.104764  0.151832   \n",
       "target    0.137230  0.421741 -0.436757 -0.430696  0.345877 -0.391724   \n",
       "\n",
       "              thal    target  \n",
       "age       0.068001 -0.225439  \n",
       "sex       0.210041 -0.280937  \n",
       "cp       -0.161736  0.433798  \n",
       "trestbps  0.062210 -0.144931  \n",
       "chol      0.098803 -0.085239  \n",
       "fbs      -0.032019 -0.028046  \n",
       "restecg  -0.011981  0.137230  \n",
       "thalach  -0.096439  0.421741  \n",
       "exang     0.206754 -0.436757  \n",
       "oldpeak   0.210244 -0.430696  \n",
       "slope    -0.104764  0.345877  \n",
       "ca        0.151832 -0.391724  \n",
       "thal      1.000000 -0.344029  \n",
       "target   -0.344029  1.000000  "
      ]
     },
     "execution_count": 121,
     "metadata": {},
     "output_type": "execute_result"
    }
   ],
   "source": [
    "df.corr()"
   ]
  },
  {
   "cell_type": "code",
   "execution_count": null,
   "metadata": {},
   "outputs": [],
   "source": []
  },
  {
   "cell_type": "code",
   "execution_count": 25,
   "metadata": {},
   "outputs": [],
   "source": [
    "from sklearn.model_selection import train_test_split\n",
    "X_train, X_test, y_train, y_test = train_test_split(X, y, test_size=0.2,random_state=42)"
   ]
  },
  {
   "cell_type": "code",
   "execution_count": 28,
   "metadata": {},
   "outputs": [],
   "source": [
    "import lightgbm as lgb\n",
    "import xgboost as xgb"
   ]
  },
  {
   "cell_type": "code",
   "execution_count": 27,
   "metadata": {},
   "outputs": [
    {
     "name": "stdout",
     "output_type": "stream",
     "text": [
      "Collecting lightgbm\n",
      "  Downloading lightgbm-2.3.1-py2.py3-none-macosx_10_9_x86_64.macosx_10_10_x86_64.macosx_10_11_x86_64.macosx_10_12_x86_64.macosx_10_13_x86_64.macosx_10_14_x86_64.macosx_10_15_x86_64.whl (679 kB)\n",
      "\u001b[K     |████████████████████████████████| 679 kB 223 kB/s eta 0:00:01\n",
      "\u001b[?25hRequirement already satisfied: scipy in /Users/makhanov/opt/anaconda3/lib/python3.7/site-packages (from lightgbm) (1.5.0)\n",
      "Requirement already satisfied: numpy in /Users/makhanov/opt/anaconda3/lib/python3.7/site-packages (from lightgbm) (1.18.5)\n",
      "Requirement already satisfied: scikit-learn in /Users/makhanov/opt/anaconda3/lib/python3.7/site-packages (from lightgbm) (0.23.1)\n",
      "Requirement already satisfied: threadpoolctl>=2.0.0 in /Users/makhanov/opt/anaconda3/lib/python3.7/site-packages (from scikit-learn->lightgbm) (2.1.0)\n",
      "Requirement already satisfied: joblib>=0.11 in /Users/makhanov/opt/anaconda3/lib/python3.7/site-packages (from scikit-learn->lightgbm) (0.16.0)\n",
      "Installing collected packages: lightgbm\n",
      "Successfully installed lightgbm-2.3.1\n"
     ]
    }
   ],
   "source": [
    "!pip install lightgbm"
   ]
  },
  {
   "cell_type": "code",
   "execution_count": 42,
   "metadata": {},
   "outputs": [],
   "source": [
    "model_lgb = lgb.LGBMClassifier()\n",
    "model_lgb.fit(X_train, y_train)\n",
    "lgb_pred = model_lgb.predict(X_test)\n",
    "\n",
    "model_lgb_nik = lgb.LGBMClassifier(max_depth=50,  n_estimators=57,num_leaves=10)\n",
    "model_lgb_nik.fit(X_train, y_train)\n",
    "lgb_pred1 = model_lgb_nik.predict(X_test)\n",
    "\n",
    "model_xgb = xgb.XGBClassifier()\n",
    "model_xgb.fit(X_train, y_train)\n",
    "xgb_pred = model_xgb.predict(X_test)"
   ]
  },
  {
   "cell_type": "code",
   "execution_count": 43,
   "metadata": {},
   "outputs": [
    {
     "name": "stdout",
     "output_type": "stream",
     "text": [
      "LGB:               precision    recall  f1-score   support\n",
      "\n",
      "           0       0.83      0.86      0.85        29\n",
      "           1       0.87      0.84      0.86        32\n",
      "\n",
      "    accuracy                           0.85        61\n",
      "   macro avg       0.85      0.85      0.85        61\n",
      "weighted avg       0.85      0.85      0.85        61\n",
      "\n",
      "LGB1:               precision    recall  f1-score   support\n",
      "\n",
      "           0       0.86      0.86      0.86        29\n",
      "           1       0.88      0.88      0.88        32\n",
      "\n",
      "    accuracy                           0.87        61\n",
      "   macro avg       0.87      0.87      0.87        61\n",
      "weighted avg       0.87      0.87      0.87        61\n",
      "\n",
      "XGB:               precision    recall  f1-score   support\n",
      "\n",
      "           0       0.78      0.86      0.82        29\n",
      "           1       0.86      0.78      0.82        32\n",
      "\n",
      "    accuracy                           0.82        61\n",
      "   macro avg       0.82      0.82      0.82        61\n",
      "weighted avg       0.82      0.82      0.82        61\n",
      "\n"
     ]
    }
   ],
   "source": [
    "print('LGB:', classification_report(y_test, lgb_pred))\n",
    "print('LGB1:', classification_report(y_test, lgb_pred1))\n",
    "print('XGB:', classification_report(y_test, xgb_pred))"
   ]
  },
  {
   "cell_type": "code",
   "execution_count": 39,
   "metadata": {},
   "outputs": [
    {
     "data": {
      "text/plain": [
       "GridSearchCV(cv=5,\n",
       "             estimator=XGBClassifier(base_score=None, booster=None,\n",
       "                                     colsample_bylevel=None,\n",
       "                                     colsample_bynode=None,\n",
       "                                     colsample_bytree=None, gamma=None,\n",
       "                                     gpu_id=None, importance_type='gain',\n",
       "                                     interaction_constraints=None,\n",
       "                                     learning_rate=0.02, max_delta_step=None,\n",
       "                                     max_depth=None, min_child_weight=None,\n",
       "                                     missing=nan, monotone_constraints=None,\n",
       "                                     n_estimators=600, n_jobs=None,\n",
       "                                     num_parallel_tree=None, random_state=None,\n",
       "                                     reg_alpha=None, reg_lambda=None,\n",
       "                                     scale_pos_weight=None, subsample=None,\n",
       "                                     tree_method=None, validate_parameters=None,\n",
       "                                     verbosity=None),\n",
       "             param_grid={'colsample_bytree': [0.6, 0.8, 1.0],\n",
       "                         'gamma': [0.5, 1, 1.5, 2, 5], 'max_depth': [3, 4, 5],\n",
       "                         'min_child_weight': [1, 5, 10],\n",
       "                         'subsample': [0.6, 0.8, 1.0]})"
      ]
     },
     "execution_count": 39,
     "metadata": {},
     "output_type": "execute_result"
    }
   ],
   "source": [
    "from sklearn.model_selection import GridSearchCV\n",
    "model = xgb.XGBClassifier(learning_rate=0.02, n_estimators=600, objective='binary:logistic')\n",
    "\n",
    "params = {\n",
    "        'min_child_weight': [1, 5, 10],\n",
    "        'gamma': [0.5, 1, 1.5, 2, 5],\n",
    "        'subsample': [0.6, 0.8, 1.0],\n",
    "        'colsample_bytree': [0.6, 0.8, 1.0],\n",
    "        'max_depth': [3, 4, 5]\n",
    "        }\n",
    "\n",
    "cb_grid = GridSearchCV(model, params, cv=5)\n",
    "cb_grid.fit(X_train, y_train)"
   ]
  },
  {
   "cell_type": "code",
   "execution_count": 40,
   "metadata": {},
   "outputs": [
    {
     "name": "stdout",
     "output_type": "stream",
     "text": [
      "XGB:               precision    recall  f1-score   support\n",
      "\n",
      "           0       0.86      0.86      0.86        29\n",
      "           1       0.88      0.88      0.88        32\n",
      "\n",
      "    accuracy                           0.87        61\n",
      "   macro avg       0.87      0.87      0.87        61\n",
      "weighted avg       0.87      0.87      0.87        61\n",
      "\n"
     ]
    }
   ],
   "source": [
    "xgb_pred1 = cb_grid.predict(X_test)\n",
    "print('XGB:', classification_report(y_test, xgb_pred1))"
   ]
  },
  {
   "cell_type": "code",
   "execution_count": 46,
   "metadata": {},
   "outputs": [
    {
     "data": {
      "text/plain": [
       "GridSearchCV(cv=5,\n",
       "             estimator=XGBClassifier(base_score=None, booster=None,\n",
       "                                     colsample_bylevel=None,\n",
       "                                     colsample_bynode=None,\n",
       "                                     colsample_bytree=None, gamma=None,\n",
       "                                     gpu_id=None, importance_type='gain',\n",
       "                                     interaction_constraints=None,\n",
       "                                     learning_rate=0.1, max_delta_step=None,\n",
       "                                     max_depth=None, min_child_weight=None,\n",
       "                                     missing=nan, monotone_constraints=None,\n",
       "                                     n_estimators=600, n_jobs=None,\n",
       "                                     num_parallel_tree=None, random_state=None,\n",
       "                                     reg_alpha=None, reg_lambda=None,\n",
       "                                     scale_pos_weight=None, subsample=None,\n",
       "                                     tree_method=None, validate_parameters=None,\n",
       "                                     verbosity=None),\n",
       "             param_grid={'colsample_bytree': [0.6, 0.8, 1.0],\n",
       "                         'gamma': [0.5, 1, 1.5, 2, 5], 'max_depth': [3, 4, 5],\n",
       "                         'min_child_weight': [1, 5, 10],\n",
       "                         'subsample': [0.6, 0.8, 1.0]})"
      ]
     },
     "execution_count": 46,
     "metadata": {},
     "output_type": "execute_result"
    }
   ],
   "source": [
    "from sklearn.model_selection import GridSearchCV\n",
    "model = xgb.XGBClassifier(learning_rate=0.1, n_estimators=600, objective='binary:logistic')\n",
    "\n",
    "params = {\n",
    "        'min_child_weight': [1, 5, 10],\n",
    "        'gamma': [0.5, 1, 1.5, 2, 5],\n",
    "        'subsample': [0.6, 0.8, 1.0],\n",
    "        'colsample_bytree': [0.6, 0.8, 1.0],\n",
    "        'max_depth': [3, 4, 5]\n",
    "        }\n",
    "\n",
    "cb_grid = GridSearchCV(model, params, cv=)\n",
    "cb_grid.fit(X_train, y_train)"
   ]
  },
  {
   "cell_type": "code",
   "execution_count": 47,
   "metadata": {},
   "outputs": [
    {
     "name": "stdout",
     "output_type": "stream",
     "text": [
      "XGB:               precision    recall  f1-score   support\n",
      "\n",
      "           0       0.89      0.86      0.88        29\n",
      "           1       0.88      0.91      0.89        32\n",
      "\n",
      "    accuracy                           0.89        61\n",
      "   macro avg       0.89      0.88      0.88        61\n",
      "weighted avg       0.89      0.89      0.89        61\n",
      "\n"
     ]
    }
   ],
   "source": [
    "xgb_pred2 = cb_grid.predict(X_test)\n",
    "print('XGB:', classification_report(y_test, xgb_pred2))"
   ]
  },
  {
   "cell_type": "code",
   "execution_count": 52,
   "metadata": {},
   "outputs": [
    {
     "data": {
      "text/plain": [
       "{'colsample_bytree': 0.6,\n",
       " 'gamma': 1.5,\n",
       " 'max_depth': 3,\n",
       " 'min_child_weight': 10,\n",
       " 'subsample': 1.0}"
      ]
     },
     "execution_count": 52,
     "metadata": {},
     "output_type": "execute_result"
    }
   ],
   "source": [
    "cb_grid.best_params_"
   ]
  },
  {
   "cell_type": "code",
   "execution_count": 49,
   "metadata": {},
   "outputs": [],
   "source": [
    "from sklearn.ensemble import RandomForestClassifier\n",
    "from sklearn.tree import DecisionTreeClassifier\n",
    "from sklearn.preprocessing import StandardScaler"
   ]
  },
  {
   "cell_type": "code",
   "execution_count": 50,
   "metadata": {},
   "outputs": [],
   "source": [
    "scaler = StandardScaler()\n",
    "X_scaled = scaler.fit_transform(X,y)"
   ]
  },
  {
   "cell_type": "code",
   "execution_count": 51,
   "metadata": {},
   "outputs": [],
   "source": [
    "X_train, X_test, y_train, y_test = train_test_split(X_scaled, y, test_size=0.2, random_state=42)"
   ]
  },
  {
   "cell_type": "code",
   "execution_count": 53,
   "metadata": {},
   "outputs": [
    {
     "data": {
      "text/plain": [
       "XGBClassifier(base_score=0.5, booster='gbtree', colsample_bylevel=1,\n",
       "              colsample_bynode=1, colsample_bytree=0.6, gamma=1.5, gpu_id=-1,\n",
       "              importance_type='gain', interaction_constraints='',\n",
       "              learning_rate=0.1, max_delta_step=0, max_depth=3,\n",
       "              min_child_weight=10, missing=nan, monotone_constraints='()',\n",
       "              n_estimators=600, n_jobs=0, num_parallel_tree=1, random_state=0,\n",
       "              reg_alpha=0, reg_lambda=1, scale_pos_weight=1, subsample=1.0,\n",
       "              tree_method='exact', validate_parameters=1, verbosity=None)"
      ]
     },
     "execution_count": 53,
     "metadata": {},
     "output_type": "execute_result"
    }
   ],
   "source": [
    "model1 = xgb.XGBClassifier(learning_rate=0.1, n_estimators=600, \n",
    "                          objective='binary:logistic', \n",
    "                          colsample_bytree= 0.6,\n",
    "                         gamma=1.5,\n",
    "                         max_depth=3,\n",
    "                         min_child_weight= 10,\n",
    "                         subsample= 1.0)\n",
    "model1.fit(X_train, y_train)"
   ]
  },
  {
   "cell_type": "code",
   "execution_count": 54,
   "metadata": {},
   "outputs": [
    {
     "name": "stdout",
     "output_type": "stream",
     "text": [
      "XGB/wScaler:               precision    recall  f1-score   support\n",
      "\n",
      "           0       0.89      0.86      0.88        29\n",
      "           1       0.88      0.91      0.89        32\n",
      "\n",
      "    accuracy                           0.89        61\n",
      "   macro avg       0.89      0.88      0.88        61\n",
      "weighted avg       0.89      0.89      0.89        61\n",
      "\n"
     ]
    }
   ],
   "source": [
    "preds = model1.predict(X_test)\n",
    "print('XGB/wScaler:', classification_report(y_test, preds))"
   ]
  },
  {
   "cell_type": "code",
   "execution_count": 56,
   "metadata": {},
   "outputs": [
    {
     "name": "stdout",
     "output_type": "stream",
     "text": [
      "[14:47:48] WARNING: /Users/travis/build/dmlc/xgboost/src/learner.cc:480: \n",
      "Parameters: { cv } might not be used.\n",
      "\n",
      "  This may not be accurate due to some parameters are only used in language bindings but\n",
      "  passed down to XGBoost core.  Or some parameters are not used but slip through this\n",
      "  verification. Please open an issue if you find above cases.\n",
      "\n",
      "\n"
     ]
    },
    {
     "data": {
      "text/plain": [
       "XGBClassifier(base_score=0.5, booster='gbtree', colsample_bylevel=1,\n",
       "              colsample_bynode=1, colsample_bytree=0.6, cv=5, gamma=1.5,\n",
       "              gpu_id=-1, importance_type='gain', interaction_constraints='',\n",
       "              learning_rate=0.1, max_delta_step=0, max_depth=3,\n",
       "              min_child_weight=10, missing=nan, monotone_constraints='()',\n",
       "              n_estimators=600, n_jobs=0, num_parallel_tree=1, random_state=0,\n",
       "              reg_alpha=0, reg_lambda=1, scale_pos_weight=1, subsample=1.0,\n",
       "              tree_method='exact', validate_parameters=1, verbosity=None)"
      ]
     },
     "execution_count": 56,
     "metadata": {},
     "output_type": "execute_result"
    }
   ],
   "source": [
    "model1 = xgb.XGBClassifier(learning_rate=0.1, n_estimators=600, \n",
    "                          objective='binary:logistic', \n",
    "                          colsample_bytree= 0.6,\n",
    "                         gamma=1.5,\n",
    "                         max_depth=3,\n",
    "                         min_child_weight= 10,\n",
    "                         subsample= 1.0,\n",
    "                          cv=5)\n",
    "model1.fit(X_train, y_train)"
   ]
  },
  {
   "cell_type": "code",
   "execution_count": 55,
   "metadata": {},
   "outputs": [
    {
     "name": "stdout",
     "output_type": "stream",
     "text": [
      "RandomForest/wScaler:               precision    recall  f1-score   support\n",
      "\n",
      "           0       0.86      0.83      0.84        29\n",
      "           1       0.85      0.88      0.86        32\n",
      "\n",
      "    accuracy                           0.85        61\n",
      "   macro avg       0.85      0.85      0.85        61\n",
      "weighted avg       0.85      0.85      0.85        61\n",
      "\n",
      "DecisionTree/wScaler:               precision    recall  f1-score   support\n",
      "\n",
      "           0       0.79      0.90      0.84        29\n",
      "           1       0.89      0.78      0.83        32\n",
      "\n",
      "    accuracy                           0.84        61\n",
      "   macro avg       0.84      0.84      0.84        61\n",
      "weighted avg       0.84      0.84      0.84        61\n",
      "\n"
     ]
    }
   ],
   "source": [
    "rf_model = RandomForestClassifier()\n",
    "dt_model = DecisionTreeClassifier()\n",
    "\n",
    "rf_model.fit(X_train, y_train)\n",
    "dt_model.fit(X_train, y_train)\n",
    "\n",
    "rf_preds = rf_model.predict(X_test)\n",
    "print('RandomForest/wScaler:', classification_report(y_test, rf_preds))\n",
    "\n",
    "dt_preds = dt_model.predict(X_test)\n",
    "print('DecisionTree/wScaler:', classification_report(y_test, dt_preds))"
   ]
  },
  {
   "cell_type": "code",
   "execution_count": 74,
   "metadata": {},
   "outputs": [],
   "source": [
    "from imblearn.combine import SMOTETomek\n",
    "\n",
    "smotetomek = SMOTETomek()\n",
    "X_smote, y_smote = smotetomek.fit_sample(X_scaled, y)"
   ]
  },
  {
   "cell_type": "code",
   "execution_count": 66,
   "metadata": {},
   "outputs": [
    {
     "name": "stdout",
     "output_type": "stream",
     "text": [
      "XGB/wScaler/wSMOTE:               precision    recall  f1-score   support\n",
      "\n",
      "           0       0.97      0.94      0.95        31\n",
      "           1       0.94      0.97      0.95        30\n",
      "\n",
      "    accuracy                           0.95        61\n",
      "   macro avg       0.95      0.95      0.95        61\n",
      "weighted avg       0.95      0.95      0.95        61\n",
      "\n"
     ]
    }
   ],
   "source": [
    "X_train, X_test, y_train, y_test = train_test_split(X_smote, y_smote, test_size=0.2, random_state=42, stratify=y_smote)\n",
    "model3 = xgb.XGBClassifier(learning_rate=0.1, n_estimators=600, \n",
    "                          objective='binary:logistic', \n",
    "                          colsample_bytree= 0.6,\n",
    "                         gamma=1.5,\n",
    "                         max_depth=3,\n",
    "                         min_child_weight= 10,\n",
    "                         subsample= 1.0)\n",
    "model3.fit(X_train, y_train)\n",
    "preds_smote = model1.predict(X_test)\n",
    "print('XGB/wScaler/wSMOTE:', classification_report(y_test, preds_smote))"
   ]
  },
  {
   "cell_type": "code",
   "execution_count": 75,
   "metadata": {},
   "outputs": [
    {
     "name": "stdout",
     "output_type": "stream",
     "text": [
      "XGB/wScaler/wSMOTE:               precision    recall  f1-score   support\n",
      "\n",
      "           0       0.93      0.84      0.88        31\n",
      "           1       0.85      0.94      0.89        31\n",
      "\n",
      "    accuracy                           0.89        62\n",
      "   macro avg       0.89      0.89      0.89        62\n",
      "weighted avg       0.89      0.89      0.89        62\n",
      "\n"
     ]
    }
   ],
   "source": [
    "X_train, X_test, y_train, y_test = train_test_split(X_smote, y_smote, test_size=0.2, random_state=42, stratify=y_smote)\n",
    "model3 = xgb.XGBClassifier(learning_rate=0.1, n_estimators=600, \n",
    "                          objective='binary:logistic', \n",
    "                          colsample_bytree= 0.6,\n",
    "                         gamma=1.5,\n",
    "                         max_depth=3,\n",
    "                         min_child_weight= 10,\n",
    "                         subsample= 1.0)\n",
    "model3.fit(X_train, y_train)\n",
    "preds_smote = model3.predict(X_test)\n",
    "print('XGB/wScaler/wSMOTE:', classification_report(y_test, preds_smote))"
   ]
  },
  {
   "cell_type": "code",
   "execution_count": 76,
   "metadata": {},
   "outputs": [
    {
     "name": "stdout",
     "output_type": "stream",
     "text": [
      "RandomForest/wScaler:               precision    recall  f1-score   support\n",
      "\n",
      "           0       0.93      0.84      0.88        31\n",
      "           1       0.85      0.94      0.89        31\n",
      "\n",
      "    accuracy                           0.89        62\n",
      "   macro avg       0.89      0.89      0.89        62\n",
      "weighted avg       0.89      0.89      0.89        62\n",
      "\n",
      "DecisionTree/wScaler:               precision    recall  f1-score   support\n",
      "\n",
      "           0       0.88      0.90      0.89        31\n",
      "           1       0.90      0.87      0.89        31\n",
      "\n",
      "    accuracy                           0.89        62\n",
      "   macro avg       0.89      0.89      0.89        62\n",
      "weighted avg       0.89      0.89      0.89        62\n",
      "\n"
     ]
    }
   ],
   "source": [
    "rf_model = RandomForestClassifier()\n",
    "dt_model = DecisionTreeClassifier()\n",
    "\n",
    "rf_model.fit(X_train, y_train)\n",
    "dt_model.fit(X_train, y_train)\n",
    "\n",
    "rf_preds = rf_model.predict(X_test)\n",
    "print('RandomForest/wScaler:', classification_report(y_test, rf_preds))\n",
    "\n",
    "dt_preds = dt_model.predict(X_test)\n",
    "print('DecisionTree/wScaler:', classification_report(y_test, dt_preds))"
   ]
  },
  {
   "cell_type": "code",
   "execution_count": 77,
   "metadata": {},
   "outputs": [
    {
     "name": "stdout",
     "output_type": "stream",
     "text": [
      "XGB:               precision    recall  f1-score   support\n",
      "\n",
      "           0       0.96      0.84      0.90        31\n",
      "           1       0.86      0.97      0.91        31\n",
      "\n",
      "    accuracy                           0.90        62\n",
      "   macro avg       0.91      0.90      0.90        62\n",
      "weighted avg       0.91      0.90      0.90        62\n",
      "\n"
     ]
    }
   ],
   "source": [
    "from sklearn.model_selection import GridSearchCV\n",
    "model = xgb.XGBClassifier(learning_rate=0.1, n_estimators=600, objective='binary:logistic')\n",
    "\n",
    "params = {\n",
    "        'min_child_weight': [1, 5, 10],\n",
    "        'gamma': [0.5, 1, 1.5, 2, 5],\n",
    "        'subsample': [0.6, 0.8, 1.0],\n",
    "        'colsample_bytree': [0.6, 0.8, 1.0],\n",
    "        'max_depth': [3, 4, 5]\n",
    "        }\n",
    "\n",
    "cb_grid = GridSearchCV(model, params, cv=3)\n",
    "cb_grid.fit(X_train, y_train)\n",
    "xgb_pred2 = cb_grid.predict(X_test)\n",
    "print('XGB:', classification_report(y_test, xgb_pred2))"
   ]
  },
  {
   "cell_type": "code",
   "execution_count": 78,
   "metadata": {},
   "outputs": [
    {
     "name": "stdout",
     "output_type": "stream",
     "text": [
      "XGB:               precision    recall  f1-score   support\n",
      "\n",
      "           0       0.96      0.84      0.90        31\n",
      "           1       0.86      0.97      0.91        31\n",
      "\n",
      "    accuracy                           0.90        62\n",
      "   macro avg       0.91      0.90      0.90        62\n",
      "weighted avg       0.91      0.90      0.90        62\n",
      "\n"
     ]
    }
   ],
   "source": [
    "model = xgb.XGBClassifier(learning_rate=0.1, n_estimators=600, objective='binary:logistic')\n",
    "\n",
    "params = {\n",
    "        'min_child_weight': [1, 5, 10],\n",
    "        'gamma': [0.5, 1, 1.5, 2, 5],\n",
    "        'subsample': [0.6, 0.8, 1.0],\n",
    "        'colsample_bytree': [0.6, 0.8, 1.0],\n",
    "        'max_depth': [3, 4, 5]\n",
    "        }\n",
    "\n",
    "cb_grid = GridSearchCV(model, params)\n",
    "cb_grid.fit(X_train, y_train)\n",
    "xgb_pred2 = cb_grid.predict(X_test)\n",
    "print('XGB:', classification_report(y_test, xgb_pred2))"
   ]
  },
  {
   "cell_type": "code",
   "execution_count": 79,
   "metadata": {},
   "outputs": [
    {
     "name": "stdout",
     "output_type": "stream",
     "text": [
      "XGB:               precision    recall  f1-score   support\n",
      "\n",
      "           0       0.96      0.84      0.90        31\n",
      "           1       0.86      0.97      0.91        31\n",
      "\n",
      "    accuracy                           0.90        62\n",
      "   macro avg       0.91      0.90      0.90        62\n",
      "weighted avg       0.91      0.90      0.90        62\n",
      "\n"
     ]
    }
   ],
   "source": [
    "model = xgb.XGBClassifier(n_estimators=600, objective='binary:logistic')\n",
    "\n",
    "params = {\n",
    "        'learning_rate': [0.01, 0.02, 0.1],\n",
    "        'min_child_weight': [1, 5, 10],\n",
    "        'gamma': [0.5, 1, 1.5, 2, 5],\n",
    "        'subsample': [0.6, 0.8, 1.0],\n",
    "        'colsample_bytree': [0.6, 0.8, 1.0],\n",
    "        'max_depth': [3, 4, 5]\n",
    "        }\n",
    "\n",
    "cb_grid = GridSearchCV(model, params)\n",
    "cb_grid.fit(X_train, y_train)\n",
    "xgb_pred2 = cb_grid.predict(X_test)\n",
    "print('XGB:', classification_report(y_test, xgb_pred2))"
   ]
  },
  {
   "cell_type": "code",
   "execution_count": 80,
   "metadata": {},
   "outputs": [
    {
     "data": {
      "text/plain": [
       "{'colsample_bytree': 1.0,\n",
       " 'gamma': 1.5,\n",
       " 'learning_rate': 0.02,\n",
       " 'max_depth': 3,\n",
       " 'min_child_weight': 5,\n",
       " 'subsample': 0.6}"
      ]
     },
     "execution_count": 80,
     "metadata": {},
     "output_type": "execute_result"
    }
   ],
   "source": [
    "cb_grid.best_params_"
   ]
  },
  {
   "cell_type": "code",
   "execution_count": 84,
   "metadata": {},
   "outputs": [
    {
     "data": {
      "text/plain": [
       "248"
      ]
     },
     "execution_count": 84,
     "metadata": {},
     "output_type": "execute_result"
    }
   ],
   "source": [
    "len(X_train)"
   ]
  },
  {
   "cell_type": "code",
   "execution_count": 85,
   "metadata": {},
   "outputs": [
    {
     "data": {
      "text/plain": [
       "310"
      ]
     },
     "execution_count": 85,
     "metadata": {},
     "output_type": "execute_result"
    }
   ],
   "source": [
    "248+62"
   ]
  },
  {
   "cell_type": "code",
   "execution_count": 86,
   "metadata": {},
   "outputs": [
    {
     "data": {
      "text/plain": [
       "303"
      ]
     },
     "execution_count": 86,
     "metadata": {},
     "output_type": "execute_result"
    }
   ],
   "source": [
    "len(X)"
   ]
  },
  {
   "cell_type": "code",
   "execution_count": 90,
   "metadata": {},
   "outputs": [],
   "source": [
    "from catboost import CatBoostClassifier, Pool"
   ]
  },
  {
   "cell_type": "code",
   "execution_count": null,
   "metadata": {},
   "outputs": [],
   "source": []
  },
  {
   "cell_type": "code",
   "execution_count": 99,
   "metadata": {},
   "outputs": [],
   "source": [
    "train_data = Pool(data=X_train,\n",
    "                  label=y_train,\n",
    "                  #weight=[0.1, 0.2, 0.3]\n",
    "                 )\n",
    "test_data = Pool(data=X_test,\n",
    "                  label=y_test,\n",
    "                  #weight=[0.1, 0.2, 0.3]\n",
    "                 )"
   ]
  },
  {
   "cell_type": "code",
   "execution_count": 100,
   "metadata": {},
   "outputs": [
    {
     "name": "stdout",
     "output_type": "stream",
     "text": [
      "Learning rate set to 0.387583\n",
      "0:\tlearn: 0.6035964\ttotal: 1.56ms\tremaining: 14.1ms\n",
      "1:\tlearn: 0.5312347\ttotal: 3.22ms\tremaining: 12.9ms\n",
      "2:\tlearn: 0.4826040\ttotal: 4.82ms\tremaining: 11.2ms\n",
      "3:\tlearn: 0.4482893\ttotal: 6.08ms\tremaining: 9.13ms\n",
      "4:\tlearn: 0.4039474\ttotal: 8ms\tremaining: 8ms\n",
      "5:\tlearn: 0.3762806\ttotal: 9.69ms\tremaining: 6.46ms\n",
      "6:\tlearn: 0.3480677\ttotal: 11.1ms\tremaining: 4.74ms\n",
      "7:\tlearn: 0.3195700\ttotal: 12.5ms\tremaining: 3.12ms\n",
      "8:\tlearn: 0.3004898\ttotal: 14ms\tremaining: 1.55ms\n",
      "9:\tlearn: 0.2815910\ttotal: 15ms\tremaining: 0us\n"
     ]
    }
   ],
   "source": [
    "model = CatBoostClassifier(iterations=10)\n",
    "\n",
    "model.fit(train_data)\n",
    "preds_class = model.predict(test_data)"
   ]
  },
  {
   "cell_type": "code",
   "execution_count": 101,
   "metadata": {},
   "outputs": [
    {
     "name": "stdout",
     "output_type": "stream",
     "text": [
      "Pool:               precision    recall  f1-score   support\n",
      "\n",
      "           0       0.96      0.84      0.90        31\n",
      "           1       0.86      0.97      0.91        31\n",
      "\n",
      "    accuracy                           0.90        62\n",
      "   macro avg       0.91      0.90      0.90        62\n",
      "weighted avg       0.91      0.90      0.90        62\n",
      "\n"
     ]
    }
   ],
   "source": [
    "print('Pool:', classification_report(y_test, preds_class))"
   ]
  },
  {
   "cell_type": "code",
   "execution_count": null,
   "metadata": {},
   "outputs": [],
   "source": []
  },
  {
   "cell_type": "code",
   "execution_count": null,
   "metadata": {},
   "outputs": [],
   "source": []
  },
  {
   "cell_type": "code",
   "execution_count": null,
   "metadata": {},
   "outputs": [],
   "source": []
  },
  {
   "cell_type": "code",
   "execution_count": 105,
   "metadata": {},
   "outputs": [],
   "source": [
    "from imblearn.combine import SMOTETomek\n",
    "\n",
    "smotetomek = SMOTETomek()\n",
    "X_smote, y_smote = smotetomek.fit_sample(X, y)"
   ]
  },
  {
   "cell_type": "code",
   "execution_count": 125,
   "metadata": {},
   "outputs": [],
   "source": [
    "X_scaled = scaler.fit_transform(X_smote)"
   ]
  },
  {
   "cell_type": "code",
   "execution_count": 129,
   "metadata": {},
   "outputs": [],
   "source": [
    "X_train, X_test, y_train, y_test = train_test_split(X_scaled, y_smote, test_size=0.2, random_state=42)"
   ]
  },
  {
   "cell_type": "code",
   "execution_count": 132,
   "metadata": {},
   "outputs": [
    {
     "name": "stdout",
     "output_type": "stream",
     "text": [
      "XGB:               precision    recall  f1-score   support\n",
      "\n",
      "           0       0.77      0.89      0.83        27\n",
      "           1       0.88      0.75      0.81        28\n",
      "\n",
      "    accuracy                           0.82        55\n",
      "   macro avg       0.82      0.82      0.82        55\n",
      "weighted avg       0.83      0.82      0.82        55\n",
      "\n"
     ]
    }
   ],
   "source": [
    "model = xgb.XGBClassifier(n_jobs = -1, max_depth = 10, min_child_weight = 3, max_delta_step = 4)\n",
    "\n",
    "# params = {\n",
    "#         'learning_rate': [0.01, 0.02, 0.1],\n",
    "#         'min_child_weight': [1, 5, 10],\n",
    "#         'gamma': [0.5, 1, 1.5, 2, 5],\n",
    "#         'subsample': [0.6, 0.8, 1.0],\n",
    "#         'colsample_bytree': [0.6, 0.8, 1.0],\n",
    "#         'max_depth': [3, 4, 5]\n",
    "#         }\n",
    "\n",
    "# cb_grid = GridSearchCV(model, params)\n",
    "model.fit(X_train, y_train)\n",
    "xgb_pred2 = model.predict(X_test)\n",
    "print('XGB:', classification_report(y_test, xgb_pred2))"
   ]
  },
  {
   "cell_type": "code",
   "execution_count": null,
   "metadata": {},
   "outputs": [],
   "source": []
  }
 ],
 "metadata": {
  "kernelspec": {
   "display_name": "Python 3.7.6 64-bit ('anaconda3': virtualenv)",
   "language": "python",
   "name": "python37664bitanaconda3virtualenv34a0c15aecbc4cb1a7fd8a96550082d8"
  },
  "language_info": {
   "codemirror_mode": {
    "name": "ipython",
    "version": 3
   },
   "file_extension": ".py",
   "mimetype": "text/x-python",
   "name": "python",
   "nbconvert_exporter": "python",
   "pygments_lexer": "ipython3",
   "version": "3.7.7"
  }
 },
 "nbformat": 4,
 "nbformat_minor": 4
}
