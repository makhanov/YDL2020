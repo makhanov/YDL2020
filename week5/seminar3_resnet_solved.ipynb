{
 "cells": [
  {
   "cell_type": "code",
   "execution_count": 1,
   "metadata": {},
   "outputs": [],
   "source": [
    "import torch\n",
    "import torch.nn as nn\n",
    "import torch.nn.functional as F\n",
    "import torch.optim as optim\n",
    "import torchvision\n",
    "from torch.utils.data import Dataset, DataLoader\n",
    "from torchvision import transforms, utils\n",
    "\n",
    "import random\n",
    "import matplotlib.pyplot as plt"
   ]
  },
  {
   "cell_type": "code",
   "execution_count": 2,
   "metadata": {},
   "outputs": [
    {
     "data": {
      "text/plain": [
       "torch.Size([1, 224, 224])"
      ]
     },
     "execution_count": 2,
     "metadata": {},
     "output_type": "execute_result"
    }
   ],
   "source": [
    "# Чтобы датасет возвращал тензоры, а не  PIL.Image объекты, добавим трансформации\n",
    "# Нормализуем данные для более легкого обучения модели (mean, std посчитаны)\n",
    "transform=transforms.Compose([\n",
    "   transforms.Resize((224,224)),\n",
    "   transforms.ToTensor(),\n",
    "   transforms.Normalize((0.1307,), (0.3081,))\n",
    "])\n",
    "train_dataset = torchvision.datasets.MNIST(root='.', transform=transform, download=True)\n",
    "test_dataset  = torchvision.datasets.MNIST(root='.', transform=transform, train=False, download=True)\n",
    "train_dataset[0][0].shape"
   ]
  },
  {
   "cell_type": "code",
   "execution_count": 5,
   "metadata": {},
   "outputs": [
    {
     "name": "stdout",
     "output_type": "stream",
     "text": [
      "Digit: 1\n"
     ]
    },
    {
     "data": {
      "image/png": "[encoded data removed]",
      "text/plain": [
       "<Figure size 432x288 with 1 Axes>"
      ]
     },
     "metadata": {
      "needs_background": "light"
     },
     "output_type": "display_data"
    }
   ],
   "source": [
    "ind = random.randint(0, len(train_dataset)-1)\n",
    "plt.imshow(train_dataset[ind][0].squeeze(0))\n",
    "print('Digit:', train_dataset[ind][1])"
   ]
  },
  {
   "cell_type": "code",
   "execution_count": 6,
   "metadata": {},
   "outputs": [],
   "source": [
    "# Данные из датасета в модель будет отправлять Dataloader.\n",
    "# Он отвечает за сэмплирование данных, чтение (в т.ч. параллельное) с диска и собирание данных в батчи\n",
    "train_dataloader = DataLoader(train_dataset, batch_size=256, shuffle=True, num_workers=4)\n",
    "test_dataloader = DataLoader(test_dataset, batch_size=256, shuffle=True, num_workers=4)"
   ]
  },
  {
   "cell_type": "code",
   "execution_count": 7,
   "metadata": {},
   "outputs": [],
   "source": [
    "class ResBlock(nn.Module):\n",
    "    def __init__(self, channels):\n",
    "        super(ResBlock, self).__init__()\n",
    "        ### Your code here\n",
    "        self.conv1 = nn.Conv2d(channels, channels, 3, 1, 1)\n",
    "        self.conv2 = nn.Conv2d(channels, channels, 3, 1, 1)\n",
    "        self.bn1 = nn.BatchNorm2d(channels)\n",
    "        self.bn2 = nn.BatchNorm2d(channels)\n",
    "    \n",
    "    def forward(self, x):\n",
    "        ### Your code here\n",
    "        res = x\n",
    "        x = self.conv1(x)\n",
    "        x = self.bn1(x)\n",
    "        x = F.relu(x)\n",
    "        x = self.conv2(x)\n",
    "        x = x + res\n",
    "        x = self.bn2(x)\n",
    "        x = F.relu(x)\n",
    "        return x"
   ]
  },
  {
   "cell_type": "code",
   "execution_count": 65,
   "metadata": {},
   "outputs": [],
   "source": [
    "class ResNet(nn.Module):\n",
    "    def __init__(self):\n",
    "        super(ResNet, self).__init__()\n",
    "        ### Your code here\n",
    "        self.conv0 = nn.Conv2d(1, 64, 7, 2, 3)\n",
    "        self.maxpool = nn.MaxPool2d(3, 2, 1)\n",
    "        \n",
    "        self.res0 = nn.ModuleList([ResBlock(64) for i in range(3)])\n",
    "        \n",
    "        self.conv1_proj = nn.Conv2d(64, 128, 1, 2, 0)\n",
    "        self.conv1_0 = nn.Conv2d(64, 128, 3, 2, 1)\n",
    "        self.conv1_1 = nn.Conv2d(128, 128, 3, 1, 1)\n",
    "        self.bn1_0 = nn.BatchNorm2d(128)\n",
    "        self.bn1_1 = nn.BatchNorm2d(128)        \n",
    "        self.res1 = nn.ModuleList([ResBlock(128) for i in range(3)])\n",
    "        \n",
    "        self.conv2_proj = nn.Conv2d(128, 256, 1, 2, 0)\n",
    "        self.conv2_0 = nn.Conv2d(128, 256, 3, 2, 1)\n",
    "        self.conv2_1 = nn.Conv2d(256, 256, 3, 1, 1)\n",
    "        self.bn2_0 = nn.BatchNorm2d(256)\n",
    "        self.bn2_1 = nn.BatchNorm2d(256)        \n",
    "        self.res2 = nn.ModuleList([ResBlock(256) for i in range(5)])\n",
    "        \n",
    "        self.conv3_proj = nn.Conv2d(256, 512, 1, 2, 0)\n",
    "        self.conv3_0 = nn.Conv2d(256, 512, 3, 2, 1)\n",
    "        self.conv3_1 = nn.Conv2d(512, 512, 3, 1, 1)\n",
    "        self.bn3_0 = nn.BatchNorm2d(512)\n",
    "        self.bn3_1 = nn.BatchNorm2d(512)\n",
    "        self.res3 = nn.ModuleList([ResBlock(512) for i in range(2)])\n",
    "        \n",
    "        self.linear = nn.Linear(512, 10)\n",
    "        \n",
    "    def forward(self, x):\n",
    "        ### Your code here\n",
    "        x = self.conv0(x)\n",
    "        x = self.maxpool(x)\n",
    "        for resblock in self.res0:\n",
    "            x = resblock(x)\n",
    "        \n",
    "        res = self.conv1_proj(x)\n",
    "        x = self.conv1_0(x)\n",
    "        x = self.bn1_0(x)\n",
    "        x = F.relu(x)\n",
    "        x = self.conv1_1(x)\n",
    "        x = x + res\n",
    "        x = self.bn1_1(x)\n",
    "        x = F.relu(x)\n",
    "        for resblock in self.res1:\n",
    "            x = resblock(x)\n",
    "            \n",
    "        res = self.conv2_proj(x)\n",
    "        x = self.conv2_0(x)\n",
    "        x = self.bn2_0(x)\n",
    "        x = F.relu(x)\n",
    "        x = self.conv2_1(x)\n",
    "        x = x + res\n",
    "        x = self.bn2_1(x)\n",
    "        x = F.relu(x)\n",
    "        for resblock in self.res2:\n",
    "            x = resblock(x)\n",
    "            \n",
    "        res = self.conv3_proj(x)\n",
    "        x = self.conv3_0(x)\n",
    "        x = self.bn3_0(x)\n",
    "        x = F.relu(x)\n",
    "        x = self.conv3_1(x)\n",
    "        x = x + res  \n",
    "        x = self.bn3_1(x)\n",
    "        x = F.relu(x)\n",
    "        for resblock in self.res3:\n",
    "            x = resblock(x)\n",
    "            \n",
    "        x = x.mean(dim=[2, 3])\n",
    "        x = self.linear(x)\n",
    "        \n",
    "        return x"
   ]
  },
  {
   "cell_type": "code",
   "execution_count": 66,
   "metadata": {},
   "outputs": [
    {
     "name": "stdout",
     "output_type": "stream",
     "text": [
      "torch.Size([2, 10])\n"
     ]
    }
   ],
   "source": [
    "resnet = ResNet()\n",
    "x = torch.randn(2, 1, 224, 224)\n",
    "print(resnet(x).shape)"
   ]
  },
  {
   "cell_type": "code",
   "execution_count": 67,
   "metadata": {},
   "outputs": [
    {
     "name": "stdout",
     "output_type": "stream",
     "text": [
      "Train Epoch: 0 [0/60000 (0%)]\tLoss: 2.309625\n",
      "Train Epoch: 0 [10240/60000 (17%)]\tLoss: 1.893195\n",
      "Train Epoch: 0 [20480/60000 (34%)]\tLoss: 1.536962\n",
      "Train Epoch: 0 [30720/60000 (51%)]\tLoss: 1.122654\n",
      "Train Epoch: 0 [40960/60000 (68%)]\tLoss: 0.720539\n",
      "Train Epoch: 0 [51200/60000 (85%)]\tLoss: 0.412227\n",
      "Train Epoch: 1 [0/60000 (0%)]\tLoss: 0.360761\n",
      "Train Epoch: 1 [10240/60000 (17%)]\tLoss: 0.245708\n",
      "Train Epoch: 1 [20480/60000 (34%)]\tLoss: 0.182675\n",
      "Train Epoch: 1 [30720/60000 (51%)]\tLoss: 0.146739\n",
      "Train Epoch: 1 [40960/60000 (68%)]\tLoss: 0.109468\n",
      "Train Epoch: 1 [51200/60000 (85%)]\tLoss: 0.114828\n",
      "Train Epoch: 2 [0/60000 (0%)]\tLoss: 0.072703\n",
      "Train Epoch: 2 [10240/60000 (17%)]\tLoss: 0.134611\n",
      "Train Epoch: 2 [20480/60000 (34%)]\tLoss: 0.105601\n",
      "Train Epoch: 2 [30720/60000 (51%)]\tLoss: 0.072307\n",
      "Train Epoch: 2 [40960/60000 (68%)]\tLoss: 0.065803\n",
      "Train Epoch: 2 [51200/60000 (85%)]\tLoss: 0.076453\n"
     ]
    }
   ],
   "source": [
    "device = 'cuda' if torch.cuda.is_available() else 'cpu'\n",
    "model = ResNet().to(device)\n",
    "optimizer = optim.SGD(model.parameters(), lr=0.01)\n",
    "criterion = nn.CrossEntropyLoss()\n",
    "\n",
    "num_epochs = 3\n",
    "for epoch in range(num_epochs):\n",
    "    model.train()\n",
    "    for batch_idx, (data, target) in enumerate(train_dataloader):\n",
    "        data, target = data.to(device), target.to(device)\n",
    "        optimizer.zero_grad()\n",
    "        output = model(data)\n",
    "        loss = criterion(output, target)\n",
    "        loss.backward()\n",
    "        optimizer.step()\n",
    "        if batch_idx % 40 == 0:\n",
    "            print('Train Epoch: {} [{}/{} ({:.0f}%)]\\tLoss: {:.6f}'.format(\n",
    "                epoch, batch_idx * len(data), len(train_dataloader.dataset),\n",
    "                100. * batch_idx / len(train_dataloader), loss.item()))\n",
    "    ### YOUR CODE HERE:\n",
    "    # print test set accuracy after each epoch"
   ]
  },
  {
   "cell_type": "markdown",
   "metadata": {},
   "source": [
    "### Мы увидели, что лосс продолжает падать, так что несмотря на то, что предсказания неточные, есть смысл модель дообучить\n",
    "\n",
    "Выводы:\n",
    "1. Стоит итеративно дебажить модель, чтобы сразу находить ошибки\n",
    "2. Читать пейперы внимательно, иногда важные моменты (Batch Norm) написаны чуть ли не мелким шрифтом непонятно где, и это легко пропустить\n",
    "3. Всегда можно распечатать справку по нужному слою либо посмотреть в документацию пайторча, где в том числе покажут примеры применения\n",
    "4. Если непонятно, применимо ли что-то в вашем случае, всегда можно создать dummy переменную, прогнать через модель/слой/функцию, и убедиться, что все работает так, как нужно\n"
   ]
  },
  {
   "cell_type": "code",
   "execution_count": 77,
   "metadata": {},
   "outputs": [
    {
     "name": "stdout",
     "output_type": "stream",
     "text": [
      "Digit: 5 Pred: 9\n"
     ]
    },
    {
     "data": {
      "image/png": "[encoded data removed]",
      "text/plain": [
       "<Figure size 432x288 with 1 Axes>"
      ]
     },
     "metadata": {
      "needs_background": "light"
     },
     "output_type": "display_data"
    }
   ],
   "source": [
    "ind = random.randint(0, len(test_dataset)-1)\n",
    "plt.imshow(test_dataset[ind][0].squeeze(0))\n",
    "print('Digit:', test_dataset[ind][1], 'Pred:', torch.argmax(model(test_dataset[ind][0].unsqueeze(0).to(device))).item())"
   ]
  },
  {
   "cell_type": "code",
   "execution_count": null,
   "metadata": {},
   "outputs": [],
   "source": [
    "model(test_dataset[10][0].unsqueeze(0).to(device))"
   ]
  },
  {
   "cell_type": "code",
   "execution_count": null,
   "metadata": {},
   "outputs": [],
   "source": []
  },
  {
   "cell_type": "code",
   "execution_count": null,
   "metadata": {},
   "outputs": [],
   "source": []
  },
  {
   "cell_type": "code",
   "execution_count": null,
   "metadata": {},
   "outputs": [],
   "source": []
  }
 ],
 "metadata": {
  "hide_input": false,
  "kernelspec": {
   "display_name": "dl",
   "language": "python",
   "name": "dl"
  },
  "language_info": {
   "codemirror_mode": {
    "name": "ipython",
    "version": 3
   },
   "file_extension": ".py",
   "mimetype": "text/x-python",
   "name": "python",
   "nbconvert_exporter": "python",
   "pygments_lexer": "ipython3",
   "version": "3.6.7"
  },
  "varInspector": {
   "cols": {
    "lenName": 16,
    "lenType": 16,
    "lenVar": 40
   },
   "kernels_config": {
    "python": {
     "delete_cmd_postfix": "",
     "delete_cmd_prefix": "del ",
     "library": "var_list.py",
     "varRefreshCmd": "print(var_dic_list())"
    },
    "r": {
     "delete_cmd_postfix": ") ",
     "delete_cmd_prefix": "rm(",
     "library": "var_list.r",
     "varRefreshCmd": "cat(var_dic_list()) "
    }
   },
   "types_to_exclude": [
    "module",
    "function",
    "builtin_function_or_method",
    "instance",
    "_Feature"
   ],
   "window_display": false
  }
 },
 "nbformat": 4,
 "nbformat_minor": 2
}
